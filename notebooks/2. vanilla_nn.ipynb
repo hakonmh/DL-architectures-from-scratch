{
 "cells": [
  {
   "cell_type": "markdown",
   "metadata": {},
   "source": [
    "# A Simple Neural Network\n",
    "\n",
    "Training a neural network happens in two steps:\n",
    "\n",
    "**Forward Propagation**: In forward prop, the NN makes its best guess about the correct output. It runs the input data through each of its functions to make this guess.\n",
    "\n",
    "**Backward Propagation**: In backprop, the NN adjusts its parameters proportionate to the error in its guess. It does this by traversing backwards from the output, collecting the *derivatives* of the error with respect to the parameters of the functions (gradients), and uses this gradient to adjust its internal values.\n",
    "\n",
    "In the previous notebook we implemented the `Value` object, which is used to perform the backward propagation. In this notebook, we'll implement forward propagation from scratch. First for a single neuron, and then for a full neural network. We'll then combine forward and backward propagation to train a neural network on a real dataset."
   ]
  },
  {
   "cell_type": "code",
   "execution_count": 1,
   "metadata": {},
   "outputs": [],
   "source": [
    "# To allow importing modules from the nnfs directory, can be ignored\n",
    "import sys\n",
    "import os\n",
    "\n",
    "# Get the absolute path of the 'src' directory\n",
    "src_dir = os.path.abspath(os.path.join(os.getcwd(), os.pardir))\n",
    "\n",
    "# Add 'src' directory to the Python path\n",
    "if src_dir not in sys.path:\n",
    "    sys.path.append(src_dir)"
   ]
  },
  {
   "cell_type": "code",
   "execution_count": 2,
   "metadata": {},
   "outputs": [],
   "source": [
    "import random\n",
    "import math\n",
    "\n",
    "import numpy as np\n",
    "import matplotlib.pyplot as plt\n",
    "\n",
    "from nnfs.autograd import Value\n",
    "from nnfs.helpers import (\n",
    "    draw_dot, # Must first download graphviz at: https://graphviz.org/download/\n",
    "    np_array_to_list_of_values, \n",
    "    list_of_values_to_np_array\n",
    ")\n",
    "\n",
    "np.random.seed(42)\n",
    "random.seed(42)\n",
    "\n",
    "%matplotlib inline"
   ]
  },
  {
   "cell_type": "markdown",
   "metadata": {},
   "source": [
    "## The Neuron\n",
    "\n",
    "An artificial neuron is a fundamental building block of dense neural networks. It's inspired by biological neurons in the human brain, but is a simplified, mathematical model. The artificial neuron is illustrated below:\n",
    "\n",
    "![An artificial neuron](img/neuron_model.png)\n",
    "\n",
    "Here's a basic breakdown:\n",
    "\n",
    "1. **Inputs**: The artificial neuron receives one or more inputs $x_i$. These could be raw data points, like pixels from an image, or outputs from other neurons.\n",
    "2. **Weights**: Each input $x_i$ has an associated weight $w_i$, which can be adjusted over using backprop. Think of these weights as dials or knobs that can be turned to make the neuron behave differently. Each neuron also has a bias $b$, which is a baseline constant that can also be adjusted.\n",
    "4. **Summation**: The neuron multiplies each input $x_i$ by its weight $w_i$, then sums up all these products, and adds the bias $b$. Giving us the formula $\\sum_{i=1}^{n} w_i x_i + b$.\n",
    "4. **Activation Function**: This sum then passes through an activation function $f$. The purpose of this function is to introduce non-linearity to the model, which allows neural networks to learn complex patterns. Common activation functions include the sigmoid, ReLU, and tanh.\n",
    "5. **Output**: The result from the activation function is the output of the neuron, which can then serve as an input to another neuron in the next layer of a neural network or as the final output of a neural network.\n",
    "\n",
    "In essence, the artificial neuron takes in data, processes it using its weights and the activation function, and outputs the result."
   ]
  },
  {
   "cell_type": "markdown",
   "metadata": {},
   "source": [
    "#### Activation Function\n",
    "\n",
    "In this notebook, we'll use the $\\tanh$ as activation function for our neurons, which is defined as:\n",
    "\n",
    "$$\\tanh(x) = \\frac{e^{2x} - 1}{e^{2x} + 1}$$\n",
    "\n",
    "$\\tanh$, is a mathematical function that squishes the input values to a s-curve with values in the range (-1, 1).\n",
    "It is useful as an activation function because it smooth, differential, and non-linear with values centered around zero. These are \n",
    "all properties that are useful for neural networks."
   ]
  },
  {
   "cell_type": "code",
   "execution_count": 3,
   "metadata": {},
   "outputs": [
    {
     "data": {
      "image/png": "[encoded data removed]",
      "text/plain": [
       "<Figure size 432x288 with 1 Axes>"
      ]
     },
     "metadata": {
      "needs_background": "light"
     },
     "output_type": "display_data"
    }
   ],
   "source": [
    "plt.plot(np.arange(-5,5,0.2), np.tanh(np.arange(-5,5,0.2)))\n",
    "plt.grid()\n",
    "plt.title('$tanh(x)$')\n",
    "plt.show()"
   ]
  },
  {
   "cell_type": "markdown",
   "metadata": {},
   "source": [
    "We'll now implement a neuron. It will take with two inputs of the type `Value` object we created last notebook and use $\\tanh$ as an activation function. We will manually initialize its weights and bias. We'll later see how we can initialize them automatically when we generalizes the code below into a class."
   ]
  },
  {
   "cell_type": "code",
   "execution_count": 4,
   "metadata": {},
   "outputs": [
    {
     "data": {
      "image/svg+xml": [
       "<?xml version=\"1.0\" encoding=\"UTF-8\" standalone=\"no\"?>\n",
       "<!DOCTYPE svg PUBLIC \"-//W3C//DTD SVG 1.1//EN\"\n",
       " \"http://www.w3.org/Graphics/SVG/1.1/DTD/svg11.dtd\">\n",
       "<!-- Generated by graphviz version 8.0.5 (20230430.1635)\n",
       " -->\n",
       "<!-- Pages: 1 -->\n",
       "<svg width=\"1470pt\" height=\"210pt\"\n",
       " viewBox=\"0.00 0.00 1470.25 210.00\" xmlns=\"http://www.w3.org/2000/svg\" xmlns:xlink=\"http://www.w3.org/1999/xlink\">\n",
       "<g id=\"graph0\" class=\"graph\" transform=\"scale(1 1) rotate(0) translate(4 206)\">\n",
       "<polygon fill=\"white\" stroke=\"none\" points=\"-4,4 -4,-206 1466.25,-206 1466.25,4 -4,4\"/>\n",
       "<!-- 2695831987216 -->\n",
       "<g id=\"node1\" class=\"node\">\n",
       "<title>2695831987216</title>\n",
       "<polygon fill=\"none\" stroke=\"black\" points=\"3.75,-165.5 3.75,-201.5 195.75,-201.5 195.75,-165.5 3.75,-165.5\"/>\n",
       "<text text-anchor=\"middle\" x=\"18.5\" y=\"-178.2\" font-family=\"Times New Roman,serif\" font-size=\"14.00\">x1</text>\n",
       "<polyline fill=\"none\" stroke=\"black\" points=\"33.25,-165.75 33.25,-201.5\"/>\n",
       "<text text-anchor=\"middle\" x=\"73.5\" y=\"-178.2\" font-family=\"Times New Roman,serif\" font-size=\"14.00\">data 2.0000</text>\n",
       "<polyline fill=\"none\" stroke=\"black\" points=\"113.75,-165.75 113.75,-201.5\"/>\n",
       "<text text-anchor=\"middle\" x=\"154.75\" y=\"-178.2\" font-family=\"Times New Roman,serif\" font-size=\"14.00\">grad 0.0000</text>\n",
       "</g>\n",
       "<!-- 2695867202192* -->\n",
       "<g id=\"node3\" class=\"node\">\n",
       "<title>2695867202192*</title>\n",
       "<ellipse fill=\"none\" stroke=\"black\" cx=\"262.5\" cy=\"-128.5\" rx=\"27\" ry=\"18\"/>\n",
       "<text text-anchor=\"middle\" x=\"262.5\" y=\"-123.08\" font-family=\"Times New Roman,serif\" font-size=\"14.00\">*</text>\n",
       "</g>\n",
       "<!-- 2695831987216&#45;&gt;2695867202192* -->\n",
       "<g id=\"edge9\" class=\"edge\">\n",
       "<title>2695831987216&#45;&gt;2695867202192*</title>\n",
       "<path fill=\"none\" stroke=\"black\" d=\"M171.84,-165.51C181.21,-162.72 190.64,-159.69 199.5,-156.5 209.81,-152.79 220.79,-148.09 230.6,-143.61\"/>\n",
       "<polygon fill=\"black\" stroke=\"black\" points=\"231.74,-146.47 239.32,-139.06 228.78,-140.13 231.74,-146.47\"/>\n",
       "</g>\n",
       "<!-- 2695867202192 -->\n",
       "<g id=\"node2\" class=\"node\">\n",
       "<title>2695867202192</title>\n",
       "<polygon fill=\"none\" stroke=\"black\" points=\"325.5,-110.5 325.5,-146.5 492.5,-146.5 492.5,-110.5 325.5,-110.5\"/>\n",
       "<text text-anchor=\"middle\" x=\"368\" y=\"-123.2\" font-family=\"Times New Roman,serif\" font-size=\"14.00\">data &#45;6.0000</text>\n",
       "<polyline fill=\"none\" stroke=\"black\" points=\"410.5,-110.75 410.5,-146.5\"/>\n",
       "<text text-anchor=\"middle\" x=\"451.5\" y=\"-123.2\" font-family=\"Times New Roman,serif\" font-size=\"14.00\">grad 0.0000</text>\n",
       "</g>\n",
       "<!-- 2695291298208+ -->\n",
       "<g id=\"node11\" class=\"node\">\n",
       "<title>2695291298208+</title>\n",
       "<ellipse fill=\"none\" stroke=\"black\" cx=\"555.5\" cy=\"-100.5\" rx=\"27\" ry=\"18\"/>\n",
       "<text text-anchor=\"middle\" x=\"555.5\" y=\"-95.08\" font-family=\"Times New Roman,serif\" font-size=\"14.00\">+</text>\n",
       "</g>\n",
       "<!-- 2695867202192&#45;&gt;2695291298208+ -->\n",
       "<g id=\"edge14\" class=\"edge\">\n",
       "<title>2695867202192&#45;&gt;2695291298208+</title>\n",
       "<path fill=\"none\" stroke=\"black\" d=\"M492.38,-112.54C501.43,-110.78 510.26,-109.07 518.29,-107.52\"/>\n",
       "<polygon fill=\"black\" stroke=\"black\" points=\"518.9,-110.77 528.05,-105.43 517.57,-103.9 518.9,-110.77\"/>\n",
       "</g>\n",
       "<!-- 2695867202192*&#45;&gt;2695867202192 -->\n",
       "<g id=\"edge1\" class=\"edge\">\n",
       "<title>2695867202192*&#45;&gt;2695867202192</title>\n",
       "<path fill=\"none\" stroke=\"black\" d=\"M289.67,-128.5C297.15,-128.5 305.76,-128.5 314.86,-128.5\"/>\n",
       "<polygon fill=\"black\" stroke=\"black\" points=\"314.72,-132 324.72,-128.5 314.72,-125 314.72,-132\"/>\n",
       "</g>\n",
       "<!-- 2695867777232 -->\n",
       "<g id=\"node4\" class=\"node\">\n",
       "<title>2695867777232</title>\n",
       "<polygon fill=\"none\" stroke=\"black\" points=\"1260.5,-54.5 1260.5,-90.5 1462.25,-90.5 1462.25,-54.5 1260.5,-54.5\"/>\n",
       "<text text-anchor=\"middle\" x=\"1280.12\" y=\"-67.2\" font-family=\"Times New Roman,serif\" font-size=\"14.00\">yhat</text>\n",
       "<polyline fill=\"none\" stroke=\"black\" points=\"1299.75,-54.75 1299.75,-90.5\"/>\n",
       "<text text-anchor=\"middle\" x=\"1340\" y=\"-67.2\" font-family=\"Times New Roman,serif\" font-size=\"14.00\">data 0.7071</text>\n",
       "<polyline fill=\"none\" stroke=\"black\" points=\"1380.25,-54.75 1380.25,-90.5\"/>\n",
       "<text text-anchor=\"middle\" x=\"1421.25\" y=\"-67.2\" font-family=\"Times New Roman,serif\" font-size=\"14.00\">grad 0.0000</text>\n",
       "</g>\n",
       "<!-- 2695867777232tanh -->\n",
       "<g id=\"node5\" class=\"node\">\n",
       "<title>2695867777232tanh</title>\n",
       "<ellipse fill=\"none\" stroke=\"black\" cx=\"1197.5\" cy=\"-72.5\" rx=\"27\" ry=\"18\"/>\n",
       "<text text-anchor=\"middle\" x=\"1197.5\" y=\"-67.08\" font-family=\"Times New Roman,serif\" font-size=\"14.00\">tanh</text>\n",
       "</g>\n",
       "<!-- 2695867777232tanh&#45;&gt;2695867777232 -->\n",
       "<g id=\"edge2\" class=\"edge\">\n",
       "<title>2695867777232tanh&#45;&gt;2695867777232</title>\n",
       "<path fill=\"none\" stroke=\"black\" d=\"M1224.87,-72.5C1232.21,-72.5 1240.67,-72.5 1249.71,-72.5\"/>\n",
       "<polygon fill=\"black\" stroke=\"black\" points=\"1249.54,-76 1259.54,-72.5 1249.54,-69 1249.54,-76\"/>\n",
       "</g>\n",
       "<!-- 2695831988992 -->\n",
       "<g id=\"node6\" class=\"node\">\n",
       "<title>2695831988992</title>\n",
       "<polygon fill=\"none\" stroke=\"black\" points=\"618.5,-27.5 618.5,-63.5 804.5,-63.5 804.5,-27.5 618.5,-27.5\"/>\n",
       "<text text-anchor=\"middle\" x=\"630.25\" y=\"-40.2\" font-family=\"Times New Roman,serif\" font-size=\"14.00\">b</text>\n",
       "<polyline fill=\"none\" stroke=\"black\" points=\"642,-27.75 642,-63.5\"/>\n",
       "<text text-anchor=\"middle\" x=\"682.25\" y=\"-40.2\" font-family=\"Times New Roman,serif\" font-size=\"14.00\">data 6.8813</text>\n",
       "<polyline fill=\"none\" stroke=\"black\" points=\"722.5,-27.75 722.5,-63.5\"/>\n",
       "<text text-anchor=\"middle\" x=\"763.5\" y=\"-40.2\" font-family=\"Times New Roman,serif\" font-size=\"14.00\">grad 0.0000</text>\n",
       "</g>\n",
       "<!-- 2695291297776+ -->\n",
       "<g id=\"node15\" class=\"node\">\n",
       "<title>2695291297776+</title>\n",
       "<ellipse fill=\"none\" stroke=\"black\" cx=\"867.5\" cy=\"-72.5\" rx=\"27\" ry=\"18\"/>\n",
       "<text text-anchor=\"middle\" x=\"867.5\" y=\"-67.08\" font-family=\"Times New Roman,serif\" font-size=\"14.00\">+</text>\n",
       "</g>\n",
       "<!-- 2695831988992&#45;&gt;2695291297776+ -->\n",
       "<g id=\"edge10\" class=\"edge\">\n",
       "<title>2695831988992&#45;&gt;2695291297776+</title>\n",
       "<path fill=\"none\" stroke=\"black\" d=\"M804.31,-61.6C813.41,-63.19 822.23,-64.74 830.23,-66.14\"/>\n",
       "<polygon fill=\"black\" stroke=\"black\" points=\"829.48,-69.74 839.93,-68.02 830.68,-62.84 829.48,-69.74\"/>\n",
       "</g>\n",
       "<!-- 2695292557136 -->\n",
       "<g id=\"node7\" class=\"node\">\n",
       "<title>2695292557136</title>\n",
       "<polygon fill=\"none\" stroke=\"black\" points=\"2.25,-55.5 2.25,-91.5 197.25,-91.5 197.25,-55.5 2.25,-55.5\"/>\n",
       "<text text-anchor=\"middle\" x=\"18.5\" y=\"-68.2\" font-family=\"Times New Roman,serif\" font-size=\"14.00\">w2</text>\n",
       "<polyline fill=\"none\" stroke=\"black\" points=\"34.75,-55.75 34.75,-91.5\"/>\n",
       "<text text-anchor=\"middle\" x=\"75\" y=\"-68.2\" font-family=\"Times New Roman,serif\" font-size=\"14.00\">data 1.0000</text>\n",
       "<polyline fill=\"none\" stroke=\"black\" points=\"115.25,-55.75 115.25,-91.5\"/>\n",
       "<text text-anchor=\"middle\" x=\"156.25\" y=\"-68.2\" font-family=\"Times New Roman,serif\" font-size=\"14.00\">grad 0.0000</text>\n",
       "</g>\n",
       "<!-- 2695867203056* -->\n",
       "<g id=\"node9\" class=\"node\">\n",
       "<title>2695867203056*</title>\n",
       "<ellipse fill=\"none\" stroke=\"black\" cx=\"262.5\" cy=\"-73.5\" rx=\"27\" ry=\"18\"/>\n",
       "<text text-anchor=\"middle\" x=\"262.5\" y=\"-68.08\" font-family=\"Times New Roman,serif\" font-size=\"14.00\">*</text>\n",
       "</g>\n",
       "<!-- 2695292557136&#45;&gt;2695867203056* -->\n",
       "<g id=\"edge11\" class=\"edge\">\n",
       "<title>2695292557136&#45;&gt;2695867203056*</title>\n",
       "<path fill=\"none\" stroke=\"black\" d=\"M197.04,-73.5C206.6,-73.5 215.85,-73.5 224.22,-73.5\"/>\n",
       "<polygon fill=\"black\" stroke=\"black\" points=\"224.02,-77 234.02,-73.5 224.02,-70 224.02,-77\"/>\n",
       "</g>\n",
       "<!-- 2695867203056 -->\n",
       "<g id=\"node8\" class=\"node\">\n",
       "<title>2695867203056</title>\n",
       "<polygon fill=\"none\" stroke=\"black\" points=\"327.75,-55.5 327.75,-91.5 490.25,-91.5 490.25,-55.5 327.75,-55.5\"/>\n",
       "<text text-anchor=\"middle\" x=\"368\" y=\"-68.2\" font-family=\"Times New Roman,serif\" font-size=\"14.00\">data 0.0000</text>\n",
       "<polyline fill=\"none\" stroke=\"black\" points=\"408.25,-55.75 408.25,-91.5\"/>\n",
       "<text text-anchor=\"middle\" x=\"449.25\" y=\"-68.2\" font-family=\"Times New Roman,serif\" font-size=\"14.00\">grad 0.0000</text>\n",
       "</g>\n",
       "<!-- 2695867203056&#45;&gt;2695291298208+ -->\n",
       "<g id=\"edge13\" class=\"edge\">\n",
       "<title>2695867203056&#45;&gt;2695291298208+</title>\n",
       "<path fill=\"none\" stroke=\"black\" d=\"M489.86,-88.42C499.86,-90.29 509.67,-92.12 518.5,-93.77\"/>\n",
       "<polygon fill=\"black\" stroke=\"black\" points=\"517.64,-97.36 528.11,-95.76 518.92,-90.48 517.64,-97.36\"/>\n",
       "</g>\n",
       "<!-- 2695867203056*&#45;&gt;2695867203056 -->\n",
       "<g id=\"edge3\" class=\"edge\">\n",
       "<title>2695867203056*&#45;&gt;2695867203056</title>\n",
       "<path fill=\"none\" stroke=\"black\" d=\"M289.67,-73.5C297.73,-73.5 307.11,-73.5 316.99,-73.5\"/>\n",
       "<polygon fill=\"black\" stroke=\"black\" points=\"316.87,-77 326.87,-73.5 316.87,-70 316.87,-77\"/>\n",
       "</g>\n",
       "<!-- 2695291298208 -->\n",
       "<g id=\"node10\" class=\"node\">\n",
       "<title>2695291298208</title>\n",
       "<polygon fill=\"none\" stroke=\"black\" points=\"628,-82.5 628,-118.5 795,-118.5 795,-82.5 628,-82.5\"/>\n",
       "<text text-anchor=\"middle\" x=\"670.5\" y=\"-95.2\" font-family=\"Times New Roman,serif\" font-size=\"14.00\">data &#45;6.0000</text>\n",
       "<polyline fill=\"none\" stroke=\"black\" points=\"713,-82.75 713,-118.5\"/>\n",
       "<text text-anchor=\"middle\" x=\"754\" y=\"-95.2\" font-family=\"Times New Roman,serif\" font-size=\"14.00\">grad 0.0000</text>\n",
       "</g>\n",
       "<!-- 2695291298208&#45;&gt;2695291297776+ -->\n",
       "<g id=\"edge12\" class=\"edge\">\n",
       "<title>2695291298208&#45;&gt;2695291297776+</title>\n",
       "<path fill=\"none\" stroke=\"black\" d=\"M794.91,-85.52C807.33,-83.26 819.56,-81.03 830.3,-79.08\"/>\n",
       "<polygon fill=\"black\" stroke=\"black\" points=\"830.69,-82.39 839.9,-77.15 829.44,-75.5 830.69,-82.39\"/>\n",
       "</g>\n",
       "<!-- 2695291298208+&#45;&gt;2695291298208 -->\n",
       "<g id=\"edge4\" class=\"edge\">\n",
       "<title>2695291298208+&#45;&gt;2695291298208</title>\n",
       "<path fill=\"none\" stroke=\"black\" d=\"M582.97,-100.5C592.92,-100.5 604.87,-100.5 617.43,-100.5\"/>\n",
       "<polygon fill=\"black\" stroke=\"black\" points=\"617.08,-104 627.08,-100.5 617.08,-97 617.08,-104\"/>\n",
       "</g>\n",
       "<!-- 2695831987120 -->\n",
       "<g id=\"node12\" class=\"node\">\n",
       "<title>2695831987120</title>\n",
       "<polygon fill=\"none\" stroke=\"black\" points=\"0,-110.5 0,-146.5 199.5,-146.5 199.5,-110.5 0,-110.5\"/>\n",
       "<text text-anchor=\"middle\" x=\"16.25\" y=\"-123.2\" font-family=\"Times New Roman,serif\" font-size=\"14.00\">w1</text>\n",
       "<polyline fill=\"none\" stroke=\"black\" points=\"32.5,-110.75 32.5,-146.5\"/>\n",
       "<text text-anchor=\"middle\" x=\"75\" y=\"-123.2\" font-family=\"Times New Roman,serif\" font-size=\"14.00\">data &#45;3.0000</text>\n",
       "<polyline fill=\"none\" stroke=\"black\" points=\"117.5,-110.75 117.5,-146.5\"/>\n",
       "<text text-anchor=\"middle\" x=\"158.5\" y=\"-123.2\" font-family=\"Times New Roman,serif\" font-size=\"14.00\">grad 0.0000</text>\n",
       "</g>\n",
       "<!-- 2695831987120&#45;&gt;2695867202192* -->\n",
       "<g id=\"edge8\" class=\"edge\">\n",
       "<title>2695831987120&#45;&gt;2695867202192*</title>\n",
       "<path fill=\"none\" stroke=\"black\" d=\"M199.35,-128.5C208.17,-128.5 216.68,-128.5 224.43,-128.5\"/>\n",
       "<polygon fill=\"black\" stroke=\"black\" points=\"224.18,-132 234.18,-128.5 224.18,-125 224.18,-132\"/>\n",
       "</g>\n",
       "<!-- 2695831987168 -->\n",
       "<g id=\"node13\" class=\"node\">\n",
       "<title>2695831987168</title>\n",
       "<polygon fill=\"none\" stroke=\"black\" points=\"3.75,-0.5 3.75,-36.5 195.75,-36.5 195.75,-0.5 3.75,-0.5\"/>\n",
       "<text text-anchor=\"middle\" x=\"18.5\" y=\"-13.2\" font-family=\"Times New Roman,serif\" font-size=\"14.00\">x2</text>\n",
       "<polyline fill=\"none\" stroke=\"black\" points=\"33.25,-0.75 33.25,-36.5\"/>\n",
       "<text text-anchor=\"middle\" x=\"73.5\" y=\"-13.2\" font-family=\"Times New Roman,serif\" font-size=\"14.00\">data 0.0000</text>\n",
       "<polyline fill=\"none\" stroke=\"black\" points=\"113.75,-0.75 113.75,-36.5\"/>\n",
       "<text text-anchor=\"middle\" x=\"154.75\" y=\"-13.2\" font-family=\"Times New Roman,serif\" font-size=\"14.00\">grad 0.0000</text>\n",
       "</g>\n",
       "<!-- 2695831987168&#45;&gt;2695867203056* -->\n",
       "<g id=\"edge7\" class=\"edge\">\n",
       "<title>2695831987168&#45;&gt;2695867203056*</title>\n",
       "<path fill=\"none\" stroke=\"black\" d=\"M168.6,-36.43C179.02,-39.56 189.6,-42.96 199.5,-46.5 209.57,-50.1 220.32,-54.56 229.99,-58.8\"/>\n",
       "<polygon fill=\"black\" stroke=\"black\" points=\"228.42,-62.38 238.98,-63.28 231.29,-56 228.42,-62.38\"/>\n",
       "</g>\n",
       "<!-- 2695291297776 -->\n",
       "<g id=\"node14\" class=\"node\">\n",
       "<title>2695291297776</title>\n",
       "<polygon fill=\"none\" stroke=\"black\" points=\"930.5,-54.5 930.5,-90.5 1134.5,-90.5 1134.5,-54.5 930.5,-54.5\"/>\n",
       "<text text-anchor=\"middle\" x=\"951.25\" y=\"-67.2\" font-family=\"Times New Roman,serif\" font-size=\"14.00\">Sum</text>\n",
       "<polyline fill=\"none\" stroke=\"black\" points=\"972,-54.75 972,-90.5\"/>\n",
       "<text text-anchor=\"middle\" x=\"1012.25\" y=\"-67.2\" font-family=\"Times New Roman,serif\" font-size=\"14.00\">data 0.8813</text>\n",
       "<polyline fill=\"none\" stroke=\"black\" points=\"1052.5,-54.75 1052.5,-90.5\"/>\n",
       "<text text-anchor=\"middle\" x=\"1093.5\" y=\"-67.2\" font-family=\"Times New Roman,serif\" font-size=\"14.00\">grad 0.0000</text>\n",
       "</g>\n",
       "<!-- 2695291297776&#45;&gt;2695867777232tanh -->\n",
       "<g id=\"edge6\" class=\"edge\">\n",
       "<title>2695291297776&#45;&gt;2695867777232tanh</title>\n",
       "<path fill=\"none\" stroke=\"black\" d=\"M1134.41,-72.5C1143.25,-72.5 1151.77,-72.5 1159.51,-72.5\"/>\n",
       "<polygon fill=\"black\" stroke=\"black\" points=\"1159.25,-76 1169.25,-72.5 1159.25,-69 1159.25,-76\"/>\n",
       "</g>\n",
       "<!-- 2695291297776+&#45;&gt;2695291297776 -->\n",
       "<g id=\"edge5\" class=\"edge\">\n",
       "<title>2695291297776+&#45;&gt;2695291297776</title>\n",
       "<path fill=\"none\" stroke=\"black\" d=\"M894.69,-72.5C902.06,-72.5 910.58,-72.5 919.69,-72.5\"/>\n",
       "<polygon fill=\"black\" stroke=\"black\" points=\"919.61,-76 929.61,-72.5 919.61,-69 919.61,-76\"/>\n",
       "</g>\n",
       "</g>\n",
       "</svg>\n"
      ],
      "text/plain": [
       "<graphviz.graphs.Digraph at 0x273ae3dc190>"
      ]
     },
     "execution_count": 4,
     "metadata": {},
     "output_type": "execute_result"
    }
   ],
   "source": [
    "x = [Value(2.0, label='x1'), Value(0.0, label='x2')]  # inputs\n",
    "w = [Value(-3.0, label='w1'), Value(1.0, label='w2')]  # weights\n",
    "b = Value(6.8813, label='b')  # bias\n",
    "\n",
    "# forward pass\n",
    "f = x[0] * w[0] + x[1] * w[1] + b; f.label = 'Sum'  # Summation\n",
    "yhat = f.tanh(); yhat.label = 'yhat'  # Activation function\n",
    "\n",
    "draw_dot(yhat)"
   ]
  },
  {
   "cell_type": "markdown",
   "metadata": {},
   "source": [
    "That was simple! All there is to a forward pass of a single neuron is: Multiply the inputs with weights, sum them up, add the bias, and pass the result through an activation function. \n",
    "\n",
    "We can now easily generalize this to a neuron that takes any number of inputs and outputs, and can use several different activation functions (including none). We'll also make the weights and bias automatically initialized to random values."
   ]
  },
  {
   "cell_type": "code",
   "execution_count": 5,
   "metadata": {},
   "outputs": [],
   "source": [
    "class Neuron:\n",
    "  \n",
    "    def __init__(self, num_inputs, activation='tanh'):\n",
    "        \"\"\"Initialize the weights and bias randomly, and set the activation function\"\"\"\n",
    "        self.w = [Value(random.uniform(-1,1), label=f'w_{i+1}') for i in range(num_inputs)]\n",
    "        self.b = Value(random.uniform(-1,1), label='b')\n",
    "        self.activation = activation\n",
    "  \n",
    "    def __call__(self, x):\n",
    "        \"\"\"The forward pass of a single neuron\"\"\"\n",
    "        # Check that the number of inputs equals the number of weights\n",
    "        if len(x) != len(self.w):\n",
    "            raise ValueError(f'Expected {len(self.w)} inputs, got {len(x)}')\n",
    "        \n",
    "        act = sum((wi*xi for wi, xi in zip(self.w, x)), self.b)  # sum(w * x) + b\n",
    "        if self.activation == 'tanh':\n",
    "            out = act.tanh()\n",
    "        elif self.activation == 'relu': # The ReLU activation equals to max(0, x)\n",
    "            out = act.relu()\n",
    "        else:  # The output of the neuron stays linear\n",
    "            out = act\n",
    "        return out\n",
    "  \n",
    "    def parameters(self):  \n",
    "        \"\"\"Return the weights and bias as a list\"\"\"\n",
    "        return self.w + [self.b]\n",
    "    \n",
    "    def zero_grad(self):\n",
    "        \"\"\"Reset the gradients to zero\"\"\"\n",
    "        for p in self.parameters():\n",
    "            p.grad = 0\n",
    "    \n",
    "    def __repr__(self):\n",
    "        if self.activation == 'tanh':\n",
    "            neuron_type = 'Tanh'\n",
    "        elif self.activation == 'relu':\n",
    "            neuron_type = 'ReLU'\n",
    "        else:\n",
    "            neuron_type = 'Linear'\n",
    "        return f'{neuron_type}Neuron({len(self.w)})'"
   ]
  },
  {
   "cell_type": "markdown",
   "metadata": {},
   "source": [
    "There is a reason we initialize the weights randomly. If all weights are initialized with the same value, every neuron in the hidden layer will produce the same output and thus undergo the same weight updates during training due to having the same gradient. This makes the neurons in that layer all symmetric and redundant. Random initialization ensures that each neuron starts with a different weight and thus follows a unique gradient during training."
   ]
  },
  {
   "cell_type": "markdown",
   "metadata": {},
   "source": [
    "### Using `Neuron` to do linear regression\n",
    "\n",
    "A single `Neuron` is able to do standard linear regression if we do not use an activation function. We can illustrate this by generating a dataset with a linear relationsship between features and target, and then training a neuron on it.\n",
    "\n",
    "We'll generate data using the relationsship $y=2 x_1+ 0.8x_2 + \\epsilon$, where $x_i$ are the inputs, $\\epsilon$ is a random noise term, and $y$ is the target."
   ]
  },
  {
   "cell_type": "code",
   "execution_count": 6,
   "metadata": {},
   "outputs": [
    {
     "data": {
      "image/png": "[encoded data removed]",
      "text/plain": [
       "<Figure size 792x360 with 2 Axes>"
      ]
     },
     "metadata": {
      "needs_background": "light"
     },
     "output_type": "display_data"
    }
   ],
   "source": [
    "x = np.random.random((50, 2))\n",
    "eps = np.random.random((50, )) * 0.2\n",
    "y = 2 * x[:, 0] + 0.8 * x[:, 1] + eps\n",
    "\n",
    "fig, axs = plt.subplots(1, 2, figsize=(11, 5))\n",
    "\n",
    "axs[0].scatter(x[:,0], y, label='x1')\n",
    "axs[0].set_xlabel('$x_1$')\n",
    "axs[0].set_ylabel('$y$')\n",
    "\n",
    "axs[1].scatter(x[:,1], y, label='x2')\n",
    "axs[1].set_xlabel('$x_2$')\n",
    "axs[1].set_ylabel('$y$')\n",
    "\n",
    "fig.tight_layout()\n",
    "fig.suptitle('$x_i$ vs $y$ for our generated dataset', y=1.03, fontsize=16)\n",
    "plt.show()"
   ]
  },
  {
   "cell_type": "markdown",
   "metadata": {},
   "source": [
    "To properly train our model we need a score to measure how well the model is doing. The goal of the model is to minimize this score during training. The score is called the loss (or cost) function in ML literature. In our linear regression example, we'll minimize the mean squared error (MSE), which is the most commonly used loss function for regression problems. The MSE is defined as\n",
    "the average of the squared difference between the predicted and actual values. Or in mathematical notation:\n",
    "\n",
    "$$MSE = \\frac{1}{n}\\sum_{i=1}^{n}(y_i - \\hat{y}_i)^2$$\n",
    "\n",
    "where $n$ is the number of samples, $y_i$ is the actual value, and $\\hat{y}_i$ is the predicted value.\n",
    "\n",
    "We'll start with minimizing the MSE for one iteration and for one sample to see to that everything works as expected. We'll then extend training to all samples in the dataset over multiple iterations to properly fit our model."
   ]
  },
  {
   "cell_type": "code",
   "execution_count": 7,
   "metadata": {},
   "outputs": [
    {
     "data": {
      "text/plain": [
       "LinearNeuron(2)"
      ]
     },
     "execution_count": 7,
     "metadata": {},
     "output_type": "execute_result"
    }
   ],
   "source": [
    "def mse(y_true, y_pred):\n",
    "    # Convert inputs to lists of values if they are scalars\n",
    "    if not hasattr(y_true, '__iter__'):\n",
    "        y_true = [y_true]\n",
    "    if not hasattr(y_pred, '__iter__'):\n",
    "        y_pred = [y_pred]\n",
    "        \n",
    "    num_items = len(y_true)\n",
    "    return sum((y_i - pred_i)**2 for y_i, pred_i in zip(y_true, y_pred)) / num_items\n",
    "\n",
    "\n",
    "linear_model = Neuron(num_inputs=2, activation='linear')  # num_inputs = number of features\n",
    "linear_model"
   ]
  },
  {
   "cell_type": "markdown",
   "metadata": {},
   "source": [
    "We're now ready to do the forward pass:"
   ]
  },
  {
   "cell_type": "code",
   "execution_count": 8,
   "metadata": {},
   "outputs": [
    {
     "data": {
      "text/plain": [
       "Value(7.6430, grad=0.0000)"
      ]
     },
     "execution_count": 8,
     "metadata": {},
     "output_type": "execute_result"
    }
   ],
   "source": [
    "# Forward pass\n",
    "output = linear_model(x[0])\n",
    "loss = mse(y[0], output)\n",
    "loss"
   ]
  },
  {
   "cell_type": "markdown",
   "metadata": {},
   "source": [
    "The next step is to do the backwards pass. We have already implemented the backwards pass in the `Value` class we created the last notebook. We can do backward-propagation by calling the `.backward()` method on the `loss` value. `loss.backward()` will compute the derivatives of the loss with respect to the inputs used to produce it, including the neuron weights.\n",
    "\n",
    "The derivatives shows how the loss will respond if we change the weights a tiny nudge. We can use this fact to adjust the weights in the direction that reduces the loss. The illustration below demonstrates this:\n",
    "\n",
    "![Gradient Descent](img/gradient_descent.png)\n",
    "\n",
    "In the image above, the current position is the loss of the model with the current weights. The derivative of the loss function with repsect to the weight gives slope of the loss function at the current position. Knowing the direction of the slope, we can nudge the weights in the direction downwards so that the loss is reduced. Doing this iteratively will move the weights closer and closer to the bottom of the loss function, which is the point where the loss is minimized.\n",
    "\n",
    "It should be noted that not all problems and loss functions have this smooth bowl shape. Most problems are much more complex and have many hills and valleys. An ever-changing landscape means that we can't just take a single huge step in the direction of the current slope to get to the bottom. We need to take many smaller steps and each time find the slope at the new location to reach the bottom of the loss function landscape. We can't know the slope of a point we haven't reached yet!"
   ]
  },
  {
   "cell_type": "code",
   "execution_count": 9,
   "metadata": {},
   "outputs": [
    {
     "data": {
      "image/svg+xml": [
       "<?xml version=\"1.0\" encoding=\"UTF-8\" standalone=\"no\"?>\n",
       "<!DOCTYPE svg PUBLIC \"-//W3C//DTD SVG 1.1//EN\"\n",
       " \"http://www.w3.org/Graphics/SVG/1.1/DTD/svg11.dtd\">\n",
       "<!-- Generated by graphviz version 8.0.5 (20230430.1635)\n",
       " -->\n",
       "<!-- Pages: 1 -->\n",
       "<svg width=\"2629pt\" height=\"238pt\"\n",
       " viewBox=\"0.00 0.00 2628.50 238.00\" xmlns=\"http://www.w3.org/2000/svg\" xmlns:xlink=\"http://www.w3.org/1999/xlink\">\n",
       "<g id=\"graph0\" class=\"graph\" transform=\"scale(1 1) rotate(0) translate(4 234)\">\n",
       "<polygon fill=\"white\" stroke=\"none\" points=\"-4,4 -4,-234 2624.5,-234 2624.5,4 -4,4\"/>\n",
       "<!-- 2695867779104 -->\n",
       "<g id=\"node1\" class=\"node\">\n",
       "<title>2695867779104</title>\n",
       "<polygon fill=\"none\" stroke=\"black\" points=\"2131,-163.5 2131,-199.5 2293.5,-199.5 2293.5,-163.5 2131,-163.5\"/>\n",
       "<text text-anchor=\"middle\" x=\"2171.25\" y=\"-176.2\" font-family=\"Times New Roman,serif\" font-size=\"14.00\">data 1.0000</text>\n",
       "<polyline fill=\"none\" stroke=\"black\" points=\"2211.5,-163.75 2211.5,-199.5\"/>\n",
       "<text text-anchor=\"middle\" x=\"2252.5\" y=\"-176.2\" font-family=\"Times New Roman,serif\" font-size=\"14.00\">grad 7.6430</text>\n",
       "</g>\n",
       "<!-- 2695867786400* -->\n",
       "<g id=\"node5\" class=\"node\">\n",
       "<title>2695867786400*</title>\n",
       "<ellipse fill=\"none\" stroke=\"black\" cx=\"2356.5\" cy=\"-153.5\" rx=\"27\" ry=\"18\"/>\n",
       "<text text-anchor=\"middle\" x=\"2356.5\" y=\"-148.07\" font-family=\"Times New Roman,serif\" font-size=\"14.00\">*</text>\n",
       "</g>\n",
       "<!-- 2695867779104&#45;&gt;2695867786400* -->\n",
       "<g id=\"edge10\" class=\"edge\">\n",
       "<title>2695867779104&#45;&gt;2695867786400*</title>\n",
       "<path fill=\"none\" stroke=\"black\" d=\"M2293.11,-165.78C2302.34,-163.96 2311.37,-162.19 2319.57,-160.57\"/>\n",
       "<polygon fill=\"black\" stroke=\"black\" points=\"2320.03,-163.85 2329.17,-158.49 2318.68,-156.98 2320.03,-163.85\"/>\n",
       "</g>\n",
       "<!-- 2695867789904 -->\n",
       "<g id=\"node2\" class=\"node\">\n",
       "<title>2695867789904</title>\n",
       "<polygon fill=\"none\" stroke=\"black\" points=\"968,-82.5 968,-118.5 1139.5,-118.5 1139.5,-82.5 968,-82.5\"/>\n",
       "<text text-anchor=\"middle\" x=\"1010.5\" y=\"-95.2\" font-family=\"Times New Roman,serif\" font-size=\"14.00\">data &#45;1.2487</text>\n",
       "<polyline fill=\"none\" stroke=\"black\" points=\"1053,-82.75 1053,-118.5\"/>\n",
       "<text text-anchor=\"middle\" x=\"1096.25\" y=\"-95.2\" font-family=\"Times New Roman,serif\" font-size=\"14.00\">grad &#45;5.5292</text>\n",
       "</g>\n",
       "<!-- 2695867779488* -->\n",
       "<g id=\"node25\" class=\"node\">\n",
       "<title>2695867779488*</title>\n",
       "<ellipse fill=\"none\" stroke=\"black\" cx=\"1202.5\" cy=\"-72.5\" rx=\"27\" ry=\"18\"/>\n",
       "<text text-anchor=\"middle\" x=\"1202.5\" y=\"-67.08\" font-family=\"Times New Roman,serif\" font-size=\"14.00\">*</text>\n",
       "</g>\n",
       "<!-- 2695867789904&#45;&gt;2695867779488* -->\n",
       "<g id=\"edge23\" class=\"edge\">\n",
       "<title>2695867789904&#45;&gt;2695867779488*</title>\n",
       "<path fill=\"none\" stroke=\"black\" d=\"M1139.26,-84.37C1148.36,-82.64 1157.22,-80.95 1165.27,-79.41\"/>\n",
       "<polygon fill=\"black\" stroke=\"black\" points=\"1165.88,-82.67 1175.05,-77.36 1164.57,-75.79 1165.88,-82.67\"/>\n",
       "</g>\n",
       "<!-- 2695867789904+ -->\n",
       "<g id=\"node3\" class=\"node\">\n",
       "<title>2695867789904+</title>\n",
       "<ellipse fill=\"none\" stroke=\"black\" cx=\"905\" cy=\"-100.5\" rx=\"27\" ry=\"18\"/>\n",
       "<text text-anchor=\"middle\" x=\"905\" y=\"-95.08\" font-family=\"Times New Roman,serif\" font-size=\"14.00\">+</text>\n",
       "</g>\n",
       "<!-- 2695867789904+&#45;&gt;2695867789904 -->\n",
       "<g id=\"edge1\" class=\"edge\">\n",
       "<title>2695867789904+&#45;&gt;2695867789904</title>\n",
       "<path fill=\"none\" stroke=\"black\" d=\"M932.24,-100.5C939.7,-100.5 948.3,-100.5 957.39,-100.5\"/>\n",
       "<polygon fill=\"black\" stroke=\"black\" points=\"957.25,-104 967.25,-100.5 957.25,-97 957.25,-104\"/>\n",
       "</g>\n",
       "<!-- 2695867786400 -->\n",
       "<g id=\"node4\" class=\"node\">\n",
       "<title>2695867786400</title>\n",
       "<polygon fill=\"none\" stroke=\"black\" points=\"2419.5,-135.5 2419.5,-171.5 2620.5,-171.5 2620.5,-135.5 2419.5,-135.5\"/>\n",
       "<text text-anchor=\"middle\" x=\"2438.75\" y=\"-148.2\" font-family=\"Times New Roman,serif\" font-size=\"14.00\">loss</text>\n",
       "<polyline fill=\"none\" stroke=\"black\" points=\"2458,-135.75 2458,-171.5\"/>\n",
       "<text text-anchor=\"middle\" x=\"2498.25\" y=\"-148.2\" font-family=\"Times New Roman,serif\" font-size=\"14.00\">data 7.6430</text>\n",
       "<polyline fill=\"none\" stroke=\"black\" points=\"2538.5,-135.75 2538.5,-171.5\"/>\n",
       "<text text-anchor=\"middle\" x=\"2579.5\" y=\"-148.2\" font-family=\"Times New Roman,serif\" font-size=\"14.00\">grad 1.0000</text>\n",
       "</g>\n",
       "<!-- 2695867786400*&#45;&gt;2695867786400 -->\n",
       "<g id=\"edge2\" class=\"edge\">\n",
       "<title>2695867786400*&#45;&gt;2695867786400</title>\n",
       "<path fill=\"none\" stroke=\"black\" d=\"M2383.81,-153.5C2391.2,-153.5 2399.72,-153.5 2408.83,-153.5\"/>\n",
       "<polygon fill=\"black\" stroke=\"black\" points=\"2408.74,-157 2418.74,-153.5 2408.74,-150 2408.74,-157\"/>\n",
       "</g>\n",
       "<!-- 2695867783328 -->\n",
       "<g id=\"node6\" class=\"node\">\n",
       "<title>2695867783328</title>\n",
       "<polygon fill=\"none\" stroke=\"black\" points=\"670.5,-110.5 670.5,-146.5 842,-146.5 842,-110.5 670.5,-110.5\"/>\n",
       "<text text-anchor=\"middle\" x=\"713\" y=\"-123.2\" font-family=\"Times New Roman,serif\" font-size=\"14.00\">data &#45;0.3455</text>\n",
       "<polyline fill=\"none\" stroke=\"black\" points=\"755.5,-110.75 755.5,-146.5\"/>\n",
       "<text text-anchor=\"middle\" x=\"798.75\" y=\"-123.2\" font-family=\"Times New Roman,serif\" font-size=\"14.00\">grad &#45;5.5292</text>\n",
       "</g>\n",
       "<!-- 2695867783328&#45;&gt;2695867789904+ -->\n",
       "<g id=\"edge18\" class=\"edge\">\n",
       "<title>2695867783328&#45;&gt;2695867789904+</title>\n",
       "<path fill=\"none\" stroke=\"black\" d=\"M841.76,-112.37C850.86,-110.64 859.72,-108.95 867.77,-107.41\"/>\n",
       "<polygon fill=\"black\" stroke=\"black\" points=\"868.38,-110.67 877.55,-105.36 867.07,-103.79 868.38,-110.67\"/>\n",
       "</g>\n",
       "<!-- 2695867783328+ -->\n",
       "<g id=\"node7\" class=\"node\">\n",
       "<title>2695867783328+</title>\n",
       "<ellipse fill=\"none\" stroke=\"black\" cx=\"607.5\" cy=\"-128.5\" rx=\"27\" ry=\"18\"/>\n",
       "<text text-anchor=\"middle\" x=\"607.5\" y=\"-123.08\" font-family=\"Times New Roman,serif\" font-size=\"14.00\">+</text>\n",
       "</g>\n",
       "<!-- 2695867783328+&#45;&gt;2695867783328 -->\n",
       "<g id=\"edge3\" class=\"edge\">\n",
       "<title>2695867783328+&#45;&gt;2695867783328</title>\n",
       "<path fill=\"none\" stroke=\"black\" d=\"M634.74,-128.5C642.2,-128.5 650.8,-128.5 659.89,-128.5\"/>\n",
       "<polygon fill=\"black\" stroke=\"black\" points=\"659.75,-132 669.75,-128.5 659.75,-125 659.75,-132\"/>\n",
       "</g>\n",
       "<!-- 2695869582016 -->\n",
       "<g id=\"node8\" class=\"node\">\n",
       "<title>2695869582016</title>\n",
       "<polygon fill=\"none\" stroke=\"black\" points=\"333,-55.5 333,-91.5 544.5,-91.5 544.5,-55.5 333,-55.5\"/>\n",
       "<text text-anchor=\"middle\" x=\"353\" y=\"-68.2\" font-family=\"Times New Roman,serif\" font-size=\"14.00\">w_2</text>\n",
       "<polyline fill=\"none\" stroke=\"black\" points=\"373,-55.75 373,-91.5\"/>\n",
       "<text text-anchor=\"middle\" x=\"415.5\" y=\"-68.2\" font-family=\"Times New Roman,serif\" font-size=\"14.00\">data &#45;0.9500</text>\n",
       "<polyline fill=\"none\" stroke=\"black\" points=\"458,-55.75 458,-91.5\"/>\n",
       "<text text-anchor=\"middle\" x=\"501.25\" y=\"-68.2\" font-family=\"Times New Roman,serif\" font-size=\"14.00\">grad &#45;5.2567</text>\n",
       "</g>\n",
       "<!-- 2695867783472* -->\n",
       "<g id=\"node17\" class=\"node\">\n",
       "<title>2695867783472*</title>\n",
       "<ellipse fill=\"none\" stroke=\"black\" cx=\"607.5\" cy=\"-73.5\" rx=\"27\" ry=\"18\"/>\n",
       "<text text-anchor=\"middle\" x=\"607.5\" y=\"-68.08\" font-family=\"Times New Roman,serif\" font-size=\"14.00\">*</text>\n",
       "</g>\n",
       "<!-- 2695869582016&#45;&gt;2695867783472* -->\n",
       "<g id=\"edge14\" class=\"edge\">\n",
       "<title>2695869582016&#45;&gt;2695867783472*</title>\n",
       "<path fill=\"none\" stroke=\"black\" d=\"M544.41,-73.5C553.1,-73.5 561.46,-73.5 569.08,-73.5\"/>\n",
       "<polygon fill=\"black\" stroke=\"black\" points=\"569.01,-77 579.01,-73.5 569.01,-70 569.01,-77\"/>\n",
       "</g>\n",
       "<!-- 2695867781840 -->\n",
       "<g id=\"node9\" class=\"node\">\n",
       "<title>2695867781840</title>\n",
       "<polygon fill=\"none\" stroke=\"black\" points=\"1265.5,-109.5 1265.5,-145.5 1428,-145.5 1428,-109.5 1265.5,-109.5\"/>\n",
       "<text text-anchor=\"middle\" x=\"1305.75\" y=\"-122.2\" font-family=\"Times New Roman,serif\" font-size=\"14.00\">data 1.5159</text>\n",
       "<polyline fill=\"none\" stroke=\"black\" points=\"1346,-109.75 1346,-145.5\"/>\n",
       "<text text-anchor=\"middle\" x=\"1387\" y=\"-122.2\" font-family=\"Times New Roman,serif\" font-size=\"14.00\">grad 5.5292</text>\n",
       "</g>\n",
       "<!-- 2695867781504+ -->\n",
       "<g id=\"node21\" class=\"node\">\n",
       "<title>2695867781504+</title>\n",
       "<ellipse fill=\"none\" stroke=\"black\" cx=\"1491\" cy=\"-99.5\" rx=\"27\" ry=\"18\"/>\n",
       "<text text-anchor=\"middle\" x=\"1491\" y=\"-94.08\" font-family=\"Times New Roman,serif\" font-size=\"14.00\">+</text>\n",
       "</g>\n",
       "<!-- 2695867781840&#45;&gt;2695867781504+ -->\n",
       "<g id=\"edge24\" class=\"edge\">\n",
       "<title>2695867781840&#45;&gt;2695867781504+</title>\n",
       "<path fill=\"none\" stroke=\"black\" d=\"M1427.61,-111.78C1436.84,-109.96 1445.87,-108.19 1454.07,-106.57\"/>\n",
       "<polygon fill=\"black\" stroke=\"black\" points=\"1454.53,-109.85 1463.67,-104.49 1453.18,-102.98 1454.53,-109.85\"/>\n",
       "</g>\n",
       "<!-- 2695867790048 -->\n",
       "<g id=\"node10\" class=\"node\">\n",
       "<title>2695867790048</title>\n",
       "<polygon fill=\"none\" stroke=\"black\" points=\"2131,-108.5 2131,-144.5 2293.5,-144.5 2293.5,-108.5 2131,-108.5\"/>\n",
       "<text text-anchor=\"middle\" x=\"2171.25\" y=\"-121.2\" font-family=\"Times New Roman,serif\" font-size=\"14.00\">data 7.6430</text>\n",
       "<polyline fill=\"none\" stroke=\"black\" points=\"2211.5,-108.75 2211.5,-144.5\"/>\n",
       "<text text-anchor=\"middle\" x=\"2252.5\" y=\"-121.2\" font-family=\"Times New Roman,serif\" font-size=\"14.00\">grad 1.0000</text>\n",
       "</g>\n",
       "<!-- 2695867790048&#45;&gt;2695867786400* -->\n",
       "<g id=\"edge16\" class=\"edge\">\n",
       "<title>2695867790048&#45;&gt;2695867786400*</title>\n",
       "<path fill=\"none\" stroke=\"black\" d=\"M2293.11,-141.66C2302.34,-143.41 2311.37,-145.12 2319.57,-146.68\"/>\n",
       "<polygon fill=\"black\" stroke=\"black\" points=\"2318.69,-150.27 2329.17,-148.69 2320,-143.39 2318.69,-150.27\"/>\n",
       "</g>\n",
       "<!-- 2695867790048+ -->\n",
       "<g id=\"node11\" class=\"node\">\n",
       "<title>2695867790048+</title>\n",
       "<ellipse fill=\"none\" stroke=\"black\" cx=\"2068\" cy=\"-126.5\" rx=\"27\" ry=\"18\"/>\n",
       "<text text-anchor=\"middle\" x=\"2068\" y=\"-121.08\" font-family=\"Times New Roman,serif\" font-size=\"14.00\">+</text>\n",
       "</g>\n",
       "<!-- 2695867790048+&#45;&gt;2695867790048 -->\n",
       "<g id=\"edge4\" class=\"edge\">\n",
       "<title>2695867790048+&#45;&gt;2695867790048</title>\n",
       "<path fill=\"none\" stroke=\"black\" d=\"M2095.42,-126.5C2102.87,-126.5 2111.42,-126.5 2120.43,-126.5\"/>\n",
       "<polygon fill=\"black\" stroke=\"black\" points=\"2120.18,-130 2130.18,-126.5 2120.18,-123 2120.18,-130\"/>\n",
       "</g>\n",
       "<!-- 2695867788560 -->\n",
       "<g id=\"node12\" class=\"node\">\n",
       "<title>2695867788560</title>\n",
       "<polygon fill=\"none\" stroke=\"black\" points=\"1842.5,-136.5 1842.5,-172.5 2005,-172.5 2005,-136.5 1842.5,-136.5\"/>\n",
       "<text text-anchor=\"middle\" x=\"1882.75\" y=\"-149.2\" font-family=\"Times New Roman,serif\" font-size=\"14.00\">data 0.0000</text>\n",
       "<polyline fill=\"none\" stroke=\"black\" points=\"1923,-136.75 1923,-172.5\"/>\n",
       "<text text-anchor=\"middle\" x=\"1964\" y=\"-149.2\" font-family=\"Times New Roman,serif\" font-size=\"14.00\">grad 1.0000</text>\n",
       "</g>\n",
       "<!-- 2695867788560&#45;&gt;2695867790048+ -->\n",
       "<g id=\"edge17\" class=\"edge\">\n",
       "<title>2695867788560&#45;&gt;2695867790048+</title>\n",
       "<path fill=\"none\" stroke=\"black\" d=\"M2004.61,-138.78C2013.84,-136.96 2022.87,-135.19 2031.07,-133.57\"/>\n",
       "<polygon fill=\"black\" stroke=\"black\" points=\"2031.53,-136.85 2040.67,-131.49 2030.18,-129.98 2031.53,-136.85\"/>\n",
       "</g>\n",
       "<!-- 2695867782944 -->\n",
       "<g id=\"node13\" class=\"node\">\n",
       "<title>2695867782944</title>\n",
       "<polygon fill=\"none\" stroke=\"black\" points=\"1842.5,-81.5 1842.5,-117.5 2005,-117.5 2005,-81.5 1842.5,-81.5\"/>\n",
       "<text text-anchor=\"middle\" x=\"1882.75\" y=\"-94.2\" font-family=\"Times New Roman,serif\" font-size=\"14.00\">data 7.6430</text>\n",
       "<polyline fill=\"none\" stroke=\"black\" points=\"1923,-81.75 1923,-117.5\"/>\n",
       "<text text-anchor=\"middle\" x=\"1964\" y=\"-94.2\" font-family=\"Times New Roman,serif\" font-size=\"14.00\">grad 1.0000</text>\n",
       "</g>\n",
       "<!-- 2695867782944&#45;&gt;2695867790048+ -->\n",
       "<g id=\"edge22\" class=\"edge\">\n",
       "<title>2695867782944&#45;&gt;2695867790048+</title>\n",
       "<path fill=\"none\" stroke=\"black\" d=\"M2004.61,-114.66C2013.84,-116.41 2022.87,-118.12 2031.07,-119.68\"/>\n",
       "<polygon fill=\"black\" stroke=\"black\" points=\"2030.19,-123.27 2040.67,-121.69 2031.5,-116.39 2030.19,-123.27\"/>\n",
       "</g>\n",
       "<!-- 2695867782944**2 -->\n",
       "<g id=\"node14\" class=\"node\">\n",
       "<title>2695867782944**2</title>\n",
       "<ellipse fill=\"none\" stroke=\"black\" cx=\"1779.5\" cy=\"-99.5\" rx=\"27\" ry=\"18\"/>\n",
       "<text text-anchor=\"middle\" x=\"1779.5\" y=\"-94.08\" font-family=\"Times New Roman,serif\" font-size=\"14.00\">**2</text>\n",
       "</g>\n",
       "<!-- 2695867782944**2&#45;&gt;2695867782944 -->\n",
       "<g id=\"edge5\" class=\"edge\">\n",
       "<title>2695867782944**2&#45;&gt;2695867782944</title>\n",
       "<path fill=\"none\" stroke=\"black\" d=\"M1806.92,-99.5C1814.37,-99.5 1822.92,-99.5 1831.93,-99.5\"/>\n",
       "<polygon fill=\"black\" stroke=\"black\" points=\"1831.68,-103 1841.68,-99.5 1831.68,-96 1831.68,-103\"/>\n",
       "</g>\n",
       "<!-- 2695867779872 -->\n",
       "<g id=\"node15\" class=\"node\">\n",
       "<title>2695867779872</title>\n",
       "<polygon fill=\"none\" stroke=\"black\" points=\"968,-27.5 968,-63.5 1139.5,-63.5 1139.5,-27.5 968,-27.5\"/>\n",
       "<text text-anchor=\"middle\" x=\"1010.5\" y=\"-40.2\" font-family=\"Times New Roman,serif\" font-size=\"14.00\">data &#45;1.0000</text>\n",
       "<polyline fill=\"none\" stroke=\"black\" points=\"1053,-27.75 1053,-63.5\"/>\n",
       "<text text-anchor=\"middle\" x=\"1096.25\" y=\"-40.2\" font-family=\"Times New Roman,serif\" font-size=\"14.00\">grad &#45;6.9041</text>\n",
       "</g>\n",
       "<!-- 2695867779872&#45;&gt;2695867779488* -->\n",
       "<g id=\"edge26\" class=\"edge\">\n",
       "<title>2695867779872&#45;&gt;2695867779488*</title>\n",
       "<path fill=\"none\" stroke=\"black\" d=\"M1139.26,-61.05C1148.36,-62.72 1157.22,-64.35 1165.27,-65.83\"/>\n",
       "<polygon fill=\"black\" stroke=\"black\" points=\"1164.58,-69.45 1175.05,-67.82 1165.85,-62.57 1164.58,-69.45\"/>\n",
       "</g>\n",
       "<!-- 2695867783472 -->\n",
       "<g id=\"node16\" class=\"node\">\n",
       "<title>2695867783472</title>\n",
       "<polygon fill=\"none\" stroke=\"black\" points=\"670.5,-55.5 670.5,-91.5 842,-91.5 842,-55.5 670.5,-55.5\"/>\n",
       "<text text-anchor=\"middle\" x=\"713\" y=\"-68.2\" font-family=\"Times New Roman,serif\" font-size=\"14.00\">data &#45;0.9032</text>\n",
       "<polyline fill=\"none\" stroke=\"black\" points=\"755.5,-55.75 755.5,-91.5\"/>\n",
       "<text text-anchor=\"middle\" x=\"798.75\" y=\"-68.2\" font-family=\"Times New Roman,serif\" font-size=\"14.00\">grad &#45;5.5292</text>\n",
       "</g>\n",
       "<!-- 2695867783472&#45;&gt;2695867789904+ -->\n",
       "<g id=\"edge11\" class=\"edge\">\n",
       "<title>2695867783472&#45;&gt;2695867789904+</title>\n",
       "<path fill=\"none\" stroke=\"black\" d=\"M841.76,-89.05C850.86,-90.72 859.72,-92.35 867.77,-93.83\"/>\n",
       "<polygon fill=\"black\" stroke=\"black\" points=\"867.08,-97.45 877.55,-95.82 868.35,-90.57 867.08,-97.45\"/>\n",
       "</g>\n",
       "<!-- 2695867783472*&#45;&gt;2695867783472 -->\n",
       "<g id=\"edge6\" class=\"edge\">\n",
       "<title>2695867783472*&#45;&gt;2695867783472</title>\n",
       "<path fill=\"none\" stroke=\"black\" d=\"M634.74,-73.5C642.2,-73.5 650.8,-73.5 659.89,-73.5\"/>\n",
       "<polygon fill=\"black\" stroke=\"black\" points=\"659.75,-77 669.75,-73.5 659.75,-70 659.75,-77\"/>\n",
       "</g>\n",
       "<!-- 2695867780448 -->\n",
       "<g id=\"node18\" class=\"node\">\n",
       "<title>2695867780448</title>\n",
       "<polygon fill=\"none\" stroke=\"black\" points=\"20,-193.5 20,-229.5 187,-229.5 187,-193.5 20,-193.5\"/>\n",
       "<text text-anchor=\"middle\" x=\"60.25\" y=\"-206.2\" font-family=\"Times New Roman,serif\" font-size=\"14.00\">data 0.3745</text>\n",
       "<polyline fill=\"none\" stroke=\"black\" points=\"100.5,-193.75 100.5,-229.5\"/>\n",
       "<text text-anchor=\"middle\" x=\"143.75\" y=\"-206.2\" font-family=\"Times New Roman,serif\" font-size=\"14.00\">grad &#45;1.5418</text>\n",
       "</g>\n",
       "<!-- 2695867783568* -->\n",
       "<g id=\"node23\" class=\"node\">\n",
       "<title>2695867783568*</title>\n",
       "<ellipse fill=\"none\" stroke=\"black\" cx=\"270\" cy=\"-183.5\" rx=\"27\" ry=\"18\"/>\n",
       "<text text-anchor=\"middle\" x=\"270\" y=\"-178.07\" font-family=\"Times New Roman,serif\" font-size=\"14.00\">*</text>\n",
       "</g>\n",
       "<!-- 2695867780448&#45;&gt;2695867783568* -->\n",
       "<g id=\"edge25\" class=\"edge\">\n",
       "<title>2695867780448&#45;&gt;2695867783568*</title>\n",
       "<path fill=\"none\" stroke=\"black\" d=\"M186.75,-197.5C202.81,-194.77 218.88,-192.03 232.49,-189.71\"/>\n",
       "<polygon fill=\"black\" stroke=\"black\" points=\"233.03,-193 242.3,-187.88 231.85,-186.1 233.03,-193\"/>\n",
       "</g>\n",
       "<!-- 2695867789664 -->\n",
       "<g id=\"node19\" class=\"node\">\n",
       "<title>2695867789664</title>\n",
       "<polygon fill=\"none\" stroke=\"black\" points=\"357.5,-0.5 357.5,-36.5 520,-36.5 520,-0.5 357.5,-0.5\"/>\n",
       "<text text-anchor=\"middle\" x=\"397.75\" y=\"-13.2\" font-family=\"Times New Roman,serif\" font-size=\"14.00\">data 0.9507</text>\n",
       "<polyline fill=\"none\" stroke=\"black\" points=\"438,-0.75 438,-36.5\"/>\n",
       "<text text-anchor=\"middle\" x=\"479\" y=\"-13.2\" font-family=\"Times New Roman,serif\" font-size=\"14.00\">grad 5.2526</text>\n",
       "</g>\n",
       "<!-- 2695867789664&#45;&gt;2695867783472* -->\n",
       "<g id=\"edge21\" class=\"edge\">\n",
       "<title>2695867789664&#45;&gt;2695867783472*</title>\n",
       "<path fill=\"none\" stroke=\"black\" d=\"M515.74,-36.44C525.5,-39.22 535.29,-42.26 544.5,-45.5 554.84,-49.14 565.82,-53.81 575.63,-58.3\"/>\n",
       "<polygon fill=\"black\" stroke=\"black\" points=\"573.81,-61.78 584.35,-62.86 576.78,-55.44 573.81,-61.78\"/>\n",
       "</g>\n",
       "<!-- 2695867781504 -->\n",
       "<g id=\"node20\" class=\"node\">\n",
       "<title>2695867781504</title>\n",
       "<polygon fill=\"none\" stroke=\"black\" points=\"1554,-81.5 1554,-117.5 1716.5,-117.5 1716.5,-81.5 1554,-81.5\"/>\n",
       "<text text-anchor=\"middle\" x=\"1594.25\" y=\"-94.2\" font-family=\"Times New Roman,serif\" font-size=\"14.00\">data 2.7646</text>\n",
       "<polyline fill=\"none\" stroke=\"black\" points=\"1634.5,-81.75 1634.5,-117.5\"/>\n",
       "<text text-anchor=\"middle\" x=\"1675.5\" y=\"-94.2\" font-family=\"Times New Roman,serif\" font-size=\"14.00\">grad 5.5292</text>\n",
       "</g>\n",
       "<!-- 2695867781504&#45;&gt;2695867782944**2 -->\n",
       "<g id=\"edge15\" class=\"edge\">\n",
       "<title>2695867781504&#45;&gt;2695867782944**2</title>\n",
       "<path fill=\"none\" stroke=\"black\" d=\"M1716.11,-99.5C1724.87,-99.5 1733.46,-99.5 1741.32,-99.5\"/>\n",
       "<polygon fill=\"black\" stroke=\"black\" points=\"1741.26,-103 1751.26,-99.5 1741.26,-96 1741.26,-103\"/>\n",
       "</g>\n",
       "<!-- 2695867781504+&#45;&gt;2695867781504 -->\n",
       "<g id=\"edge7\" class=\"edge\">\n",
       "<title>2695867781504+&#45;&gt;2695867781504</title>\n",
       "<path fill=\"none\" stroke=\"black\" d=\"M1518.42,-99.5C1525.87,-99.5 1534.42,-99.5 1543.43,-99.5\"/>\n",
       "<polygon fill=\"black\" stroke=\"black\" points=\"1543.18,-103 1553.18,-99.5 1543.18,-96 1543.18,-103\"/>\n",
       "</g>\n",
       "<!-- 2695867783568 -->\n",
       "<g id=\"node22\" class=\"node\">\n",
       "<title>2695867783568</title>\n",
       "<polygon fill=\"none\" stroke=\"black\" points=\"355.25,-165.5 355.25,-201.5 522.25,-201.5 522.25,-165.5 355.25,-165.5\"/>\n",
       "<text text-anchor=\"middle\" x=\"395.5\" y=\"-178.2\" font-family=\"Times New Roman,serif\" font-size=\"14.00\">data 0.1044</text>\n",
       "<polyline fill=\"none\" stroke=\"black\" points=\"435.75,-165.75 435.75,-201.5\"/>\n",
       "<text text-anchor=\"middle\" x=\"479\" y=\"-178.2\" font-family=\"Times New Roman,serif\" font-size=\"14.00\">grad &#45;5.5292</text>\n",
       "</g>\n",
       "<!-- 2695867783568&#45;&gt;2695867783328+ -->\n",
       "<g id=\"edge12\" class=\"edge\">\n",
       "<title>2695867783568&#45;&gt;2695867783328+</title>\n",
       "<path fill=\"none\" stroke=\"black\" d=\"M515.74,-165.56C525.5,-162.78 535.29,-159.74 544.5,-156.5 554.84,-152.86 565.82,-148.19 575.63,-143.7\"/>\n",
       "<polygon fill=\"black\" stroke=\"black\" points=\"576.78,-146.56 584.35,-139.14 573.81,-140.22 576.78,-146.56\"/>\n",
       "</g>\n",
       "<!-- 2695867783568*&#45;&gt;2695867783568 -->\n",
       "<g id=\"edge8\" class=\"edge\">\n",
       "<title>2695867783568*&#45;&gt;2695867783568</title>\n",
       "<path fill=\"none\" stroke=\"black\" d=\"M297.42,-183.5C310.58,-183.5 327.36,-183.5 344.71,-183.5\"/>\n",
       "<polygon fill=\"black\" stroke=\"black\" points=\"344.55,-187 354.55,-183.5 344.55,-180 344.55,-187\"/>\n",
       "</g>\n",
       "<!-- 2695867779488 -->\n",
       "<g id=\"node24\" class=\"node\">\n",
       "<title>2695867779488</title>\n",
       "<polygon fill=\"none\" stroke=\"black\" points=\"1265.5,-54.5 1265.5,-90.5 1428,-90.5 1428,-54.5 1265.5,-54.5\"/>\n",
       "<text text-anchor=\"middle\" x=\"1305.75\" y=\"-67.2\" font-family=\"Times New Roman,serif\" font-size=\"14.00\">data 1.2487</text>\n",
       "<polyline fill=\"none\" stroke=\"black\" points=\"1346,-54.75 1346,-90.5\"/>\n",
       "<text text-anchor=\"middle\" x=\"1387\" y=\"-67.2\" font-family=\"Times New Roman,serif\" font-size=\"14.00\">grad 5.5292</text>\n",
       "</g>\n",
       "<!-- 2695867779488&#45;&gt;2695867781504+ -->\n",
       "<g id=\"edge19\" class=\"edge\">\n",
       "<title>2695867779488&#45;&gt;2695867781504+</title>\n",
       "<path fill=\"none\" stroke=\"black\" d=\"M1427.61,-87.66C1436.84,-89.41 1445.87,-91.12 1454.07,-92.68\"/>\n",
       "<polygon fill=\"black\" stroke=\"black\" points=\"1453.19,-96.27 1463.67,-94.69 1454.5,-89.39 1453.19,-96.27\"/>\n",
       "</g>\n",
       "<!-- 2695867779488*&#45;&gt;2695867779488 -->\n",
       "<g id=\"edge9\" class=\"edge\">\n",
       "<title>2695867779488*&#45;&gt;2695867779488</title>\n",
       "<path fill=\"none\" stroke=\"black\" d=\"M1229.92,-72.5C1237.37,-72.5 1245.92,-72.5 1254.93,-72.5\"/>\n",
       "<polygon fill=\"black\" stroke=\"black\" points=\"1254.68,-76 1264.68,-72.5 1254.68,-69 1254.68,-76\"/>\n",
       "</g>\n",
       "<!-- 2695869594064 -->\n",
       "<g id=\"node26\" class=\"node\">\n",
       "<title>2695869594064</title>\n",
       "<polygon fill=\"none\" stroke=\"black\" points=\"0,-138.5 0,-174.5 207,-174.5 207,-138.5 0,-138.5\"/>\n",
       "<text text-anchor=\"middle\" x=\"20\" y=\"-151.2\" font-family=\"Times New Roman,serif\" font-size=\"14.00\">w_1</text>\n",
       "<polyline fill=\"none\" stroke=\"black\" points=\"40,-138.75 40,-174.5\"/>\n",
       "<text text-anchor=\"middle\" x=\"80.25\" y=\"-151.2\" font-family=\"Times New Roman,serif\" font-size=\"14.00\">data 0.2789</text>\n",
       "<polyline fill=\"none\" stroke=\"black\" points=\"120.5,-138.75 120.5,-174.5\"/>\n",
       "<text text-anchor=\"middle\" x=\"163.75\" y=\"-151.2\" font-family=\"Times New Roman,serif\" font-size=\"14.00\">grad &#45;2.0709</text>\n",
       "</g>\n",
       "<!-- 2695869594064&#45;&gt;2695867783568* -->\n",
       "<g id=\"edge13\" class=\"edge\">\n",
       "<title>2695869594064&#45;&gt;2695867783568*</title>\n",
       "<path fill=\"none\" stroke=\"black\" d=\"M206.81,-173.29C215.96,-174.79 224.75,-176.24 232.71,-177.54\"/>\n",
       "<polygon fill=\"black\" stroke=\"black\" points=\"231.9,-181.12 242.33,-179.29 233.03,-174.21 231.9,-181.12\"/>\n",
       "</g>\n",
       "<!-- 2695867782128 -->\n",
       "<g id=\"node27\" class=\"node\">\n",
       "<title>2695867782128</title>\n",
       "<polygon fill=\"none\" stroke=\"black\" points=\"341.25,-110.5 341.25,-146.5 536.25,-146.5 536.25,-110.5 341.25,-110.5\"/>\n",
       "<text text-anchor=\"middle\" x=\"353\" y=\"-123.2\" font-family=\"Times New Roman,serif\" font-size=\"14.00\">b</text>\n",
       "<polyline fill=\"none\" stroke=\"black\" points=\"364.75,-110.75 364.75,-146.5\"/>\n",
       "<text text-anchor=\"middle\" x=\"407.25\" y=\"-123.2\" font-family=\"Times New Roman,serif\" font-size=\"14.00\">data &#45;0.4499</text>\n",
       "<polyline fill=\"none\" stroke=\"black\" points=\"449.75,-110.75 449.75,-146.5\"/>\n",
       "<text text-anchor=\"middle\" x=\"493\" y=\"-123.2\" font-family=\"Times New Roman,serif\" font-size=\"14.00\">grad &#45;5.5292</text>\n",
       "</g>\n",
       "<!-- 2695867782128&#45;&gt;2695867783328+ -->\n",
       "<g id=\"edge20\" class=\"edge\">\n",
       "<title>2695867782128&#45;&gt;2695867783328+</title>\n",
       "<path fill=\"none\" stroke=\"black\" d=\"M535.78,-128.5C547.67,-128.5 559.21,-128.5 569.39,-128.5\"/>\n",
       "<polygon fill=\"black\" stroke=\"black\" points=\"569.27,-132 579.27,-128.5 569.27,-125 569.27,-132\"/>\n",
       "</g>\n",
       "</g>\n",
       "</svg>\n"
      ],
      "text/plain": [
       "<graphviz.graphs.Digraph at 0x273ae3df640>"
      ]
     },
     "execution_count": 9,
     "metadata": {},
     "output_type": "execute_result"
    }
   ],
   "source": [
    "# Backward pass\n",
    "loss.backward(); loss.label = 'loss'\n",
    "draw_dot(loss)"
   ]
  },
  {
   "cell_type": "markdown",
   "metadata": {},
   "source": [
    "Now, there is just the last step left: updating the weights in the direction that lowers the loss.\n",
    "\n",
    "But what direction do we have to travel to decrease the loss? Let's think this through. We can see that the gradients for the weights are $\\frac{d_{loss}}{dw_1}=-2.07$, $\\frac{d_{loss}}{dw_2}=-5.26$, and $\\frac{d_{loss}}{db}=-5.53$, while $loss=7.64$. All three gradients are negative, which means that the loss will decrease if we increase the weights. So moving the weights in the positive direction when the gradients are negative will decrease the loss. We can also reason about the opposite case: if the gradients are positive, then increasing the weights would increase the loss, which is the opposite of what we want. So we need to move the weights in the negative direction to decrease the loss if the gradients are positive. This gives us the general rule: *move the weights in the opposite direction of the gradients to decrease the loss*."
   ]
  },
  {
   "cell_type": "code",
   "execution_count": 10,
   "metadata": {},
   "outputs": [],
   "source": [
    "def update_weights(neuron, learning_rate=0.01):\n",
    "    for parameter in neuron.parameters():\n",
    "        parameter.data -= parameter.grad * learning_rate\n",
    "    neuron.zero_grad()  # Reset the gradients to zero\n",
    "    return neuron"
   ]
  },
  {
   "cell_type": "markdown",
   "metadata": {},
   "source": [
    "Notice the parameter `learning_rate` in the code above. `learning_rate` is a parameter that controls the size of the step we take when updating the weights. It must often be fine-tuned to get the best results out of the training. Too small of a learning rate will result in slow training, while too large of a learning rate will result in the model overshooting the optimal weights and never converging.\n",
    "\n",
    "![learning_rate](img/learning_rate.jpg)"
   ]
  },
  {
   "cell_type": "code",
   "execution_count": 11,
   "metadata": {},
   "outputs": [
    {
     "name": "stdout",
     "output_type": "stream",
     "text": [
      "[Value(0.2789, grad=-2.0709, label=w_1), Value(-0.9500, grad=-5.2567, label=w_2)] Value(-0.4499, grad=-5.5292, label=b)\n",
      "[Value(0.2996, grad=0.0000, label=w_1), Value(-0.8974, grad=0.0000, label=w_2)] Value(-0.3946, grad=0.0000, label=b)\n"
     ]
    }
   ],
   "source": [
    "# Weights before and after update\n",
    "print(linear_model.w, linear_model.b)\n",
    "linear_model = update_weights(linear_model, learning_rate=0.01)\n",
    "print(linear_model.w, linear_model.b)"
   ]
  },
  {
   "cell_type": "markdown",
   "metadata": {},
   "source": [
    "Now, let's check if the loss has decreased after one iteration."
   ]
  },
  {
   "cell_type": "code",
   "execution_count": 12,
   "metadata": {},
   "outputs": [
    {
     "data": {
      "text/plain": [
       "Value(7.0308, grad=0.0000)"
      ]
     },
     "execution_count": 12,
     "metadata": {},
     "output_type": "execute_result"
    }
   ],
   "source": [
    "output = linear_model(x[0])\n",
    "loss = mse(y[0], output)\n",
    "loss  # Previous loss = 7.6430"
   ]
  },
  {
   "cell_type": "markdown",
   "metadata": {},
   "source": [
    "Success! We've moved the weights in a direction that lowers the loss. \n",
    "\n",
    "We can now extend this training proccess to train on all samples in the dataset and to train over multiple iterations so we can fit our linear model properly to the data."
   ]
  },
  {
   "cell_type": "code",
   "execution_count": 13,
   "metadata": {},
   "outputs": [
    {
     "name": "stdout",
     "output_type": "stream",
     "text": [
      "0: 1.6482\n",
      "1: 0.6424\n",
      "2: 0.3794\n",
      "3: 0.2864\n",
      "4: 0.2365\n",
      "5: 0.2006\n",
      "6: 0.1717\n",
      "7: 0.1476\n",
      "8: 0.1272\n",
      "9: 0.1099\n",
      "10: 0.0952\n",
      "11: 0.0826\n",
      "12: 0.0720\n",
      "13: 0.0628\n",
      "14: 0.0550\n",
      "15: 0.0482\n",
      "16: 0.0425\n",
      "17: 0.0375\n",
      "18: 0.0332\n",
      "19: 0.0295\n",
      "20: 0.0262\n",
      "21: 0.0234\n",
      "22: 0.0210\n",
      "23: 0.0189\n",
      "24: 0.0170\n",
      "25: 0.0154\n",
      "26: 0.0140\n",
      "27: 0.0128\n",
      "28: 0.0117\n",
      "29: 0.0107\n",
      "30: 0.0099\n",
      "31: 0.0091\n",
      "32: 0.0085\n",
      "33: 0.0079\n",
      "34: 0.0074\n",
      "35: 0.0069\n",
      "36: 0.0065\n",
      "37: 0.0062\n",
      "38: 0.0059\n",
      "39: 0.0056\n",
      "40: 0.0054\n",
      "41: 0.0051\n",
      "42: 0.0049\n",
      "43: 0.0048\n",
      "44: 0.0046\n",
      "45: 0.0045\n",
      "46: 0.0044\n",
      "47: 0.0043\n",
      "48: 0.0042\n",
      "49: 0.0041\n",
      "50: 0.0040\n",
      "51: 0.0039\n",
      "52: 0.0039\n",
      "53: 0.0038\n",
      "54: 0.0038\n",
      "55: 0.0037\n",
      "56: 0.0037\n",
      "57: 0.0036\n",
      "58: 0.0036\n",
      "59: 0.0036\n",
      "60: 0.0036\n",
      "61: 0.0035\n",
      "62: 0.0035\n",
      "63: 0.0035\n",
      "64: 0.0035\n",
      "65: 0.0035\n",
      "66: 0.0035\n",
      "67: 0.0034\n",
      "68: 0.0034\n",
      "69: 0.0034\n",
      "70: 0.0034\n",
      "71: 0.0034\n",
      "72: 0.0034\n",
      "73: 0.0034\n",
      "74: 0.0034\n",
      "75: 0.0034\n",
      "76: 0.0034\n",
      "77: 0.0034\n",
      "78: 0.0034\n",
      "79: 0.0034\n",
      "80: 0.0034\n",
      "81: 0.0034\n",
      "82: 0.0034\n",
      "83: 0.0034\n",
      "84: 0.0034\n",
      "85: 0.0034\n",
      "86: 0.0034\n",
      "87: 0.0034\n",
      "88: 0.0034\n",
      "89: 0.0034\n",
      "90: 0.0034\n",
      "91: 0.0034\n",
      "92: 0.0034\n",
      "93: 0.0034\n",
      "94: 0.0034\n",
      "95: 0.0034\n",
      "96: 0.0034\n",
      "97: 0.0033\n",
      "98: 0.0033\n",
      "99: 0.0033\n"
     ]
    }
   ],
   "source": [
    "def train_model(model, num_iterations, learning_rate):\n",
    "    # Trains the model with gradient descent\n",
    "    for i in range(num_iterations):\n",
    "        # Forward Pass\n",
    "        outputs = (model(xi) for xi in x)\n",
    "        loss = mse(y, outputs)\n",
    "        # Backward Pass\n",
    "        loss.backward()\n",
    "        # Update\n",
    "        update_weights(model, learning_rate=learning_rate)\n",
    "        print(f'{i}: {loss.data:.4f}')\n",
    "\n",
    "linear_model = Neuron(num_inputs=2, activation='linear')  # reset the weights\n",
    "train_model(linear_model, num_iterations=100, learning_rate=0.5)"
   ]
  },
  {
   "cell_type": "markdown",
   "metadata": {},
   "source": [
    "The proccess of iteratively moving the weights to reduce the loss is called gradient descent. The whole proccess of training a model with gradient descent can be summarized as follows:\n",
    "\n",
    "1. Predict the output given the input data and current weights.\n",
    "2. Compute the loss between the predicted and actual values.\n",
    "3. Compute the gradient of the loss with respect to the weights.\n",
    "4. Move the weights a small step in the direction opposite to the gradient to reduce the loss."
   ]
  },
  {
   "cell_type": "code",
   "execution_count": 14,
   "metadata": {},
   "outputs": [
    {
     "data": {
      "text/plain": [
       "[Value(2.0056, grad=0.0000, label=w_1),\n",
       " Value(0.8337, grad=0.0000, label=w_2),\n",
       " Value(0.0766, grad=0.0000, label=b)]"
      ]
     },
     "execution_count": 14,
     "metadata": {},
     "output_type": "execute_result"
    }
   ],
   "source": [
    "linear_model.parameters()"
   ]
  },
  {
   "cell_type": "markdown",
   "metadata": {},
   "source": [
    "We've successfully trained our neuron to fit the data. It predicts the relationship to be $\\hat{y}=2.0056x_1+0.8337x_2+0.0766+\\epsilon$, which is pretty close to the true relationship $y=2x_1+0.8x_2+\\epsilon$."
   ]
  },
  {
   "cell_type": "code",
   "execution_count": 15,
   "metadata": {},
   "outputs": [
    {
     "data": {
      "image/png": "[encoded data removed]",
      "text/plain": [
       "<Figure size 432x288 with 1 Axes>"
      ]
     },
     "metadata": {
      "needs_background": "light"
     },
     "output_type": "display_data"
    }
   ],
   "source": [
    "y_pred = [linear_model(xi).data for xi in x]\n",
    "\n",
    "# plot scatter of y vs y_pred\n",
    "plt.scatter(y, y_pred)\n",
    "plt.xlabel('$y$ (true value)')\n",
    "plt.ylabel('$\\hat{y}$ (prediction)')\n",
    "plt.title('Neuron Prediction vs True Value')\n",
    "plt.show()"
   ]
  },
  {
   "cell_type": "markdown",
   "metadata": {},
   "source": [
    "We can now move on to connecting together multiple neurons together to form a neural network."
   ]
  },
  {
   "cell_type": "markdown",
   "metadata": {},
   "source": [
    "## Neural Network\n",
    "\n",
    "A neural network is a collection of artificial neurons, grouped into layers. \n",
    "Within each layer, neurons operate independently as they are not interconnected. However, each neuron connects to every other neuron in the layer before and after. You can see an illustration of a neural network below.\n",
    "\n",
    "![A neural network](img/neural_network.jpg)\n",
    "\n",
    "Here's a basic breakdown:\n",
    "\n",
    "- **Input Layer**: The first \"layer\" of the network is the raw input data, and not artificial neurons. The number of items in this layer is the number of input features.\n",
    "- **Hidden Layers**: After the input layer, we have the \"hidden\" layer(s). These layers take the output of the previous layer, processes and transforms it using artificial neurons. We can stack many of these layers where the output of the neurons one layer is the input of the neurons in the next layer. Each neuron in this layer is connected to every neuron in the previous and next layer.\n",
    "- **Output Layer**: This is the final layer, which produces the result. The activation function used in the output layer differs from the hidden layers and depends on the task at hand. For example, in a binary classification task, the output layer might have a [sigmoid activation function](https://en.wikipedia.org/wiki/Logistic_function) which squishes the output between 0 and 1 to represent the probability of belonging to the positive class.\n",
    "- **Weights**: Each connection between neurons has a weight, which determines the strength of the connection. During training, the weights are adjusted to optimize the network's performance using backpropagation.\n",
    "\n",
    "The depth and non-linearity of a neural network allows it to learn very complex patterns in the data, making them very versatile and powerful. Neural Networks are used in applications like computer vision, natural language processing, speech recognition, time series forecasting, recommender systems, search engines, etc. "
   ]
  },
  {
   "cell_type": "markdown",
   "metadata": {},
   "source": [
    "As with the neuron, we'll first implement a hard-coded neural network before generalizing.\n",
    "\n",
    " We'll create the network which was illustrated above. It consists of an input layer with three features, two hidden layers with four neurons each, and an output layer with a single neuron. We'll use the $\\tanh$ activation function for the hidden layers. We will pretend that we're doing a regression task so we'll use a linear activation function for the output layer."
   ]
  },
  {
   "cell_type": "code",
   "execution_count": 16,
   "metadata": {},
   "outputs": [],
   "source": [
    "x = [Value(2.0, label='x_1'), Value(0.0, label='x_2'), Value(-3.0, label='x_3')]  # inputs\n",
    "y = [Value(1.0, label='y')]  # outputs\n",
    "\n",
    "hidden_layer1 = [Neuron(3), Neuron(3), Neuron(3), Neuron(3)]  # Uses tanh activation by default\n",
    "hidden_layer2 = [Neuron(4), Neuron(4), Neuron(4), Neuron(4)]\n",
    "output_layer = Neuron(4, activation='linear')"
   ]
  },
  {
   "cell_type": "markdown",
   "metadata": {},
   "source": [
    "The procedure for training a network is very similar to that of a single neuron. We'll use the same MSE loss function and gradient descent algorithm as before. Remember that the proccess of training a model is as follows: \n",
    "\n",
    "1. Predict the output given the input data and current weights.\n",
    "2. Compute the loss between the predicted and actual values.\n",
    "3. Compute the gradient of the loss with respect to the weights.\n",
    "4. Move the weights a small step in the direction opposite to the gradient to reduce the loss.\n",
    "\n",
    "We start with the forward pass of the network. It is done by passing the outputs of one layer to the next, until we reach the last layer which gives us the output of the network."
   ]
  },
  {
   "cell_type": "code",
   "execution_count": 17,
   "metadata": {},
   "outputs": [
    {
     "data": {
      "text/plain": [
       "Value(-1.3343, grad=0.0000)"
      ]
     },
     "execution_count": 17,
     "metadata": {},
     "output_type": "execute_result"
    }
   ],
   "source": [
    "# Forward pass\n",
    "\n",
    "# First hidden layer\n",
    "a_1 = [neuron(x) for neuron in hidden_layer1]\n",
    "# Second hidden layer\n",
    "a_2 = [neuron(a_1) for neuron in hidden_layer2]  # The input is the output of the first hidden layer\n",
    "# Output layer\n",
    "yhat = output_layer(a_2)  # The input is the output of the second hidden layer\n",
    "yhat"
   ]
  },
  {
   "cell_type": "code",
   "execution_count": 18,
   "metadata": {},
   "outputs": [
    {
     "data": {
      "text/plain": [
       "Value(5.4491, grad=0.0000)"
      ]
     },
     "execution_count": 18,
     "metadata": {},
     "output_type": "execute_result"
    }
   ],
   "source": [
    "loss = mse(y, yhat)\n",
    "loss"
   ]
  },
  {
   "cell_type": "markdown",
   "metadata": {},
   "source": [
    "As with the single neuron, the backward pass is as simple ass calling `.backward()` on the loss value to compute the gradients of the model."
   ]
  },
  {
   "cell_type": "code",
   "execution_count": 19,
   "metadata": {},
   "outputs": [],
   "source": [
    "# backward pass\n",
    "loss.backward()"
   ]
  },
  {
   "cell_type": "markdown",
   "metadata": {},
   "source": [
    "The last step is to update our weights using the gradients from the previous step."
   ]
  },
  {
   "cell_type": "code",
   "execution_count": 20,
   "metadata": {},
   "outputs": [],
   "source": [
    "# Updating the parameters\n",
    "def update_weights(model, learning_rate=0.01):  # Redefined here for your convenience\n",
    "    for parameter in model.parameters():\n",
    "        parameter.data -= parameter.grad * learning_rate\n",
    "    model.zero_grad()  # Reset the gradients to zero\n",
    "\n",
    "LR = 0.01\n",
    "\n",
    "update_weights(output_layer, LR)\n",
    "for neuron in hidden_layer2:\n",
    "    update_weights(neuron, LR)\n",
    "for neuron in hidden_layer1:\n",
    "    update_weights(neuron, LR)"
   ]
  },
  {
   "cell_type": "markdown",
   "metadata": {},
   "source": [
    "We can now check that the proccess works by redoing the forward pass to see if the loss is reduced."
   ]
  },
  {
   "cell_type": "code",
   "execution_count": 21,
   "metadata": {},
   "outputs": [
    {
     "name": "stdout",
     "output_type": "stream",
     "text": [
      "Value(4.1383, grad=0.0000)\n"
     ]
    }
   ],
   "source": [
    "# Forward pass\n",
    "a_1 = [neuron(x) for neuron in hidden_layer1]\n",
    "a_2 = [neuron(a_1) for neuron in hidden_layer2]\n",
    "yhat = output_layer(a_2)\n",
    "loss = mse(y, yhat)\n",
    "print(loss)  # Previous loss = 5.4491"
   ]
  },
  {
   "cell_type": "markdown",
   "metadata": {},
   "source": [
    "The neural network reduces its loss as expected. We now move on to generalizing what we just did. We'll do this by creating two new classes `Layer` and `VanillaNN`. We'll start with `Layer`.\n",
    "\n",
    "The `Layer` class is simple. It is just a list of neurons, the number of which is defined by `num_ouputs`, each taking\n",
    "`num_inputs` of features as inputs. The rest of the interface is the same as in `Neuron`."
   ]
  },
  {
   "cell_type": "code",
   "execution_count": 22,
   "metadata": {},
   "outputs": [
    {
     "name": "stdout",
     "output_type": "stream",
     "text": [
      "Layer([ReLUNeuron(3), ReLUNeuron(3), ReLUNeuron(3), ReLUNeuron(3)])\n"
     ]
    }
   ],
   "source": [
    "class Layer:\n",
    "    def __init__(self, num_inputs, num_outputs, activation='tanh'):\n",
    "        self.neurons = [Neuron(num_inputs, activation) for _ in range(num_outputs)]\n",
    "\n",
    "    def __call__(self, x):\n",
    "        \"\"\"The forward pass of a single layer\"\"\"\n",
    "        out = [n(x) for n in self.neurons]\n",
    "        return out[0] if len(out) == 1 else out\n",
    "\n",
    "    def parameters(self):\n",
    "        \"\"\"Return the weights and bias of the whole layer as a list\"\"\"\n",
    "        return [p for n in self.neurons for p in n.parameters()]\n",
    "\n",
    "    def __repr__(self):\n",
    "        return f\"Layer({self.neurons})\"\n",
    "    \n",
    "    def zero_grad(self):\n",
    "        \"\"\"Reset the gradients to zero\"\"\"\n",
    "        for p in self.parameters():\n",
    "            p.grad = 0\n",
    "\n",
    "layer = Layer(3, 4, activation='relu')\n",
    "print(layer)"
   ]
  },
  {
   "cell_type": "markdown",
   "metadata": {},
   "source": [
    "`VanillaNN` is also just as simple. It is just a list of `Layer`s which implements its forward pass by passing the output of one layer as the input to the next."
   ]
  },
  {
   "cell_type": "code",
   "execution_count": 23,
   "metadata": {},
   "outputs": [
    {
     "data": {
      "text/plain": [
       "VanillaNN([\n",
       "  Layer([TanhNeuron(3), TanhNeuron(3), TanhNeuron(3), TanhNeuron(3)]),\n",
       "  Layer([TanhNeuron(4), TanhNeuron(4), TanhNeuron(4), TanhNeuron(4)]),\n",
       "  Layer([LinearNeuron(4)])\n",
       "])"
      ]
     },
     "execution_count": 23,
     "metadata": {},
     "output_type": "execute_result"
    }
   ],
   "source": [
    "class VanillaNN:\n",
    "    def __init__(self, layers):\n",
    "        self.layers = layers\n",
    "\n",
    "    def __call__(self, x):\n",
    "        \"\"\"The forward pass of a full network\"\"\"\n",
    "        for layer in self.layers:\n",
    "            x = layer(x)\n",
    "        return x\n",
    "\n",
    "    def parameters(self):\n",
    "        \"\"\"Return the weights and bias of the whole network as a list\"\"\"\n",
    "        return [p for layer in self.layers for p in layer.parameters()]\n",
    "\n",
    "    def __repr__(self):\n",
    "        layers_str = ',\\n  '.join([str(layer) for layer in self.layers])\n",
    "        return f\"VanillaNN([\\n  {layers_str}\\n])\"\n",
    "\n",
    "    def zero_grad(self):\n",
    "        \"\"\"Reset the gradients to zero\"\"\"\n",
    "        for p in self.parameters():\n",
    "            p.grad = 0\n",
    "\n",
    "layers = [\n",
    "    Layer(3, 4, activation='tanh'),\n",
    "    Layer(4, 4, activation='tanh'),\n",
    "    Layer(4, 1, activation='linear')\n",
    "]\n",
    "nn = VanillaNN(layers)\n",
    "nn"
   ]
  },
  {
   "cell_type": "markdown",
   "metadata": {},
   "source": [
    "The simplicity of `Layer` and `VanillaNN` testifies to how much of the real work is already implemented by `Value` and `Neuron`."
   ]
  },
  {
   "cell_type": "markdown",
   "metadata": {},
   "source": [
    "We can do a sanity check of our network by implementing a training loop on the same data used above."
   ]
  },
  {
   "cell_type": "code",
   "execution_count": 24,
   "metadata": {},
   "outputs": [
    {
     "name": "stdout",
     "output_type": "stream",
     "text": [
      "Actual Value: 1.0\n",
      "Prediction before training: 0.5425\n",
      "\n",
      "loss.data=0.2093\n",
      "loss.data=0.0335\n",
      "loss.data=0.0051\n",
      "loss.data=0.0008\n",
      "loss.data=0.0001\n",
      "\n",
      "Prediction after training: 0.9959\n"
     ]
    }
   ],
   "source": [
    "print(f'Actual Value: {y[0].data}')\n",
    "print(f'Prediction before training: {nn(x).data:.4f}\\n')\n",
    "for _ in range(5):\n",
    "    yhat = nn(x)\n",
    "    loss = mse(y, yhat)\n",
    "    print(f'{loss.data=:0.4f}')\n",
    "    loss.backward()\n",
    "    update_weights(nn, learning_rate=0.05)\n",
    "    \n",
    "print(f'\\nPrediction after training: {nn(x).data:.4f}')"
   ]
  },
  {
   "cell_type": "markdown",
   "metadata": {},
   "source": [
    "Now, training on a fake \"dataset\" consisting of one single datapoint isn't exactly interesting, realistic, nor really in the spirit of deep learning. So let's train a neural network on something more akin to a real dataset."
   ]
  },
  {
   "cell_type": "markdown",
   "metadata": {},
   "source": [
    "## Training on a real dataset\n",
    "\n",
    "The IRIS dataset is one of the most popular datasets in the world of machine learning and data science. It contains 150 observations of iris flowers from three different species. Each observation is described by four features:\n",
    "\n",
    "1. Sepal Length\n",
    "2. Sepal Width\n",
    "3. Petal Length\n",
    "4. Petal Width\n",
    "\n",
    "The three species are:\n",
    "\n",
    "1. Setosa\n",
    "2. Versicolour\n",
    "3. Virginica\n",
    "\n",
    "Our goal is to predict the iris species based on its features. Let's start by loading and exploring the dataset."
   ]
  },
  {
   "cell_type": "code",
   "execution_count": 25,
   "metadata": {},
   "outputs": [
    {
     "data": {
      "text/html": [
       "<div>\n",
       "<style scoped>\n",
       "    .dataframe tbody tr th:only-of-type {\n",
       "        vertical-align: middle;\n",
       "    }\n",
       "\n",
       "    .dataframe tbody tr th {\n",
       "        vertical-align: top;\n",
       "    }\n",
       "\n",
       "    .dataframe thead th {\n",
       "        text-align: right;\n",
       "    }\n",
       "</style>\n",
       "<table border=\"1\" class=\"dataframe\">\n",
       "  <thead>\n",
       "    <tr style=\"text-align: right;\">\n",
       "      <th></th>\n",
       "      <th>sepal_length</th>\n",
       "      <th>sepal_width</th>\n",
       "      <th>petal_length</th>\n",
       "      <th>petal_width</th>\n",
       "      <th>species</th>\n",
       "    </tr>\n",
       "  </thead>\n",
       "  <tbody>\n",
       "    <tr>\n",
       "      <th>73</th>\n",
       "      <td>6.1</td>\n",
       "      <td>2.8</td>\n",
       "      <td>4.7</td>\n",
       "      <td>1.2</td>\n",
       "      <td>Iris-versicolor</td>\n",
       "    </tr>\n",
       "    <tr>\n",
       "      <th>18</th>\n",
       "      <td>5.7</td>\n",
       "      <td>3.8</td>\n",
       "      <td>1.7</td>\n",
       "      <td>0.3</td>\n",
       "      <td>Iris-setosa</td>\n",
       "    </tr>\n",
       "    <tr>\n",
       "      <th>118</th>\n",
       "      <td>7.7</td>\n",
       "      <td>2.6</td>\n",
       "      <td>6.9</td>\n",
       "      <td>2.3</td>\n",
       "      <td>Iris-virginica</td>\n",
       "    </tr>\n",
       "    <tr>\n",
       "      <th>78</th>\n",
       "      <td>6.0</td>\n",
       "      <td>2.9</td>\n",
       "      <td>4.5</td>\n",
       "      <td>1.5</td>\n",
       "      <td>Iris-versicolor</td>\n",
       "    </tr>\n",
       "    <tr>\n",
       "      <th>76</th>\n",
       "      <td>6.8</td>\n",
       "      <td>2.8</td>\n",
       "      <td>4.8</td>\n",
       "      <td>1.4</td>\n",
       "      <td>Iris-versicolor</td>\n",
       "    </tr>\n",
       "  </tbody>\n",
       "</table>\n",
       "</div>"
      ],
      "text/plain": [
       "     sepal_length  sepal_width  petal_length  petal_width          species\n",
       "73            6.1          2.8           4.7          1.2  Iris-versicolor\n",
       "18            5.7          3.8           1.7          0.3      Iris-setosa\n",
       "118           7.7          2.6           6.9          2.3   Iris-virginica\n",
       "78            6.0          2.9           4.5          1.5  Iris-versicolor\n",
       "76            6.8          2.8           4.8          1.4  Iris-versicolor"
      ]
     },
     "execution_count": 25,
     "metadata": {},
     "output_type": "execute_result"
    }
   ],
   "source": [
    "import pandas as pd\n",
    "\n",
    "iris = pd.read_csv('../data/IRIS.csv')\n",
    "iris = iris.sample(frac=1, random_state=42)\n",
    "iris['species'] = iris['species'].astype('category')\n",
    "iris.head()"
   ]
  },
  {
   "cell_type": "code",
   "execution_count": 26,
   "metadata": {},
   "outputs": [
    {
     "data": {
      "text/plain": [
       "Iris-setosa        50\n",
       "Iris-versicolor    50\n",
       "Iris-virginica     50\n",
       "Name: species, dtype: int64"
      ]
     },
     "execution_count": 26,
     "metadata": {},
     "output_type": "execute_result"
    }
   ],
   "source": [
    "iris.species.value_counts()"
   ]
  },
  {
   "cell_type": "code",
   "execution_count": 27,
   "metadata": {},
   "outputs": [
    {
     "data": {
      "image/png": "[encoded data removed]",
      "text/plain": [
       "<Figure size 864x360 with 2 Axes>"
      ]
     },
     "metadata": {
      "needs_background": "light"
     },
     "output_type": "display_data"
    }
   ],
   "source": [
    "import matplotlib.pyplot as plt\n",
    "\n",
    "fig, ax = plt.subplots(1, 2, figsize=(12, 5))\n",
    "\n",
    "# Sepal width vs. length\n",
    "for species in iris['species'].unique():\n",
    "    subset = iris[iris['species'] == species]\n",
    "    ax[0].scatter(subset['sepal_length'], subset['sepal_width'], label=species)\n",
    "ax[0].set_title('Sepal Width vs. Length')\n",
    "ax[0].set_xlabel('Sepal Length')\n",
    "ax[0].set_ylabel('Sepal Width')\n",
    "ax[0].legend()\n",
    "\n",
    "# Petal width vs. length\n",
    "for species in iris['species'].unique():\n",
    "    subset = iris[iris['species'] == species]\n",
    "    ax[1].scatter(subset['petal_length'], subset['petal_width'], label=species)\n",
    "ax[1].set_title('Petal Width vs. Length')\n",
    "ax[1].set_xlabel('Petal Length')\n",
    "ax[1].set_ylabel('Petal Width')\n",
    "ax[1].legend()\n",
    "\n",
    "plt.show()"
   ]
  },
  {
   "cell_type": "markdown",
   "metadata": {},
   "source": [
    "Next up is splitting the data into features and labels. For simplicity, we will only use petal length and petal width as features, so we can later visualize the decision boundaries in 2D. \n",
    "\n",
    "We'll also need to one-hot encode the labels so that we can use them in our network. One-hot encoding is a way to represent categorical data as binary vectors. For example, the label `Iris-setosa` will be represented as `[1, 0, 0]`, `Iris-versicolour` as `[0, 1, 0]`, and `Iris-virginica` as `[0, 0, 1]`. This is necessary because we can't use categorical data directly in our network. We need to represent them as numbers, and standard integer encoding would imply an order to the labels, which is not the case here."
   ]
  },
  {
   "cell_type": "code",
   "execution_count": 28,
   "metadata": {},
   "outputs": [
    {
     "data": {
      "text/plain": [
       "([Value(4.7000, grad=0.0000), Value(1.2000, grad=0.0000)],\n",
       " [Value(0.0000, grad=0.0000),\n",
       "  Value(1.0000, grad=0.0000),\n",
       "  Value(0.0000, grad=0.0000)])"
      ]
     },
     "execution_count": 28,
     "metadata": {},
     "output_type": "execute_result"
    }
   ],
   "source": [
    "# Features\n",
    "x = iris[['petal_length', 'petal_width']]\n",
    "x = np_array_to_list_of_values(x.values)\n",
    "\n",
    "# Targets: one-hot encoded\n",
    "y = pd.get_dummies(iris['species'])\n",
    "idx_to_label = {i: label for i, label in enumerate(y.columns)}\n",
    "y = np_array_to_list_of_values(y.values)\n",
    "\n",
    "x[0], y[0]"
   ]
  },
  {
   "cell_type": "markdown",
   "metadata": {},
   "source": [
    "We're now ready to define our network. We'll use two hidden layers, the first with 12 neurons, the second with 6 neurons. The output layer will consists of three neurons, one for each class. We'll use the $\\tanh$ activation function for the hidden layers and the softmax activation function for the output layer. \n",
    "\n",
    "*The softmax function* squishes the output of each neuron between 0 and 1 (much like $tanh$ squishes it between -1 and 1) and normalizes them so that the sum of all outputs is 1. This allows us to interpret the output as probabilities of belonging to each class. For example, if the output is `[0.1, 0.3, 0.6]`, we can interpret this as a 10% probability of belonging to the first class, 30% to the second class, and 60% to the third class.\n",
    "\n",
    "The softmax activation function is defined as:\n",
    "\n",
    "$$\\sigma(z)_j = \\frac{e^{z_j}}{\\sum_{k=1}^{K}e^{z_k}}$$\n",
    "\n",
    "where $z_j$ is the output of the $j$'th neuron and $K$ is the total number of neurons in the output layer. "
   ]
  },
  {
   "cell_type": "code",
   "execution_count": 29,
   "metadata": {},
   "outputs": [
    {
     "name": "stdout",
     "output_type": "stream",
     "text": [
      "VanillaNN([\n",
      "  Layer([TanhNeuron(2), TanhNeuron(2), TanhNeuron(2), TanhNeuron(2), TanhNeuron(2), TanhNeuron(2), TanhNeuron(2), TanhNeuron(2), TanhNeuron(2), TanhNeuron(2), TanhNeuron(2), TanhNeuron(2)]),\n",
      "  Layer([TanhNeuron(12), TanhNeuron(12), TanhNeuron(12), TanhNeuron(12), TanhNeuron(12), TanhNeuron(12)]),\n",
      "  Layer([LinearNeuron(6), LinearNeuron(6), LinearNeuron(6)])\n",
      "])\n",
      "Number of parameters: 135\n"
     ]
    }
   ],
   "source": [
    "nn = VanillaNN([\n",
    "    Layer(2, 12, activation='tanh'),\n",
    "    Layer(12, 6, activation='tanh'),\n",
    "    Layer(6, 3, activation='linear')\n",
    "])\n",
    "print(nn)\n",
    "print(f'Number of parameters: {len(nn.parameters())}')"
   ]
  },
  {
   "cell_type": "code",
   "execution_count": 30,
   "metadata": {},
   "outputs": [],
   "source": [
    "def softmax(output):\n",
    "    exp = [i.exp() for i in output]\n",
    "    exp_sum = sum(exp)\n",
    "    return [i / exp_sum for i in exp]"
   ]
  },
  {
   "cell_type": "markdown",
   "metadata": {},
   "source": [
    "We'll use the cross-entropy as the loss function. The cross-entropy loss function is commonly used for classification problems. It is minimized when the predicted value of the correct class is 1 and the predicted value of all other classes is 0. For a single sample, it is defined as:\n",
    "\n",
    "$$H(y, \\hat{y}) = -\\sum_{i=1}^{n}y_i\\log(\\hat{y}_i)$$\n",
    "\n",
    "where $n$ is the number of classes, $y_i$ is the actual value of the $i$'th class, and $\\hat{y}_i$ is the predicted value of the $i$'th class.\n",
    "\n",
    "For multiple samples, it is defined as the average of the cross-entropy loss for each sample, or $\\frac{1}{N}\\sum_{j=1}^{N}H(y_j, \\hat{y}_j)$, where $N$ is the number of samples."
   ]
  },
  {
   "cell_type": "code",
   "execution_count": 31,
   "metadata": {},
   "outputs": [],
   "source": [
    "def cross_entropy(y_true, y_pred):\n",
    "    \"\"\"The average cross entropy for multiple samples\"\"\"\n",
    "    # Convert inputs to lists of values if they are scalars\n",
    "    if not hasattr(y_true, '__iter__'):\n",
    "        y_true = [y_true]\n",
    "    if not hasattr(y_pred, '__iter__'):\n",
    "        y_pred = [y_pred]\n",
    "\n",
    "    # Add small value to output avoid log(0)\n",
    "    EPSILON = 1e-15 \n",
    "    y_pred = [[y_ij + EPSILON for y_ij in y_i] for y_i in y_pred]\n",
    "    \n",
    "    num_items = len(y_true)\n",
    "    loss = 0.0\n",
    "    for y, pred in zip(y_true, y_pred):\n",
    "        loss += -sum([y_ij * pred_ij.log() for y_ij, pred_ij in zip(y, pred)])\n",
    "    return loss / num_items"
   ]
  },
  {
   "cell_type": "markdown",
   "metadata": {},
   "source": [
    "The last thing we need to do before training is to define a function to calculate the accuracy of the model. Which we will be used to monitor the performance of the model during training. Accuracy is simply defined as the number of correctly classified samples divided by the total number of samples."
   ]
  },
  {
   "cell_type": "code",
   "execution_count": 32,
   "metadata": {},
   "outputs": [],
   "source": [
    "def accuracy(y_true, y_pred):\n",
    "    # Convert inputs to lists of values if they are scalars\n",
    "    if not hasattr(y_true, '__iter__'):\n",
    "        y_true = [y_true]\n",
    "    if not hasattr(y_pred, '__iter__'):\n",
    "        y_pred = [y_pred]\n",
    "\n",
    "    # Convert one-hot encoded vectors to integers\n",
    "    y_pred = [argmax(pred) for pred in y_pred]\n",
    "    y_true = [argmax(y) for y in y_true]\n",
    "\n",
    "    num_items = len(y_true)\n",
    "    num_correct = sum((y_i == pred_i) for y_i, pred_i in zip(y_true, y_pred))\n",
    "    return num_correct / num_items\n",
    "\n",
    "\n",
    "def argmax(output):\n",
    "    output = [o.data for o in output]\n",
    "    return max(enumerate(output), key=lambda x: x[1])[0]"
   ]
  },
  {
   "cell_type": "markdown",
   "metadata": {},
   "source": [
    "With all this in place, we're finally ready to train our model. "
   ]
  },
  {
   "cell_type": "code",
   "execution_count": 33,
   "metadata": {},
   "outputs": [
    {
     "name": "stdout",
     "output_type": "stream",
     "text": [
      "epoch=1: 0.9315, 0.3400\n",
      "epoch=2: 0.8437, 0.4600\n",
      "epoch=3: 0.7853, 0.6867\n",
      "epoch=4: 0.7382, 0.7067\n",
      "epoch=5: 0.6986, 0.7067\n",
      "epoch=6: 0.6646, 0.7133\n",
      "epoch=7: 0.6349, 0.7333\n",
      "epoch=8: 0.6087, 0.7333\n",
      "epoch=9: 0.5854, 0.7467\n",
      "epoch=10: 0.5645, 0.7600\n",
      "epoch=11: 0.5455, 0.8000\n",
      "epoch=12: 0.5283, 0.8333\n",
      "epoch=13: 0.5125, 0.8533\n",
      "epoch=14: 0.4981, 0.8600\n",
      "epoch=15: 0.4849, 0.8733\n",
      "epoch=16: 0.4728, 0.8733\n",
      "epoch=17: 0.4617, 0.8933\n",
      "epoch=18: 0.4513, 0.9067\n",
      "epoch=19: 0.4417, 0.9067\n",
      "epoch=20: 0.4326, 0.9067\n",
      "epoch=21: 0.4241, 0.9467\n",
      "epoch=22: 0.4160, 0.9467\n",
      "epoch=23: 0.4083, 0.9533\n",
      "epoch=24: 0.4009, 0.9533\n",
      "epoch=25: 0.3938, 0.9667\n"
     ]
    }
   ],
   "source": [
    "LEARNING_RATE = 0.15\n",
    "NUM_EPOCHS = 25\n",
    "\n",
    "for epoch in range(1, NUM_EPOCHS+1):\n",
    "    # Forward pass\n",
    "    outputs = (nn(xi) for xi in x)\n",
    "    yhat = [softmax(output) for output in outputs]\n",
    "    loss = cross_entropy(y, yhat)\n",
    "    acc = accuracy(y, yhat)\n",
    "    print(f'{epoch=}: {loss.data:.4f}, {acc:.4f}')\n",
    "    \n",
    "    # Backward pass\n",
    "    nn.zero_grad()\n",
    "    loss.backward()\n",
    "    \n",
    "    # Update\n",
    "    update_weights(nn, LEARNING_RATE)"
   ]
  },
  {
   "cell_type": "markdown",
   "metadata": {},
   "source": [
    "We got 96.67% accuracy by training our model for 25 epochs. Not bad! We can plot the decision boundaries to get some sense of how the model is making predictions. The code for producing and plotting the decision boundaries is not important to understand, so it will not be explained."
   ]
  },
  {
   "cell_type": "code",
   "execution_count": 34,
   "metadata": {},
   "outputs": [],
   "source": [
    "def predict(x):\n",
    "    outputs = (nn(xi) for xi in x)\n",
    "    yhat = [softmax(output) for output in outputs]\n",
    "    pred = [argmax(pred) for pred in yhat]\n",
    "    return pred"
   ]
  },
  {
   "cell_type": "code",
   "execution_count": 35,
   "metadata": {},
   "outputs": [],
   "source": [
    "# Create a meshgrid for the decision boundaries\n",
    "x_min, x_max = iris['petal_length'].min() - 1, iris['petal_length'].max() + 1\n",
    "y_min, y_max = iris['petal_width'].min() - 1, iris['petal_width'].max() + 1\n",
    "xx, yy = np.meshgrid(np.arange(x_min, x_max, 0.05),\n",
    "                     np.arange(y_min, y_max, 0.05))\n",
    "features = np.c_[xx.ravel(), yy.ravel()]  # Flatten the meshgrid\n",
    "\n",
    "# Predict the class for each point in the meshgrid\n",
    "preds = predict(features)"
   ]
  },
  {
   "cell_type": "code",
   "execution_count": 36,
   "metadata": {},
   "outputs": [
    {
     "data": {
      "image/png": "[encoded data removed]",
      "text/plain": [
       "<Figure size 720x432 with 1 Axes>"
      ]
     },
     "metadata": {
      "needs_background": "light"
     },
     "output_type": "display_data"
    }
   ],
   "source": [
    "plt.figure(figsize=(10, 6))\n",
    "zz = np.array(preds).reshape(xx.shape)\n",
    "plt.contourf(xx, yy, zz, alpha=0.7, cmap=plt.cm.cividis)\n",
    "\n",
    "colors = ['#222222', 'blue', 'orange']\n",
    "markers = ['o', 's', 'D']\n",
    "\n",
    "for i, species in enumerate(iris['species'].unique()):\n",
    "    subset = iris[iris['species'] == species]\n",
    "    plt.scatter(subset['petal_length'], subset['petal_width'], color=colors[i], \n",
    "                label=species, edgecolor='k', s=60, marker=markers[i], alpha=0.9)\n",
    "\n",
    "# Aesthetic improvements\n",
    "plt.grid(True, which='both', linestyle='--', linewidth=0.5)\n",
    "plt.xlabel('Petal Length', fontsize=14)\n",
    "plt.ylabel('Petal Width', fontsize=14)\n",
    "plt.legend(fontsize=12, loc='upper left')\n",
    "plt.title('Decision Boundaries for Petal Measurements', fontsize=16)\n",
    "plt.show()\n"
   ]
  },
  {
   "cell_type": "markdown",
   "metadata": {},
   "source": [
    "The plot shows that our model is capable to fit a non-linear decision boundary. This is because of the non-linear activation function we used in the hidden layers. If we used a linear activation function, the decision boundary would be linear as well."
   ]
  },
  {
   "cell_type": "markdown",
   "metadata": {},
   "source": [
    "## Conclusion\n",
    "\n",
    "Well, there you have it. A neural network from scratch using only pure Python. Let's recap what we did:\n",
    "\n",
    "1. **Back-propagation**: We implemented the `Value` object, which stores the expression graph that created it and is able compute the derivative of its output with respect to its inputs all the way through this graph. \n",
    "2. **Neuron**: We implemented the `Neuron` object, which implements the forward pass of a single neuron. The forward pass of a neuron takes a specified number of inputs, multiplies them with weights, sums them up, adds a bias, and passes them through an activation function to produce an output. \n",
    "3. **Implementing our First Training Loop**: We trained the neuron to do linear regression on a simple dataset to verify that it works correctly, introducing concepts such as loss functions, gradient descent, and learning rate in the proccess.\n",
    "4. **Neural Network**: We implemented the `Layer` and `VanillaNN` objects, which implement the forward pass of a layer and a neural network, respectively.\n",
    "5. **Iris**: Lastly, We trained the network to classify the Iris dataset, introducing concepts such as softmax, cross-entropy, and accuracy.\n",
    "\n",
    "We've only scratched the surface of neural networks. There are many more architectures, many of them more complex (and more used) than the one we implemented here. We will explore some of them in future notebooks."
   ]
  }
 ],
 "metadata": {
  "kernelspec": {
   "display_name": "Python 3",
   "language": "python",
   "name": "python3"
  },
  "language_info": {
   "codemirror_mode": {
    "name": "ipython",
    "version": 3
   },
   "file_extension": ".py",
   "mimetype": "text/x-python",
   "name": "python",
   "nbconvert_exporter": "python",
   "pygments_lexer": "ipython3",
   "version": "3.10.5"
  },
  "orig_nbformat": 4
 },
 "nbformat": 4,
 "nbformat_minor": 2
}
