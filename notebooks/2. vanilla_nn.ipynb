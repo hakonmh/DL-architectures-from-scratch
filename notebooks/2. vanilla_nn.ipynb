{
 "cells": [
  {
   "cell_type": "markdown",
   "metadata": {},
   "source": [
    "# A Simple Neural Network\n",
    "\n",
    "In the previous notebook we said that training a neural network happens in two steps:\n",
    "\n",
    "**Forward Propagation**: In forward prop, the NN makes its best guess about the correct output. It runs the input data through each of its functions to make this guess.\n",
    "\n",
    "**Backward Propagation**: In backprop, the NN adjusts its parameters proportionate to the error in its guess. It does this by traversing backwards from the output, collecting the *derivatives* of the error with respect to the parameters of the functions (gradients), and uses this gradient to adjust its internal values.\n",
    "\n",
    "In the previous notebook where we implemented the `Value` object, which is used to perform the backward propagation. In this notebook, we'll implement the forward pass for a single neuron and then for a full neural network. We'll then combine this with the backward propagation to train on a real dataset."
   ]
  },
  {
   "cell_type": "code",
   "execution_count": 1,
   "metadata": {},
   "outputs": [],
   "source": [
    "# To allow importing modules from the nnfs directory, can be ignored\n",
    "import sys\n",
    "import os\n",
    "\n",
    "# Get the absolute path of the 'src' directory\n",
    "src_dir = os.path.abspath(os.path.join(os.getcwd(), os.pardir))\n",
    "\n",
    "# Add 'src' directory to the Python path\n",
    "if src_dir not in sys.path:\n",
    "    sys.path.append(src_dir)"
   ]
  },
  {
   "cell_type": "code",
   "execution_count": 2,
   "metadata": {},
   "outputs": [],
   "source": [
    "import random\n",
    "\n",
    "import numpy as np\n",
    "import matplotlib.pyplot as plt\n",
    "# Must first download graphviz: https://graphviz.org/download/\n",
    "\n",
    "from nnfs.helpers import draw_dot, np_array_to_list_of_values\n",
    "from nnfs.autograd import Value\n",
    "\n",
    "np.random.seed(42)\n",
    "random.seed(42)\n",
    "\n",
    "%matplotlib inline"
   ]
  },
  {
   "cell_type": "markdown",
   "metadata": {},
   "source": [
    "## The Neuron\n",
    "\n",
    "An artificial neuron is a fundamental building block of dense neural networks. It's inspired by biological neurons in the human brain, but is a simplified, mathematical model.\n",
    "\n",
    "![An artificial neuron](img/neuron_model.png)\n",
    "\n",
    "Here's a basic breakdown:\n",
    "\n",
    "1. **Inputs**: The artificial neuron receives one or more inputs $x_i$. These could be raw data points, like pixels from an image, or outputs from other neurons.\n",
    "2. **Weights**: Each input $x_i$ has an associated weight $w_i$, which can be adjusted over using backprop. Think of these weights as dials or knobs that can be turned to make the neuron behave differently. Each neuron also has a bias $b$, which is a baseline constant that can also be adjusted.\n",
    "4. **Summation**: The neuron multiplies each input $x_i$ by its weight $w_i$, then sums up all these products, and adds the bias $b$. ($\\sum_{i=1}^{n} w_i x_i + b$)\n",
    "4. **Activation Function**: This sum then passes through an activation function $f$. The purpose of this function is to introduce non-linearity to the model, which allows neural networks to learn complex patterns. Common activation functions include the sigmoid, ReLU, and tanh.\n",
    "5. **Output**: The result from the activation function is the output of the neuron, which can then serve as an input to another neuron in the next layer of a neural network.\n",
    "\n",
    "In essence, the artificial neuron takes in data, processes it using its weights and the activation function, and then outputs a result."
   ]
  },
  {
   "cell_type": "markdown",
   "metadata": {},
   "source": [
    "#### Activation Function\n",
    "\n",
    "In this notebook, we'll use the $\\tanh$ as activation function, which is defined as:\n",
    "\n",
    "$$\\tanh(x) = \\frac{e^{2x} - 1}{e^{2x} + 1}$$\n",
    "\n",
    "$\\tanh$, is a mathematical function that squishes the input values to and s-curve with values in the range (-1, 1).\n",
    "It is useful as an activation function because it smooth, differential, and non-linear with values centered around zero, which are \n",
    "all properties that are useful for neural networks."
   ]
  },
  {
   "cell_type": "code",
   "execution_count": 3,
   "metadata": {},
   "outputs": [
    {
     "data": {
      "image/png": "[encoded data removed]",
      "text/plain": [
       "<Figure size 432x288 with 1 Axes>"
      ]
     },
     "metadata": {
      "needs_background": "light"
     },
     "output_type": "display_data"
    }
   ],
   "source": [
    "plt.plot(np.arange(-5,5,0.2), np.tanh(np.arange(-5,5,0.2)))\n",
    "plt.grid()\n",
    "plt.title('$tanh(x)$')\n",
    "plt.show()"
   ]
  },
  {
   "cell_type": "markdown",
   "metadata": {},
   "source": [
    "We'll now implement a neuron with two inputs using the `Value` object. We'll later convert this to a class so we can generalize it to neurons with any number of inputs and outputs."
   ]
  },
  {
   "cell_type": "code",
   "execution_count": 4,
   "metadata": {},
   "outputs": [
    {
     "data": {
      "image/svg+xml": [
       "<?xml version=\"1.0\" encoding=\"UTF-8\" standalone=\"no\"?>\n",
       "<!DOCTYPE svg PUBLIC \"-//W3C//DTD SVG 1.1//EN\"\n",
       " \"http://www.w3.org/Graphics/SVG/1.1/DTD/svg11.dtd\">\n",
       "<!-- Generated by graphviz version 8.0.5 (20230430.1635)\n",
       " -->\n",
       "<!-- Pages: 1 -->\n",
       "<svg width=\"1470pt\" height=\"210pt\"\n",
       " viewBox=\"0.00 0.00 1470.25 210.00\" xmlns=\"http://www.w3.org/2000/svg\" xmlns:xlink=\"http://www.w3.org/1999/xlink\">\n",
       "<g id=\"graph0\" class=\"graph\" transform=\"scale(1 1) rotate(0) translate(4 206)\">\n",
       "<polygon fill=\"white\" stroke=\"none\" points=\"-4,4 -4,-206 1466.25,-206 1466.25,4 -4,4\"/>\n",
       "<!-- 2233358543376 -->\n",
       "<g id=\"node1\" class=\"node\">\n",
       "<title>2233358543376</title>\n",
       "<polygon fill=\"none\" stroke=\"black\" points=\"618.5,-137.5 618.5,-173.5 804.5,-173.5 804.5,-137.5 618.5,-137.5\"/>\n",
       "<text text-anchor=\"middle\" x=\"630.25\" y=\"-150.2\" font-family=\"Times New Roman,serif\" font-size=\"14.00\">b</text>\n",
       "<polyline fill=\"none\" stroke=\"black\" points=\"642,-137.75 642,-173.5\"/>\n",
       "<text text-anchor=\"middle\" x=\"682.25\" y=\"-150.2\" font-family=\"Times New Roman,serif\" font-size=\"14.00\">data 6.8813</text>\n",
       "<polyline fill=\"none\" stroke=\"black\" points=\"722.5,-137.75 722.5,-173.5\"/>\n",
       "<text text-anchor=\"middle\" x=\"763.5\" y=\"-150.2\" font-family=\"Times New Roman,serif\" font-size=\"14.00\">grad 0.0000</text>\n",
       "</g>\n",
       "<!-- 2232818361120+ -->\n",
       "<g id=\"node8\" class=\"node\">\n",
       "<title>2232818361120+</title>\n",
       "<ellipse fill=\"none\" stroke=\"black\" cx=\"867.5\" cy=\"-127.5\" rx=\"27\" ry=\"18\"/>\n",
       "<text text-anchor=\"middle\" x=\"867.5\" y=\"-122.08\" font-family=\"Times New Roman,serif\" font-size=\"14.00\">+</text>\n",
       "</g>\n",
       "<!-- 2233358543376&#45;&gt;2232818361120+ -->\n",
       "<g id=\"edge6\" class=\"edge\">\n",
       "<title>2233358543376&#45;&gt;2232818361120+</title>\n",
       "<path fill=\"none\" stroke=\"black\" d=\"M804.31,-138.81C813.41,-137.15 822.23,-135.55 830.23,-134.09\"/>\n",
       "<polygon fill=\"black\" stroke=\"black\" points=\"830.72,-137.38 839.93,-132.15 829.46,-130.49 830.72,-137.38\"/>\n",
       "</g>\n",
       "<!-- 2232819552304 -->\n",
       "<g id=\"node2\" class=\"node\">\n",
       "<title>2232819552304</title>\n",
       "<polygon fill=\"none\" stroke=\"black\" points=\"2.25,-165.5 2.25,-201.5 197.25,-201.5 197.25,-165.5 2.25,-165.5\"/>\n",
       "<text text-anchor=\"middle\" x=\"18.5\" y=\"-178.2\" font-family=\"Times New Roman,serif\" font-size=\"14.00\">w2</text>\n",
       "<polyline fill=\"none\" stroke=\"black\" points=\"34.75,-165.75 34.75,-201.5\"/>\n",
       "<text text-anchor=\"middle\" x=\"75\" y=\"-178.2\" font-family=\"Times New Roman,serif\" font-size=\"14.00\">data 1.0000</text>\n",
       "<polyline fill=\"none\" stroke=\"black\" points=\"115.25,-165.75 115.25,-201.5\"/>\n",
       "<text text-anchor=\"middle\" x=\"156.25\" y=\"-178.2\" font-family=\"Times New Roman,serif\" font-size=\"14.00\">grad 0.0000</text>\n",
       "</g>\n",
       "<!-- 2233360185952* -->\n",
       "<g id=\"node4\" class=\"node\">\n",
       "<title>2233360185952*</title>\n",
       "<ellipse fill=\"none\" stroke=\"black\" cx=\"262.5\" cy=\"-128.5\" rx=\"27\" ry=\"18\"/>\n",
       "<text text-anchor=\"middle\" x=\"262.5\" y=\"-123.08\" font-family=\"Times New Roman,serif\" font-size=\"14.00\">*</text>\n",
       "</g>\n",
       "<!-- 2232819552304&#45;&gt;2233360185952* -->\n",
       "<g id=\"edge7\" class=\"edge\">\n",
       "<title>2232819552304&#45;&gt;2233360185952*</title>\n",
       "<path fill=\"none\" stroke=\"black\" d=\"M171.84,-165.51C181.21,-162.72 190.64,-159.69 199.5,-156.5 209.81,-152.79 220.79,-148.09 230.6,-143.61\"/>\n",
       "<polygon fill=\"black\" stroke=\"black\" points=\"231.74,-146.47 239.32,-139.06 228.78,-140.13 231.74,-146.47\"/>\n",
       "</g>\n",
       "<!-- 2233360185952 -->\n",
       "<g id=\"node3\" class=\"node\">\n",
       "<title>2233360185952</title>\n",
       "<polygon fill=\"none\" stroke=\"black\" points=\"327.75,-110.5 327.75,-146.5 490.25,-146.5 490.25,-110.5 327.75,-110.5\"/>\n",
       "<text text-anchor=\"middle\" x=\"368\" y=\"-123.2\" font-family=\"Times New Roman,serif\" font-size=\"14.00\">data 0.0000</text>\n",
       "<polyline fill=\"none\" stroke=\"black\" points=\"408.25,-110.75 408.25,-146.5\"/>\n",
       "<text text-anchor=\"middle\" x=\"449.25\" y=\"-123.2\" font-family=\"Times New Roman,serif\" font-size=\"14.00\">grad 0.0000</text>\n",
       "</g>\n",
       "<!-- 2232818362848+ -->\n",
       "<g id=\"node15\" class=\"node\">\n",
       "<title>2232818362848+</title>\n",
       "<ellipse fill=\"none\" stroke=\"black\" cx=\"555.5\" cy=\"-100.5\" rx=\"27\" ry=\"18\"/>\n",
       "<text text-anchor=\"middle\" x=\"555.5\" y=\"-95.08\" font-family=\"Times New Roman,serif\" font-size=\"14.00\">+</text>\n",
       "</g>\n",
       "<!-- 2233360185952&#45;&gt;2232818362848+ -->\n",
       "<g id=\"edge11\" class=\"edge\">\n",
       "<title>2233360185952&#45;&gt;2232818362848+</title>\n",
       "<path fill=\"none\" stroke=\"black\" d=\"M489.86,-113.03C499.86,-111.09 509.67,-109.19 518.5,-107.48\"/>\n",
       "<polygon fill=\"black\" stroke=\"black\" points=\"518.96,-110.76 528.11,-105.42 517.63,-103.89 518.96,-110.76\"/>\n",
       "</g>\n",
       "<!-- 2233360185952*&#45;&gt;2233360185952 -->\n",
       "<g id=\"edge1\" class=\"edge\">\n",
       "<title>2233360185952*&#45;&gt;2233360185952</title>\n",
       "<path fill=\"none\" stroke=\"black\" d=\"M289.67,-128.5C297.73,-128.5 307.11,-128.5 316.99,-128.5\"/>\n",
       "<polygon fill=\"black\" stroke=\"black\" points=\"316.87,-132 326.87,-128.5 316.87,-125 316.87,-132\"/>\n",
       "</g>\n",
       "<!-- 2232818361072 -->\n",
       "<g id=\"node5\" class=\"node\">\n",
       "<title>2232818361072</title>\n",
       "<polygon fill=\"none\" stroke=\"black\" points=\"1260.5,-109.5 1260.5,-145.5 1462.25,-145.5 1462.25,-109.5 1260.5,-109.5\"/>\n",
       "<text text-anchor=\"middle\" x=\"1280.12\" y=\"-122.2\" font-family=\"Times New Roman,serif\" font-size=\"14.00\">yhat</text>\n",
       "<polyline fill=\"none\" stroke=\"black\" points=\"1299.75,-109.75 1299.75,-145.5\"/>\n",
       "<text text-anchor=\"middle\" x=\"1340\" y=\"-122.2\" font-family=\"Times New Roman,serif\" font-size=\"14.00\">data 0.7071</text>\n",
       "<polyline fill=\"none\" stroke=\"black\" points=\"1380.25,-109.75 1380.25,-145.5\"/>\n",
       "<text text-anchor=\"middle\" x=\"1421.25\" y=\"-122.2\" font-family=\"Times New Roman,serif\" font-size=\"14.00\">grad 0.0000</text>\n",
       "</g>\n",
       "<!-- 2232818361072tanh -->\n",
       "<g id=\"node6\" class=\"node\">\n",
       "<title>2232818361072tanh</title>\n",
       "<ellipse fill=\"none\" stroke=\"black\" cx=\"1197.5\" cy=\"-127.5\" rx=\"27\" ry=\"18\"/>\n",
       "<text text-anchor=\"middle\" x=\"1197.5\" y=\"-122.08\" font-family=\"Times New Roman,serif\" font-size=\"14.00\">tanh</text>\n",
       "</g>\n",
       "<!-- 2232818361072tanh&#45;&gt;2232818361072 -->\n",
       "<g id=\"edge2\" class=\"edge\">\n",
       "<title>2232818361072tanh&#45;&gt;2232818361072</title>\n",
       "<path fill=\"none\" stroke=\"black\" d=\"M1224.87,-127.5C1232.21,-127.5 1240.67,-127.5 1249.71,-127.5\"/>\n",
       "<polygon fill=\"black\" stroke=\"black\" points=\"1249.54,-131 1259.54,-127.5 1249.54,-124 1249.54,-131\"/>\n",
       "</g>\n",
       "<!-- 2232818361120 -->\n",
       "<g id=\"node7\" class=\"node\">\n",
       "<title>2232818361120</title>\n",
       "<polygon fill=\"none\" stroke=\"black\" points=\"930.5,-109.5 930.5,-145.5 1134.5,-145.5 1134.5,-109.5 930.5,-109.5\"/>\n",
       "<text text-anchor=\"middle\" x=\"951.25\" y=\"-122.2\" font-family=\"Times New Roman,serif\" font-size=\"14.00\">Sum</text>\n",
       "<polyline fill=\"none\" stroke=\"black\" points=\"972,-109.75 972,-145.5\"/>\n",
       "<text text-anchor=\"middle\" x=\"1012.25\" y=\"-122.2\" font-family=\"Times New Roman,serif\" font-size=\"14.00\">data 0.8813</text>\n",
       "<polyline fill=\"none\" stroke=\"black\" points=\"1052.5,-109.75 1052.5,-145.5\"/>\n",
       "<text text-anchor=\"middle\" x=\"1093.5\" y=\"-122.2\" font-family=\"Times New Roman,serif\" font-size=\"14.00\">grad 0.0000</text>\n",
       "</g>\n",
       "<!-- 2232818361120&#45;&gt;2232818361072tanh -->\n",
       "<g id=\"edge10\" class=\"edge\">\n",
       "<title>2232818361120&#45;&gt;2232818361072tanh</title>\n",
       "<path fill=\"none\" stroke=\"black\" d=\"M1134.41,-127.5C1143.25,-127.5 1151.77,-127.5 1159.51,-127.5\"/>\n",
       "<polygon fill=\"black\" stroke=\"black\" points=\"1159.25,-131 1169.25,-127.5 1159.25,-124 1159.25,-131\"/>\n",
       "</g>\n",
       "<!-- 2232818361120+&#45;&gt;2232818361120 -->\n",
       "<g id=\"edge3\" class=\"edge\">\n",
       "<title>2232818361120+&#45;&gt;2232818361120</title>\n",
       "<path fill=\"none\" stroke=\"black\" d=\"M894.69,-127.5C902.06,-127.5 910.58,-127.5 919.69,-127.5\"/>\n",
       "<polygon fill=\"black\" stroke=\"black\" points=\"919.61,-131 929.61,-127.5 919.61,-124 919.61,-131\"/>\n",
       "</g>\n",
       "<!-- 2233358541600 -->\n",
       "<g id=\"node9\" class=\"node\">\n",
       "<title>2233358541600</title>\n",
       "<polygon fill=\"none\" stroke=\"black\" points=\"0,-55.5 0,-91.5 199.5,-91.5 199.5,-55.5 0,-55.5\"/>\n",
       "<text text-anchor=\"middle\" x=\"16.25\" y=\"-68.2\" font-family=\"Times New Roman,serif\" font-size=\"14.00\">w1</text>\n",
       "<polyline fill=\"none\" stroke=\"black\" points=\"32.5,-55.75 32.5,-91.5\"/>\n",
       "<text text-anchor=\"middle\" x=\"75\" y=\"-68.2\" font-family=\"Times New Roman,serif\" font-size=\"14.00\">data &#45;3.0000</text>\n",
       "<polyline fill=\"none\" stroke=\"black\" points=\"117.5,-55.75 117.5,-91.5\"/>\n",
       "<text text-anchor=\"middle\" x=\"158.5\" y=\"-68.2\" font-family=\"Times New Roman,serif\" font-size=\"14.00\">grad 0.0000</text>\n",
       "</g>\n",
       "<!-- 2233360185760* -->\n",
       "<g id=\"node13\" class=\"node\">\n",
       "<title>2233360185760*</title>\n",
       "<ellipse fill=\"none\" stroke=\"black\" cx=\"262.5\" cy=\"-73.5\" rx=\"27\" ry=\"18\"/>\n",
       "<text text-anchor=\"middle\" x=\"262.5\" y=\"-68.08\" font-family=\"Times New Roman,serif\" font-size=\"14.00\">*</text>\n",
       "</g>\n",
       "<!-- 2233358541600&#45;&gt;2233360185760* -->\n",
       "<g id=\"edge13\" class=\"edge\">\n",
       "<title>2233358541600&#45;&gt;2233360185760*</title>\n",
       "<path fill=\"none\" stroke=\"black\" d=\"M199.35,-73.5C208.17,-73.5 216.68,-73.5 224.43,-73.5\"/>\n",
       "<polygon fill=\"black\" stroke=\"black\" points=\"224.18,-77 234.18,-73.5 224.18,-70 224.18,-77\"/>\n",
       "</g>\n",
       "<!-- 2233358541648 -->\n",
       "<g id=\"node10\" class=\"node\">\n",
       "<title>2233358541648</title>\n",
       "<polygon fill=\"none\" stroke=\"black\" points=\"3.75,-110.5 3.75,-146.5 195.75,-146.5 195.75,-110.5 3.75,-110.5\"/>\n",
       "<text text-anchor=\"middle\" x=\"18.5\" y=\"-123.2\" font-family=\"Times New Roman,serif\" font-size=\"14.00\">x2</text>\n",
       "<polyline fill=\"none\" stroke=\"black\" points=\"33.25,-110.75 33.25,-146.5\"/>\n",
       "<text text-anchor=\"middle\" x=\"73.5\" y=\"-123.2\" font-family=\"Times New Roman,serif\" font-size=\"14.00\">data 0.0000</text>\n",
       "<polyline fill=\"none\" stroke=\"black\" points=\"113.75,-110.75 113.75,-146.5\"/>\n",
       "<text text-anchor=\"middle\" x=\"154.75\" y=\"-123.2\" font-family=\"Times New Roman,serif\" font-size=\"14.00\">grad 0.0000</text>\n",
       "</g>\n",
       "<!-- 2233358541648&#45;&gt;2233360185952* -->\n",
       "<g id=\"edge14\" class=\"edge\">\n",
       "<title>2233358541648&#45;&gt;2233360185952*</title>\n",
       "<path fill=\"none\" stroke=\"black\" d=\"M195.65,-128.5C205.67,-128.5 215.38,-128.5 224.13,-128.5\"/>\n",
       "<polygon fill=\"black\" stroke=\"black\" points=\"224.01,-132 234.01,-128.5 224.01,-125 224.01,-132\"/>\n",
       "</g>\n",
       "<!-- 2233358541696 -->\n",
       "<g id=\"node11\" class=\"node\">\n",
       "<title>2233358541696</title>\n",
       "<polygon fill=\"none\" stroke=\"black\" points=\"3.75,-0.5 3.75,-36.5 195.75,-36.5 195.75,-0.5 3.75,-0.5\"/>\n",
       "<text text-anchor=\"middle\" x=\"18.5\" y=\"-13.2\" font-family=\"Times New Roman,serif\" font-size=\"14.00\">x1</text>\n",
       "<polyline fill=\"none\" stroke=\"black\" points=\"33.25,-0.75 33.25,-36.5\"/>\n",
       "<text text-anchor=\"middle\" x=\"73.5\" y=\"-13.2\" font-family=\"Times New Roman,serif\" font-size=\"14.00\">data 2.0000</text>\n",
       "<polyline fill=\"none\" stroke=\"black\" points=\"113.75,-0.75 113.75,-36.5\"/>\n",
       "<text text-anchor=\"middle\" x=\"154.75\" y=\"-13.2\" font-family=\"Times New Roman,serif\" font-size=\"14.00\">grad 0.0000</text>\n",
       "</g>\n",
       "<!-- 2233358541696&#45;&gt;2233360185760* -->\n",
       "<g id=\"edge9\" class=\"edge\">\n",
       "<title>2233358541696&#45;&gt;2233360185760*</title>\n",
       "<path fill=\"none\" stroke=\"black\" d=\"M168.6,-36.43C179.02,-39.56 189.6,-42.96 199.5,-46.5 209.57,-50.1 220.32,-54.56 229.99,-58.8\"/>\n",
       "<polygon fill=\"black\" stroke=\"black\" points=\"228.42,-62.38 238.98,-63.28 231.29,-56 228.42,-62.38\"/>\n",
       "</g>\n",
       "<!-- 2233360185760 -->\n",
       "<g id=\"node12\" class=\"node\">\n",
       "<title>2233360185760</title>\n",
       "<polygon fill=\"none\" stroke=\"black\" points=\"325.5,-55.5 325.5,-91.5 492.5,-91.5 492.5,-55.5 325.5,-55.5\"/>\n",
       "<text text-anchor=\"middle\" x=\"368\" y=\"-68.2\" font-family=\"Times New Roman,serif\" font-size=\"14.00\">data &#45;6.0000</text>\n",
       "<polyline fill=\"none\" stroke=\"black\" points=\"410.5,-55.75 410.5,-91.5\"/>\n",
       "<text text-anchor=\"middle\" x=\"451.5\" y=\"-68.2\" font-family=\"Times New Roman,serif\" font-size=\"14.00\">grad 0.0000</text>\n",
       "</g>\n",
       "<!-- 2233360185760&#45;&gt;2232818362848+ -->\n",
       "<g id=\"edge8\" class=\"edge\">\n",
       "<title>2233360185760&#45;&gt;2232818362848+</title>\n",
       "<path fill=\"none\" stroke=\"black\" d=\"M492.38,-88.89C501.43,-90.58 510.26,-92.23 518.29,-93.73\"/>\n",
       "<polygon fill=\"black\" stroke=\"black\" points=\"517.58,-97.35 528.05,-95.74 518.86,-90.47 517.58,-97.35\"/>\n",
       "</g>\n",
       "<!-- 2233360185760*&#45;&gt;2233360185760 -->\n",
       "<g id=\"edge4\" class=\"edge\">\n",
       "<title>2233360185760*&#45;&gt;2233360185760</title>\n",
       "<path fill=\"none\" stroke=\"black\" d=\"M289.67,-73.5C297.15,-73.5 305.76,-73.5 314.86,-73.5\"/>\n",
       "<polygon fill=\"black\" stroke=\"black\" points=\"314.72,-77 324.72,-73.5 314.72,-70 314.72,-77\"/>\n",
       "</g>\n",
       "<!-- 2232818362848 -->\n",
       "<g id=\"node14\" class=\"node\">\n",
       "<title>2232818362848</title>\n",
       "<polygon fill=\"none\" stroke=\"black\" points=\"628,-82.5 628,-118.5 795,-118.5 795,-82.5 628,-82.5\"/>\n",
       "<text text-anchor=\"middle\" x=\"670.5\" y=\"-95.2\" font-family=\"Times New Roman,serif\" font-size=\"14.00\">data &#45;6.0000</text>\n",
       "<polyline fill=\"none\" stroke=\"black\" points=\"713,-82.75 713,-118.5\"/>\n",
       "<text text-anchor=\"middle\" x=\"754\" y=\"-95.2\" font-family=\"Times New Roman,serif\" font-size=\"14.00\">grad 0.0000</text>\n",
       "</g>\n",
       "<!-- 2232818362848&#45;&gt;2232818361120+ -->\n",
       "<g id=\"edge12\" class=\"edge\">\n",
       "<title>2232818362848&#45;&gt;2232818361120+</title>\n",
       "<path fill=\"none\" stroke=\"black\" d=\"M794.91,-114.95C807.33,-117.13 819.56,-119.27 830.3,-121.15\"/>\n",
       "<polygon fill=\"black\" stroke=\"black\" points=\"829.45,-124.73 839.9,-123.01 830.66,-117.84 829.45,-124.73\"/>\n",
       "</g>\n",
       "<!-- 2232818362848+&#45;&gt;2232818362848 -->\n",
       "<g id=\"edge5\" class=\"edge\">\n",
       "<title>2232818362848+&#45;&gt;2232818362848</title>\n",
       "<path fill=\"none\" stroke=\"black\" d=\"M582.97,-100.5C592.92,-100.5 604.87,-100.5 617.43,-100.5\"/>\n",
       "<polygon fill=\"black\" stroke=\"black\" points=\"617.08,-104 627.08,-100.5 617.08,-97 617.08,-104\"/>\n",
       "</g>\n",
       "</g>\n",
       "</svg>\n"
      ],
      "text/plain": [
       "<graphviz.graphs.Digraph at 0x207fe9b57b0>"
      ]
     },
     "execution_count": 4,
     "metadata": {},
     "output_type": "execute_result"
    }
   ],
   "source": [
    "x = [Value(2.0, label='x1'), Value(0.0, label='x2')]  # inputs\n",
    "w = [Value(-3.0, label='w1'), Value(1.0, label='w2')]  # weights\n",
    "b = Value(6.8813, label='b')  # bias\n",
    "\n",
    "# forward pass\n",
    "f = x[0] * w[0] + x[1] * w[1] + b; f.label = 'Sum'  # Summation\n",
    "yhat = f.tanh(); yhat.label = 'yhat'  # Activation function\n",
    "\n",
    "draw_dot(yhat)"
   ]
  },
  {
   "cell_type": "markdown",
   "metadata": {},
   "source": [
    "That's all there is to a forward pass of a single neuron: multiply inputs with weights, sum them up, add the bias, and pass them through an activation function. We can now easily generalize this to a neuron with any number of inputs and outputs."
   ]
  },
  {
   "cell_type": "code",
   "execution_count": 5,
   "metadata": {},
   "outputs": [],
   "source": [
    "class Neuron:\n",
    "  \n",
    "    def __init__(self, num_inputs, activation='tanh'):\n",
    "        \"\"\"Initialize the weights and bias randomly, and set the activation function\"\"\"\n",
    "        self.w = [Value(random.uniform(-1,1), label=f'w_{i+1}') for i in range(num_inputs)]\n",
    "        self.b = Value(random.uniform(-1,1), label='b')\n",
    "        self.activation = activation\n",
    "  \n",
    "    def __call__(self, x):\n",
    "        \"\"\"The forward pass of a single neuron\"\"\"\n",
    "        # Check that the number of inputs equals the number of weights\n",
    "        if len(x) != len(self.w):\n",
    "            raise ValueError(f'Expected {len(self.w)} inputs, got {len(x)}')\n",
    "        \n",
    "        act = sum((wi*xi for wi, xi in zip(self.w, x)), self.b)  # sum(w * x) + b\n",
    "        if self.activation == 'tanh':\n",
    "            out = act.tanh()\n",
    "        elif self.activation == 'relu': # The ReLU activation equals to max(0, x)\n",
    "            out = act.relu()\n",
    "        else:  # The output of the neuron stays linear\n",
    "            out = act\n",
    "        return out\n",
    "  \n",
    "    def parameters(self):  \n",
    "        \"\"\"Return the weights and bias as a list\"\"\"\n",
    "        return self.w + [self.b]\n",
    "    \n",
    "    def zero_grad(self):\n",
    "        \"\"\"Reset the gradients to zero\"\"\"\n",
    "        for p in self.parameters():\n",
    "            p.grad = 0\n",
    "    \n",
    "    def __repr__(self):\n",
    "        if self.activation == 'tanh':\n",
    "            neuron_type = 'Tanh'\n",
    "        elif self.activation == 'relu':\n",
    "            neuron_type = 'ReLU'\n",
    "        else:\n",
    "            neuron_type = 'Linear'\n",
    "        return f'{neuron_type}Neuron({len(self.w)})'"
   ]
  },
  {
   "cell_type": "markdown",
   "metadata": {},
   "source": [
    "We usually initialize the weights randomly. If all weights are initialized with the same value, every neuron in the hidden layer will produce the same output and undergo the same weight updates during training. This makes the neurons in that layer symmetric and redundant. Random initialization ensures that each neuron starts with a different weight and thus follows a unique gradient during training."
   ]
  },
  {
   "cell_type": "markdown",
   "metadata": {},
   "source": [
    "### Using `Neuron` to do linear regression\n",
    "\n",
    "A single `Neuron` is able to do standard linear regression if we do not use an activation function. We'll generate a simple dataset $y=2 x_1+ 0.8x_2 + \\epsilon$, where $x_i$ are the inputs, $\\epsilon$ is a random noise term, and $y$ is the target. We'll use this dataset to demonstrate how to train a single neuron."
   ]
  },
  {
   "cell_type": "code",
   "execution_count": 6,
   "metadata": {},
   "outputs": [
    {
     "data": {
      "image/png": "[encoded data removed]",
      "text/plain": [
       "<Figure size 792x360 with 2 Axes>"
      ]
     },
     "metadata": {
      "needs_background": "light"
     },
     "output_type": "display_data"
    }
   ],
   "source": [
    "x = np.random.random((50, 2))\n",
    "eps = np.random.random((50, )) * 0.2\n",
    "y = 2 * x[:, 0] + 0.8 * x[:, 1] + eps\n",
    "\n",
    "fig, axs = plt.subplots(1, 2, figsize=(11, 5))\n",
    "\n",
    "axs[0].scatter(x[:,0], y, label='x1')\n",
    "axs[0].set_xlabel('$x_1$')\n",
    "axs[0].set_ylabel('$y$')\n",
    "\n",
    "axs[1].scatter(x[:,1], y, label='x2')\n",
    "axs[1].set_xlabel('$x_2$')\n",
    "axs[1].set_ylabel('$y$')\n",
    "\n",
    "fig.tight_layout()\n",
    "fig.suptitle('$x_i$ vs $y$ for our generated dataset', y=1.03, fontsize=16)\n",
    "plt.show()"
   ]
  },
  {
   "cell_type": "markdown",
   "metadata": {},
   "source": [
    "To properly train our model we need a score to measure how well the model is doing. The goal of the model is to minimize this score during training. The score is called the loss (or cost) function in ML literature. In our linear regression example, we'll minimize the mean squared error (MSE), which is the default loss function for regression problems. The MSE is defined as\n",
    "the average of the squared difference between the predicted and actual values. Or in mathematical notation:\n",
    "\n",
    "$$MSE = \\frac{1}{n}\\sum_{i=1}^{n}(y_i - \\hat{y}_i)^2$$\n",
    "\n",
    "where $n$ is the number of samples, $y_i$ is the actual value, and $\\hat{y}_i$ is the predicted value.\n",
    "\n",
    "We'll start with minimizing the MSE for one iteration and for one sample to see to that everything works as expected. We'll then extend it to all samples in the dataset over multiple iterations to train our model."
   ]
  },
  {
   "cell_type": "code",
   "execution_count": 7,
   "metadata": {},
   "outputs": [
    {
     "data": {
      "text/plain": [
       "LinearNeuron(2)"
      ]
     },
     "execution_count": 7,
     "metadata": {},
     "output_type": "execute_result"
    }
   ],
   "source": [
    "def mse(y_true, y_pred):\n",
    "    # Convert inputs to lists of values if they are scalars\n",
    "    if not hasattr(y_true, '__iter__'):\n",
    "        y_true = [y_true]\n",
    "    if not hasattr(y_pred, '__iter__'):\n",
    "        y_pred = [y_pred]\n",
    "        \n",
    "    num_items = len(y_true)\n",
    "    return sum((y_i - pred_i)**2 for y_i, pred_i in zip(y_true, y_pred)) / num_items\n",
    "\n",
    "\n",
    "linear_model = Neuron(num_inputs=2, activation='linear')  # num_inputs = number of features\n",
    "linear_model"
   ]
  },
  {
   "cell_type": "code",
   "execution_count": 8,
   "metadata": {},
   "outputs": [
    {
     "data": {
      "text/plain": [
       "Value(7.6430, grad=0.0000)"
      ]
     },
     "execution_count": 8,
     "metadata": {},
     "output_type": "execute_result"
    }
   ],
   "source": [
    "# Forward pass\n",
    "output = linear_model(x[0])\n",
    "loss = mse(y[0], output)\n",
    "loss"
   ]
  },
  {
   "cell_type": "markdown",
   "metadata": {},
   "source": [
    "The next step is to do the backwards pass. Since we're using the `Value` object we implemented in the last notebook, it will be very simple. Just call `.backward()` on the loss value and it will compute the derivative of the loss with respect to the weights.\n",
    "\n",
    "The derivatives show how the loss will respond if we change the weights a tiny nudge. We can use this fact to adjust the weights in the direction that reduces the loss. We can demonstrate this with a simple image:\n",
    "\n",
    "![Gradient Descent](img/gradient_descent.png)\n",
    "\n",
    "In the image above, the current position is the loss of the model with the current weights. The derivative of the loss function with repsect to the weight gives slope of the loss function at the current position. We can use the slope to nudge the weights in the direction downwards so that the loss is reduced. Doing this iteratively will move the weights close to the bottom of the loss function, which is the point where the loss is minimized.\n",
    "\n",
    "It should be noted that not all problems and loss functions have this smooth bowl shape. Most problems are much more complex and have many hills and valleys. This means that we can't just take a huge single step in the direction of the slope to get to the bottom. We need to take many smaller steps and each time find the new slope to reach the bottom of the valley. We can't know the slope of a point we haven't reached yet."
   ]
  },
  {
   "cell_type": "code",
   "execution_count": 9,
   "metadata": {},
   "outputs": [
    {
     "data": {
      "image/svg+xml": [
       "<?xml version=\"1.0\" encoding=\"UTF-8\" standalone=\"no\"?>\n",
       "<!DOCTYPE svg PUBLIC \"-//W3C//DTD SVG 1.1//EN\"\n",
       " \"http://www.w3.org/Graphics/SVG/1.1/DTD/svg11.dtd\">\n",
       "<!-- Generated by graphviz version 8.0.5 (20230430.1635)\n",
       " -->\n",
       "<!-- Pages: 1 -->\n",
       "<svg width=\"2629pt\" height=\"263pt\"\n",
       " viewBox=\"0.00 0.00 2628.50 263.00\" xmlns=\"http://www.w3.org/2000/svg\" xmlns:xlink=\"http://www.w3.org/1999/xlink\">\n",
       "<g id=\"graph0\" class=\"graph\" transform=\"scale(1 1) rotate(0) translate(4 259)\">\n",
       "<polygon fill=\"white\" stroke=\"none\" points=\"-4,4 -4,-259 2624.5,-259 2624.5,4 -4,4\"/>\n",
       "<!-- 2233360772656 -->\n",
       "<g id=\"node1\" class=\"node\">\n",
       "<title>2233360772656</title>\n",
       "<polygon fill=\"none\" stroke=\"black\" points=\"670.5,-55.5 670.5,-91.5 842,-91.5 842,-55.5 670.5,-55.5\"/>\n",
       "<text text-anchor=\"middle\" x=\"713\" y=\"-68.2\" font-family=\"Times New Roman,serif\" font-size=\"14.00\">data &#45;0.9032</text>\n",
       "<polyline fill=\"none\" stroke=\"black\" points=\"755.5,-55.75 755.5,-91.5\"/>\n",
       "<text text-anchor=\"middle\" x=\"798.75\" y=\"-68.2\" font-family=\"Times New Roman,serif\" font-size=\"14.00\">grad &#45;5.5292</text>\n",
       "</g>\n",
       "<!-- 2233360766800+ -->\n",
       "<g id=\"node22\" class=\"node\">\n",
       "<title>2233360766800+</title>\n",
       "<ellipse fill=\"none\" stroke=\"black\" cx=\"905\" cy=\"-100.5\" rx=\"27\" ry=\"18\"/>\n",
       "<text text-anchor=\"middle\" x=\"905\" y=\"-95.08\" font-family=\"Times New Roman,serif\" font-size=\"14.00\">+</text>\n",
       "</g>\n",
       "<!-- 2233360772656&#45;&gt;2233360766800+ -->\n",
       "<g id=\"edge16\" class=\"edge\">\n",
       "<title>2233360772656&#45;&gt;2233360766800+</title>\n",
       "<path fill=\"none\" stroke=\"black\" d=\"M841.76,-89.05C850.86,-90.72 859.72,-92.35 867.77,-93.83\"/>\n",
       "<polygon fill=\"black\" stroke=\"black\" points=\"867.08,-97.45 877.55,-95.82 868.35,-90.57 867.08,-97.45\"/>\n",
       "</g>\n",
       "<!-- 2233360772656* -->\n",
       "<g id=\"node2\" class=\"node\">\n",
       "<title>2233360772656*</title>\n",
       "<ellipse fill=\"none\" stroke=\"black\" cx=\"607.5\" cy=\"-73.5\" rx=\"27\" ry=\"18\"/>\n",
       "<text text-anchor=\"middle\" x=\"607.5\" y=\"-68.08\" font-family=\"Times New Roman,serif\" font-size=\"14.00\">*</text>\n",
       "</g>\n",
       "<!-- 2233360772656*&#45;&gt;2233360772656 -->\n",
       "<g id=\"edge1\" class=\"edge\">\n",
       "<title>2233360772656*&#45;&gt;2233360772656</title>\n",
       "<path fill=\"none\" stroke=\"black\" d=\"M634.74,-73.5C642.2,-73.5 650.8,-73.5 659.89,-73.5\"/>\n",
       "<polygon fill=\"black\" stroke=\"black\" points=\"659.75,-77 669.75,-73.5 659.75,-70 659.75,-77\"/>\n",
       "</g>\n",
       "<!-- 2233360767040 -->\n",
       "<g id=\"node3\" class=\"node\">\n",
       "<title>2233360767040</title>\n",
       "<polygon fill=\"none\" stroke=\"black\" points=\"1842.5,-191.5 1842.5,-227.5 2005,-227.5 2005,-191.5 1842.5,-191.5\"/>\n",
       "<text text-anchor=\"middle\" x=\"1882.75\" y=\"-204.2\" font-family=\"Times New Roman,serif\" font-size=\"14.00\">data 0.0000</text>\n",
       "<polyline fill=\"none\" stroke=\"black\" points=\"1923,-191.75 1923,-227.5\"/>\n",
       "<text text-anchor=\"middle\" x=\"1964\" y=\"-204.2\" font-family=\"Times New Roman,serif\" font-size=\"14.00\">grad 1.0000</text>\n",
       "</g>\n",
       "<!-- 2233360767136+ -->\n",
       "<g id=\"node8\" class=\"node\">\n",
       "<title>2233360767136+</title>\n",
       "<ellipse fill=\"none\" stroke=\"black\" cx=\"2068\" cy=\"-181.5\" rx=\"27\" ry=\"18\"/>\n",
       "<text text-anchor=\"middle\" x=\"2068\" y=\"-176.07\" font-family=\"Times New Roman,serif\" font-size=\"14.00\">+</text>\n",
       "</g>\n",
       "<!-- 2233360767040&#45;&gt;2233360767136+ -->\n",
       "<g id=\"edge10\" class=\"edge\">\n",
       "<title>2233360767040&#45;&gt;2233360767136+</title>\n",
       "<path fill=\"none\" stroke=\"black\" d=\"M2004.61,-193.78C2013.84,-191.96 2022.87,-190.19 2031.07,-188.57\"/>\n",
       "<polygon fill=\"black\" stroke=\"black\" points=\"2031.53,-191.85 2040.67,-186.49 2030.18,-184.98 2031.53,-191.85\"/>\n",
       "</g>\n",
       "<!-- 2233360772704 -->\n",
       "<g id=\"node4\" class=\"node\">\n",
       "<title>2233360772704</title>\n",
       "<polygon fill=\"none\" stroke=\"black\" points=\"357.5,-55.5 357.5,-91.5 520,-91.5 520,-55.5 357.5,-55.5\"/>\n",
       "<text text-anchor=\"middle\" x=\"397.75\" y=\"-68.2\" font-family=\"Times New Roman,serif\" font-size=\"14.00\">data 0.9507</text>\n",
       "<polyline fill=\"none\" stroke=\"black\" points=\"438,-55.75 438,-91.5\"/>\n",
       "<text text-anchor=\"middle\" x=\"479\" y=\"-68.2\" font-family=\"Times New Roman,serif\" font-size=\"14.00\">grad 5.2526</text>\n",
       "</g>\n",
       "<!-- 2233360772704&#45;&gt;2233360772656* -->\n",
       "<g id=\"edge17\" class=\"edge\">\n",
       "<title>2233360772704&#45;&gt;2233360772656*</title>\n",
       "<path fill=\"none\" stroke=\"black\" d=\"M519.71,-73.5C537.16,-73.5 554.81,-73.5 569.59,-73.5\"/>\n",
       "<polygon fill=\"black\" stroke=\"black\" points=\"569.29,-77 579.29,-73.5 569.29,-70 569.29,-77\"/>\n",
       "</g>\n",
       "<!-- 2233360773232 -->\n",
       "<g id=\"node5\" class=\"node\">\n",
       "<title>2233360773232</title>\n",
       "<polygon fill=\"none\" stroke=\"black\" points=\"670.5,-110.5 670.5,-146.5 842,-146.5 842,-110.5 670.5,-110.5\"/>\n",
       "<text text-anchor=\"middle\" x=\"713\" y=\"-123.2\" font-family=\"Times New Roman,serif\" font-size=\"14.00\">data &#45;0.3455</text>\n",
       "<polyline fill=\"none\" stroke=\"black\" points=\"755.5,-110.75 755.5,-146.5\"/>\n",
       "<text text-anchor=\"middle\" x=\"798.75\" y=\"-123.2\" font-family=\"Times New Roman,serif\" font-size=\"14.00\">grad &#45;5.5292</text>\n",
       "</g>\n",
       "<!-- 2233360773232&#45;&gt;2233360766800+ -->\n",
       "<g id=\"edge14\" class=\"edge\">\n",
       "<title>2233360773232&#45;&gt;2233360766800+</title>\n",
       "<path fill=\"none\" stroke=\"black\" d=\"M841.76,-112.37C850.86,-110.64 859.72,-108.95 867.77,-107.41\"/>\n",
       "<polygon fill=\"black\" stroke=\"black\" points=\"868.38,-110.67 877.55,-105.36 867.07,-103.79 868.38,-110.67\"/>\n",
       "</g>\n",
       "<!-- 2233360773232+ -->\n",
       "<g id=\"node6\" class=\"node\">\n",
       "<title>2233360773232+</title>\n",
       "<ellipse fill=\"none\" stroke=\"black\" cx=\"607.5\" cy=\"-128.5\" rx=\"27\" ry=\"18\"/>\n",
       "<text text-anchor=\"middle\" x=\"607.5\" y=\"-123.08\" font-family=\"Times New Roman,serif\" font-size=\"14.00\">+</text>\n",
       "</g>\n",
       "<!-- 2233360773232+&#45;&gt;2233360773232 -->\n",
       "<g id=\"edge2\" class=\"edge\">\n",
       "<title>2233360773232+&#45;&gt;2233360773232</title>\n",
       "<path fill=\"none\" stroke=\"black\" d=\"M634.74,-128.5C642.2,-128.5 650.8,-128.5 659.89,-128.5\"/>\n",
       "<polygon fill=\"black\" stroke=\"black\" points=\"659.75,-132 669.75,-128.5 659.75,-125 659.75,-132\"/>\n",
       "</g>\n",
       "<!-- 2233360767136 -->\n",
       "<g id=\"node7\" class=\"node\">\n",
       "<title>2233360767136</title>\n",
       "<polygon fill=\"none\" stroke=\"black\" points=\"2131,-163.5 2131,-199.5 2293.5,-199.5 2293.5,-163.5 2131,-163.5\"/>\n",
       "<text text-anchor=\"middle\" x=\"2171.25\" y=\"-176.2\" font-family=\"Times New Roman,serif\" font-size=\"14.00\">data 7.6430</text>\n",
       "<polyline fill=\"none\" stroke=\"black\" points=\"2211.5,-163.75 2211.5,-199.5\"/>\n",
       "<text text-anchor=\"middle\" x=\"2252.5\" y=\"-176.2\" font-family=\"Times New Roman,serif\" font-size=\"14.00\">grad 1.0000</text>\n",
       "</g>\n",
       "<!-- 2233360772800* -->\n",
       "<g id=\"node10\" class=\"node\">\n",
       "<title>2233360772800*</title>\n",
       "<ellipse fill=\"none\" stroke=\"black\" cx=\"2356.5\" cy=\"-208.5\" rx=\"27\" ry=\"18\"/>\n",
       "<text text-anchor=\"middle\" x=\"2356.5\" y=\"-203.07\" font-family=\"Times New Roman,serif\" font-size=\"14.00\">*</text>\n",
       "</g>\n",
       "<!-- 2233360767136&#45;&gt;2233360772800* -->\n",
       "<g id=\"edge23\" class=\"edge\">\n",
       "<title>2233360767136&#45;&gt;2233360772800*</title>\n",
       "<path fill=\"none\" stroke=\"black\" d=\"M2293.11,-196.66C2302.34,-198.41 2311.37,-200.12 2319.57,-201.68\"/>\n",
       "<polygon fill=\"black\" stroke=\"black\" points=\"2318.69,-205.27 2329.17,-203.69 2320,-198.39 2318.69,-205.27\"/>\n",
       "</g>\n",
       "<!-- 2233360767136+&#45;&gt;2233360767136 -->\n",
       "<g id=\"edge3\" class=\"edge\">\n",
       "<title>2233360767136+&#45;&gt;2233360767136</title>\n",
       "<path fill=\"none\" stroke=\"black\" d=\"M2095.42,-181.5C2102.87,-181.5 2111.42,-181.5 2120.43,-181.5\"/>\n",
       "<polygon fill=\"black\" stroke=\"black\" points=\"2120.18,-185 2130.18,-181.5 2120.18,-178 2120.18,-185\"/>\n",
       "</g>\n",
       "<!-- 2233360772800 -->\n",
       "<g id=\"node9\" class=\"node\">\n",
       "<title>2233360772800</title>\n",
       "<polygon fill=\"none\" stroke=\"black\" points=\"2419.5,-190.5 2419.5,-226.5 2620.5,-226.5 2620.5,-190.5 2419.5,-190.5\"/>\n",
       "<text text-anchor=\"middle\" x=\"2438.75\" y=\"-203.2\" font-family=\"Times New Roman,serif\" font-size=\"14.00\">loss</text>\n",
       "<polyline fill=\"none\" stroke=\"black\" points=\"2458,-190.75 2458,-226.5\"/>\n",
       "<text text-anchor=\"middle\" x=\"2498.25\" y=\"-203.2\" font-family=\"Times New Roman,serif\" font-size=\"14.00\">data 7.6430</text>\n",
       "<polyline fill=\"none\" stroke=\"black\" points=\"2538.5,-190.75 2538.5,-226.5\"/>\n",
       "<text text-anchor=\"middle\" x=\"2579.5\" y=\"-203.2\" font-family=\"Times New Roman,serif\" font-size=\"14.00\">grad 1.0000</text>\n",
       "</g>\n",
       "<!-- 2233360772800*&#45;&gt;2233360772800 -->\n",
       "<g id=\"edge4\" class=\"edge\">\n",
       "<title>2233360772800*&#45;&gt;2233360772800</title>\n",
       "<path fill=\"none\" stroke=\"black\" d=\"M2383.81,-208.5C2391.2,-208.5 2399.72,-208.5 2408.83,-208.5\"/>\n",
       "<polygon fill=\"black\" stroke=\"black\" points=\"2408.74,-212 2418.74,-208.5 2408.74,-205 2408.74,-212\"/>\n",
       "</g>\n",
       "<!-- 2233360771456 -->\n",
       "<g id=\"node11\" class=\"node\">\n",
       "<title>2233360771456</title>\n",
       "<polygon fill=\"none\" stroke=\"black\" points=\"20,-138.5 20,-174.5 187,-174.5 187,-138.5 20,-138.5\"/>\n",
       "<text text-anchor=\"middle\" x=\"60.25\" y=\"-151.2\" font-family=\"Times New Roman,serif\" font-size=\"14.00\">data 0.3745</text>\n",
       "<polyline fill=\"none\" stroke=\"black\" points=\"100.5,-138.75 100.5,-174.5\"/>\n",
       "<text text-anchor=\"middle\" x=\"143.75\" y=\"-151.2\" font-family=\"Times New Roman,serif\" font-size=\"14.00\">grad &#45;1.5418</text>\n",
       "</g>\n",
       "<!-- 2233360765744* -->\n",
       "<g id=\"node24\" class=\"node\">\n",
       "<title>2233360765744*</title>\n",
       "<ellipse fill=\"none\" stroke=\"black\" cx=\"270\" cy=\"-128.5\" rx=\"27\" ry=\"18\"/>\n",
       "<text text-anchor=\"middle\" x=\"270\" y=\"-123.08\" font-family=\"Times New Roman,serif\" font-size=\"14.00\">*</text>\n",
       "</g>\n",
       "<!-- 2233360771456&#45;&gt;2233360765744* -->\n",
       "<g id=\"edge21\" class=\"edge\">\n",
       "<title>2233360771456&#45;&gt;2233360765744*</title>\n",
       "<path fill=\"none\" stroke=\"black\" d=\"M186.75,-142.5C202.81,-139.77 218.88,-137.03 232.49,-134.71\"/>\n",
       "<polygon fill=\"black\" stroke=\"black\" points=\"233.03,-138 242.3,-132.88 231.85,-131.1 233.03,-138\"/>\n",
       "</g>\n",
       "<!-- 2233360772848 -->\n",
       "<g id=\"node12\" class=\"node\">\n",
       "<title>2233360772848</title>\n",
       "<polygon fill=\"none\" stroke=\"black\" points=\"341.25,-165.5 341.25,-201.5 536.25,-201.5 536.25,-165.5 341.25,-165.5\"/>\n",
       "<text text-anchor=\"middle\" x=\"353\" y=\"-178.2\" font-family=\"Times New Roman,serif\" font-size=\"14.00\">b</text>\n",
       "<polyline fill=\"none\" stroke=\"black\" points=\"364.75,-165.75 364.75,-201.5\"/>\n",
       "<text text-anchor=\"middle\" x=\"407.25\" y=\"-178.2\" font-family=\"Times New Roman,serif\" font-size=\"14.00\">data &#45;0.4499</text>\n",
       "<polyline fill=\"none\" stroke=\"black\" points=\"449.75,-165.75 449.75,-201.5\"/>\n",
       "<text text-anchor=\"middle\" x=\"493\" y=\"-178.2\" font-family=\"Times New Roman,serif\" font-size=\"14.00\">grad &#45;5.5292</text>\n",
       "</g>\n",
       "<!-- 2233360772848&#45;&gt;2233360773232+ -->\n",
       "<g id=\"edge13\" class=\"edge\">\n",
       "<title>2233360772848&#45;&gt;2233360773232+</title>\n",
       "<path fill=\"none\" stroke=\"black\" d=\"M515.74,-165.56C525.5,-162.78 535.29,-159.74 544.5,-156.5 554.84,-152.86 565.82,-148.19 575.63,-143.7\"/>\n",
       "<polygon fill=\"black\" stroke=\"black\" points=\"576.78,-146.56 584.35,-139.14 573.81,-140.22 576.78,-146.56\"/>\n",
       "</g>\n",
       "<!-- 2233360774912 -->\n",
       "<g id=\"node13\" class=\"node\">\n",
       "<title>2233360774912</title>\n",
       "<polygon fill=\"none\" stroke=\"black\" points=\"1554,-136.5 1554,-172.5 1716.5,-172.5 1716.5,-136.5 1554,-136.5\"/>\n",
       "<text text-anchor=\"middle\" x=\"1594.25\" y=\"-149.2\" font-family=\"Times New Roman,serif\" font-size=\"14.00\">data 2.7646</text>\n",
       "<polyline fill=\"none\" stroke=\"black\" points=\"1634.5,-136.75 1634.5,-172.5\"/>\n",
       "<text text-anchor=\"middle\" x=\"1675.5\" y=\"-149.2\" font-family=\"Times New Roman,serif\" font-size=\"14.00\">grad 5.5292</text>\n",
       "</g>\n",
       "<!-- 2233360773424**2 -->\n",
       "<g id=\"node16\" class=\"node\">\n",
       "<title>2233360773424**2</title>\n",
       "<ellipse fill=\"none\" stroke=\"black\" cx=\"1779.5\" cy=\"-154.5\" rx=\"27\" ry=\"18\"/>\n",
       "<text text-anchor=\"middle\" x=\"1779.5\" y=\"-149.07\" font-family=\"Times New Roman,serif\" font-size=\"14.00\">**2</text>\n",
       "</g>\n",
       "<!-- 2233360774912&#45;&gt;2233360773424**2 -->\n",
       "<g id=\"edge19\" class=\"edge\">\n",
       "<title>2233360774912&#45;&gt;2233360773424**2</title>\n",
       "<path fill=\"none\" stroke=\"black\" d=\"M1716.11,-154.5C1724.87,-154.5 1733.46,-154.5 1741.32,-154.5\"/>\n",
       "<polygon fill=\"black\" stroke=\"black\" points=\"1741.26,-158 1751.26,-154.5 1741.26,-151 1741.26,-158\"/>\n",
       "</g>\n",
       "<!-- 2233360774912+ -->\n",
       "<g id=\"node14\" class=\"node\">\n",
       "<title>2233360774912+</title>\n",
       "<ellipse fill=\"none\" stroke=\"black\" cx=\"1491\" cy=\"-154.5\" rx=\"27\" ry=\"18\"/>\n",
       "<text text-anchor=\"middle\" x=\"1491\" y=\"-149.07\" font-family=\"Times New Roman,serif\" font-size=\"14.00\">+</text>\n",
       "</g>\n",
       "<!-- 2233360774912+&#45;&gt;2233360774912 -->\n",
       "<g id=\"edge5\" class=\"edge\">\n",
       "<title>2233360774912+&#45;&gt;2233360774912</title>\n",
       "<path fill=\"none\" stroke=\"black\" d=\"M1518.42,-154.5C1525.87,-154.5 1534.42,-154.5 1543.43,-154.5\"/>\n",
       "<polygon fill=\"black\" stroke=\"black\" points=\"1543.18,-158 1553.18,-154.5 1543.18,-151 1543.18,-158\"/>\n",
       "</g>\n",
       "<!-- 2233360773424 -->\n",
       "<g id=\"node15\" class=\"node\">\n",
       "<title>2233360773424</title>\n",
       "<polygon fill=\"none\" stroke=\"black\" points=\"1842.5,-136.5 1842.5,-172.5 2005,-172.5 2005,-136.5 1842.5,-136.5\"/>\n",
       "<text text-anchor=\"middle\" x=\"1882.75\" y=\"-149.2\" font-family=\"Times New Roman,serif\" font-size=\"14.00\">data 7.6430</text>\n",
       "<polyline fill=\"none\" stroke=\"black\" points=\"1923,-136.75 1923,-172.5\"/>\n",
       "<text text-anchor=\"middle\" x=\"1964\" y=\"-149.2\" font-family=\"Times New Roman,serif\" font-size=\"14.00\">grad 1.0000</text>\n",
       "</g>\n",
       "<!-- 2233360773424&#45;&gt;2233360767136+ -->\n",
       "<g id=\"edge22\" class=\"edge\">\n",
       "<title>2233360773424&#45;&gt;2233360767136+</title>\n",
       "<path fill=\"none\" stroke=\"black\" d=\"M2004.61,-169.66C2013.84,-171.41 2022.87,-173.12 2031.07,-174.68\"/>\n",
       "<polygon fill=\"black\" stroke=\"black\" points=\"2030.19,-178.27 2040.67,-176.69 2031.5,-171.39 2030.19,-178.27\"/>\n",
       "</g>\n",
       "<!-- 2233360773424**2&#45;&gt;2233360773424 -->\n",
       "<g id=\"edge6\" class=\"edge\">\n",
       "<title>2233360773424**2&#45;&gt;2233360773424</title>\n",
       "<path fill=\"none\" stroke=\"black\" d=\"M1806.92,-154.5C1814.37,-154.5 1822.92,-154.5 1831.93,-154.5\"/>\n",
       "<polygon fill=\"black\" stroke=\"black\" points=\"1831.68,-158 1841.68,-154.5 1831.68,-151 1831.68,-158\"/>\n",
       "</g>\n",
       "<!-- 2233360774960 -->\n",
       "<g id=\"node17\" class=\"node\">\n",
       "<title>2233360774960</title>\n",
       "<polygon fill=\"none\" stroke=\"black\" points=\"1265.5,-164.5 1265.5,-200.5 1428,-200.5 1428,-164.5 1265.5,-164.5\"/>\n",
       "<text text-anchor=\"middle\" x=\"1305.75\" y=\"-177.2\" font-family=\"Times New Roman,serif\" font-size=\"14.00\">data 1.5159</text>\n",
       "<polyline fill=\"none\" stroke=\"black\" points=\"1346,-164.75 1346,-200.5\"/>\n",
       "<text text-anchor=\"middle\" x=\"1387\" y=\"-177.2\" font-family=\"Times New Roman,serif\" font-size=\"14.00\">grad 5.5292</text>\n",
       "</g>\n",
       "<!-- 2233360774960&#45;&gt;2233360774912+ -->\n",
       "<g id=\"edge25\" class=\"edge\">\n",
       "<title>2233360774960&#45;&gt;2233360774912+</title>\n",
       "<path fill=\"none\" stroke=\"black\" d=\"M1427.61,-166.78C1436.84,-164.96 1445.87,-163.19 1454.07,-161.57\"/>\n",
       "<polygon fill=\"black\" stroke=\"black\" points=\"1454.53,-164.85 1463.67,-159.49 1453.18,-157.98 1454.53,-164.85\"/>\n",
       "</g>\n",
       "<!-- 2233360772944 -->\n",
       "<g id=\"node18\" class=\"node\">\n",
       "<title>2233360772944</title>\n",
       "<polygon fill=\"none\" stroke=\"black\" points=\"968,-137.5 968,-173.5 1139.5,-173.5 1139.5,-137.5 968,-137.5\"/>\n",
       "<text text-anchor=\"middle\" x=\"1010.5\" y=\"-150.2\" font-family=\"Times New Roman,serif\" font-size=\"14.00\">data &#45;1.0000</text>\n",
       "<polyline fill=\"none\" stroke=\"black\" points=\"1053,-137.75 1053,-173.5\"/>\n",
       "<text text-anchor=\"middle\" x=\"1096.25\" y=\"-150.2\" font-family=\"Times New Roman,serif\" font-size=\"14.00\">grad &#45;6.9041</text>\n",
       "</g>\n",
       "<!-- 2233360764256* -->\n",
       "<g id=\"node20\" class=\"node\">\n",
       "<title>2233360764256*</title>\n",
       "<ellipse fill=\"none\" stroke=\"black\" cx=\"1202.5\" cy=\"-127.5\" rx=\"27\" ry=\"18\"/>\n",
       "<text text-anchor=\"middle\" x=\"1202.5\" y=\"-122.08\" font-family=\"Times New Roman,serif\" font-size=\"14.00\">*</text>\n",
       "</g>\n",
       "<!-- 2233360772944&#45;&gt;2233360764256* -->\n",
       "<g id=\"edge26\" class=\"edge\">\n",
       "<title>2233360772944&#45;&gt;2233360764256*</title>\n",
       "<path fill=\"none\" stroke=\"black\" d=\"M1139.26,-139.37C1148.36,-137.64 1157.22,-135.95 1165.27,-134.41\"/>\n",
       "<polygon fill=\"black\" stroke=\"black\" points=\"1165.88,-137.67 1175.05,-132.36 1164.57,-130.79 1165.88,-137.67\"/>\n",
       "</g>\n",
       "<!-- 2233360764256 -->\n",
       "<g id=\"node19\" class=\"node\">\n",
       "<title>2233360764256</title>\n",
       "<polygon fill=\"none\" stroke=\"black\" points=\"1265.5,-109.5 1265.5,-145.5 1428,-145.5 1428,-109.5 1265.5,-109.5\"/>\n",
       "<text text-anchor=\"middle\" x=\"1305.75\" y=\"-122.2\" font-family=\"Times New Roman,serif\" font-size=\"14.00\">data 1.2487</text>\n",
       "<polyline fill=\"none\" stroke=\"black\" points=\"1346,-109.75 1346,-145.5\"/>\n",
       "<text text-anchor=\"middle\" x=\"1387\" y=\"-122.2\" font-family=\"Times New Roman,serif\" font-size=\"14.00\">grad 5.5292</text>\n",
       "</g>\n",
       "<!-- 2233360764256&#45;&gt;2233360774912+ -->\n",
       "<g id=\"edge24\" class=\"edge\">\n",
       "<title>2233360764256&#45;&gt;2233360774912+</title>\n",
       "<path fill=\"none\" stroke=\"black\" d=\"M1427.61,-142.66C1436.84,-144.41 1445.87,-146.12 1454.07,-147.68\"/>\n",
       "<polygon fill=\"black\" stroke=\"black\" points=\"1453.19,-151.27 1463.67,-149.69 1454.5,-144.39 1453.19,-151.27\"/>\n",
       "</g>\n",
       "<!-- 2233360764256*&#45;&gt;2233360764256 -->\n",
       "<g id=\"edge7\" class=\"edge\">\n",
       "<title>2233360764256*&#45;&gt;2233360764256</title>\n",
       "<path fill=\"none\" stroke=\"black\" d=\"M1229.92,-127.5C1237.37,-127.5 1245.92,-127.5 1254.93,-127.5\"/>\n",
       "<polygon fill=\"black\" stroke=\"black\" points=\"1254.68,-131 1264.68,-127.5 1254.68,-124 1254.68,-131\"/>\n",
       "</g>\n",
       "<!-- 2233360766800 -->\n",
       "<g id=\"node21\" class=\"node\">\n",
       "<title>2233360766800</title>\n",
       "<polygon fill=\"none\" stroke=\"black\" points=\"968,-82.5 968,-118.5 1139.5,-118.5 1139.5,-82.5 968,-82.5\"/>\n",
       "<text text-anchor=\"middle\" x=\"1010.5\" y=\"-95.2\" font-family=\"Times New Roman,serif\" font-size=\"14.00\">data &#45;1.2487</text>\n",
       "<polyline fill=\"none\" stroke=\"black\" points=\"1053,-82.75 1053,-118.5\"/>\n",
       "<text text-anchor=\"middle\" x=\"1096.25\" y=\"-95.2\" font-family=\"Times New Roman,serif\" font-size=\"14.00\">grad &#45;5.5292</text>\n",
       "</g>\n",
       "<!-- 2233360766800&#45;&gt;2233360764256* -->\n",
       "<g id=\"edge12\" class=\"edge\">\n",
       "<title>2233360766800&#45;&gt;2233360764256*</title>\n",
       "<path fill=\"none\" stroke=\"black\" d=\"M1139.26,-116.05C1148.36,-117.72 1157.22,-119.35 1165.27,-120.83\"/>\n",
       "<polygon fill=\"black\" stroke=\"black\" points=\"1164.58,-124.45 1175.05,-122.82 1165.85,-117.57 1164.58,-124.45\"/>\n",
       "</g>\n",
       "<!-- 2233360766800+&#45;&gt;2233360766800 -->\n",
       "<g id=\"edge8\" class=\"edge\">\n",
       "<title>2233360766800+&#45;&gt;2233360766800</title>\n",
       "<path fill=\"none\" stroke=\"black\" d=\"M932.24,-100.5C939.7,-100.5 948.3,-100.5 957.39,-100.5\"/>\n",
       "<polygon fill=\"black\" stroke=\"black\" points=\"957.25,-104 967.25,-100.5 957.25,-97 957.25,-104\"/>\n",
       "</g>\n",
       "<!-- 2233360765744 -->\n",
       "<g id=\"node23\" class=\"node\">\n",
       "<title>2233360765744</title>\n",
       "<polygon fill=\"none\" stroke=\"black\" points=\"355.25,-110.5 355.25,-146.5 522.25,-146.5 522.25,-110.5 355.25,-110.5\"/>\n",
       "<text text-anchor=\"middle\" x=\"395.5\" y=\"-123.2\" font-family=\"Times New Roman,serif\" font-size=\"14.00\">data 0.1044</text>\n",
       "<polyline fill=\"none\" stroke=\"black\" points=\"435.75,-110.75 435.75,-146.5\"/>\n",
       "<text text-anchor=\"middle\" x=\"479\" y=\"-123.2\" font-family=\"Times New Roman,serif\" font-size=\"14.00\">grad &#45;5.5292</text>\n",
       "</g>\n",
       "<!-- 2233360765744&#45;&gt;2233360773232+ -->\n",
       "<g id=\"edge18\" class=\"edge\">\n",
       "<title>2233360765744&#45;&gt;2233360773232+</title>\n",
       "<path fill=\"none\" stroke=\"black\" d=\"M522.15,-128.5C538.72,-128.5 555.35,-128.5 569.41,-128.5\"/>\n",
       "<polygon fill=\"black\" stroke=\"black\" points=\"569.08,-132 579.08,-128.5 569.08,-125 569.08,-132\"/>\n",
       "</g>\n",
       "<!-- 2233360765744*&#45;&gt;2233360765744 -->\n",
       "<g id=\"edge9\" class=\"edge\">\n",
       "<title>2233360765744*&#45;&gt;2233360765744</title>\n",
       "<path fill=\"none\" stroke=\"black\" d=\"M297.42,-128.5C310.58,-128.5 327.36,-128.5 344.71,-128.5\"/>\n",
       "<polygon fill=\"black\" stroke=\"black\" points=\"344.55,-132 354.55,-128.5 344.55,-125 344.55,-132\"/>\n",
       "</g>\n",
       "<!-- 2233360764304 -->\n",
       "<g id=\"node25\" class=\"node\">\n",
       "<title>2233360764304</title>\n",
       "<polygon fill=\"none\" stroke=\"black\" points=\"333,-0.5 333,-36.5 544.5,-36.5 544.5,-0.5 333,-0.5\"/>\n",
       "<text text-anchor=\"middle\" x=\"353\" y=\"-13.2\" font-family=\"Times New Roman,serif\" font-size=\"14.00\">w_2</text>\n",
       "<polyline fill=\"none\" stroke=\"black\" points=\"373,-0.75 373,-36.5\"/>\n",
       "<text text-anchor=\"middle\" x=\"415.5\" y=\"-13.2\" font-family=\"Times New Roman,serif\" font-size=\"14.00\">data &#45;0.9500</text>\n",
       "<polyline fill=\"none\" stroke=\"black\" points=\"458,-0.75 458,-36.5\"/>\n",
       "<text text-anchor=\"middle\" x=\"501.25\" y=\"-13.2\" font-family=\"Times New Roman,serif\" font-size=\"14.00\">grad &#45;5.2567</text>\n",
       "</g>\n",
       "<!-- 2233360764304&#45;&gt;2233360772656* -->\n",
       "<g id=\"edge20\" class=\"edge\">\n",
       "<title>2233360764304&#45;&gt;2233360772656*</title>\n",
       "<path fill=\"none\" stroke=\"black\" d=\"M515.74,-36.44C525.5,-39.22 535.29,-42.26 544.5,-45.5 554.84,-49.14 565.82,-53.81 575.63,-58.3\"/>\n",
       "<polygon fill=\"black\" stroke=\"black\" points=\"573.81,-61.78 584.35,-62.86 576.78,-55.44 573.81,-61.78\"/>\n",
       "</g>\n",
       "<!-- 2233360771936 -->\n",
       "<g id=\"node26\" class=\"node\">\n",
       "<title>2233360771936</title>\n",
       "<polygon fill=\"none\" stroke=\"black\" points=\"0,-83.5 0,-119.5 207,-119.5 207,-83.5 0,-83.5\"/>\n",
       "<text text-anchor=\"middle\" x=\"20\" y=\"-96.2\" font-family=\"Times New Roman,serif\" font-size=\"14.00\">w_1</text>\n",
       "<polyline fill=\"none\" stroke=\"black\" points=\"40,-83.75 40,-119.5\"/>\n",
       "<text text-anchor=\"middle\" x=\"80.25\" y=\"-96.2\" font-family=\"Times New Roman,serif\" font-size=\"14.00\">data 0.2789</text>\n",
       "<polyline fill=\"none\" stroke=\"black\" points=\"120.5,-83.75 120.5,-119.5\"/>\n",
       "<text text-anchor=\"middle\" x=\"163.75\" y=\"-96.2\" font-family=\"Times New Roman,serif\" font-size=\"14.00\">grad &#45;2.0709</text>\n",
       "</g>\n",
       "<!-- 2233360771936&#45;&gt;2233360765744* -->\n",
       "<g id=\"edge15\" class=\"edge\">\n",
       "<title>2233360771936&#45;&gt;2233360765744*</title>\n",
       "<path fill=\"none\" stroke=\"black\" d=\"M206.81,-118.29C215.96,-119.79 224.75,-121.24 232.71,-122.54\"/>\n",
       "<polygon fill=\"black\" stroke=\"black\" points=\"231.9,-126.12 242.33,-124.29 233.03,-119.21 231.9,-126.12\"/>\n",
       "</g>\n",
       "<!-- 2233360762192 -->\n",
       "<g id=\"node27\" class=\"node\">\n",
       "<title>2233360762192</title>\n",
       "<polygon fill=\"none\" stroke=\"black\" points=\"2131,-218.5 2131,-254.5 2293.5,-254.5 2293.5,-218.5 2131,-218.5\"/>\n",
       "<text text-anchor=\"middle\" x=\"2171.25\" y=\"-231.2\" font-family=\"Times New Roman,serif\" font-size=\"14.00\">data 1.0000</text>\n",
       "<polyline fill=\"none\" stroke=\"black\" points=\"2211.5,-218.75 2211.5,-254.5\"/>\n",
       "<text text-anchor=\"middle\" x=\"2252.5\" y=\"-231.2\" font-family=\"Times New Roman,serif\" font-size=\"14.00\">grad 7.6430</text>\n",
       "</g>\n",
       "<!-- 2233360762192&#45;&gt;2233360772800* -->\n",
       "<g id=\"edge11\" class=\"edge\">\n",
       "<title>2233360762192&#45;&gt;2233360772800*</title>\n",
       "<path fill=\"none\" stroke=\"black\" d=\"M2293.11,-220.78C2302.34,-218.96 2311.37,-217.19 2319.57,-215.57\"/>\n",
       "<polygon fill=\"black\" stroke=\"black\" points=\"2320.03,-218.85 2329.17,-213.49 2318.68,-211.98 2320.03,-218.85\"/>\n",
       "</g>\n",
       "</g>\n",
       "</svg>\n"
      ],
      "text/plain": [
       "<graphviz.graphs.Digraph at 0x207feacc5e0>"
      ]
     },
     "execution_count": 9,
     "metadata": {},
     "output_type": "execute_result"
    }
   ],
   "source": [
    "# Backward pass\n",
    "loss.backward(); loss.label = 'loss'\n",
    "draw_dot(loss)"
   ]
  },
  {
   "cell_type": "markdown",
   "metadata": {},
   "source": [
    "Let's think through what direction we should be going if we want to decrease the loss. We can see that the gradients for the weights are $\\frac{d_{loss}}{dw_1}=-2.07$, $\\frac{d_{loss}}{dw_2}=-5.26$, and $\\frac{d_{loss}}{db}=-5.53$, while $loss=7.64$. So if we want to decrease the loss, we need to increase the weights. This means moving in the opposite direction of the gradients (which is always the case).\n",
    "\n",
    "The size of the movement is given by `learning_rate`, which is a value that often must be fine-tuned to get the best results. Too small of a learning rate will result in slow training, while too large of a learning rate will result in the model overshooting the optimal weights and never converging.\n",
    "\n",
    "![learning_rate](img/learning_rate.jpg)"
   ]
  },
  {
   "cell_type": "code",
   "execution_count": 10,
   "metadata": {},
   "outputs": [],
   "source": [
    "def update_weights(neuron, learning_rate=0.01):\n",
    "    for parameter in neuron.parameters():\n",
    "        parameter.data -= parameter.grad * learning_rate\n",
    "    neuron.zero_grad()  # Reset the gradients to zero\n",
    "    return neuron"
   ]
  },
  {
   "cell_type": "code",
   "execution_count": 11,
   "metadata": {},
   "outputs": [
    {
     "name": "stdout",
     "output_type": "stream",
     "text": [
      "[Value(0.2789, grad=-2.0709, label=w_1), Value(-0.9500, grad=-5.2567, label=w_2)] Value(-0.4499, grad=-5.5292, label=b)\n",
      "[Value(0.2996, grad=0.0000, label=w_1), Value(-0.8974, grad=0.0000, label=w_2)] Value(-0.3946, grad=0.0000, label=b)\n"
     ]
    }
   ],
   "source": [
    "# Weights before and after update\n",
    "print(linear_model.w, linear_model.b)\n",
    "linear_model = update_weights(linear_model, learning_rate=0.01)\n",
    "print(linear_model.w, linear_model.b)"
   ]
  },
  {
   "cell_type": "markdown",
   "metadata": {},
   "source": [
    "Now, let's check if the loss has decreased after one iteration."
   ]
  },
  {
   "cell_type": "code",
   "execution_count": 12,
   "metadata": {},
   "outputs": [
    {
     "data": {
      "text/plain": [
       "Value(7.0308, grad=0.0000)"
      ]
     },
     "execution_count": 12,
     "metadata": {},
     "output_type": "execute_result"
    }
   ],
   "source": [
    "output = linear_model(x[0])\n",
    "loss = mse(y[0], output)\n",
    "loss  # Previous loss = 7.6430"
   ]
  },
  {
   "cell_type": "markdown",
   "metadata": {},
   "source": [
    "Success! We've moved the weights in a direction that lowers the loss. \n",
    "\n",
    "The proccess of iteratively moving the weights to reduce the loss is called gradient descent. The whole proccess of training a model with gradient descent can be summarized as follows:\n",
    "\n",
    "1. Predict the output given the input data and current weights.\n",
    "2. Compute the loss between the predicted and actual values.\n",
    "3. Compute the gradient of the loss with respect to the weights.\n",
    "4. Move the weights in the direction opposite to the gradient to reduce the loss.\n",
    "\n",
    "We can now extend this to all samples over multiple iterations to train our linear model properly."
   ]
  },
  {
   "cell_type": "code",
   "execution_count": 13,
   "metadata": {},
   "outputs": [
    {
     "name": "stdout",
     "output_type": "stream",
     "text": [
      "0: 1.6482\n",
      "1: 0.6424\n",
      "2: 0.3794\n",
      "3: 0.2864\n",
      "4: 0.2365\n",
      "5: 0.2006\n",
      "6: 0.1717\n",
      "7: 0.1476\n",
      "8: 0.1272\n",
      "9: 0.1099\n",
      "10: 0.0952\n",
      "11: 0.0826\n",
      "12: 0.0720\n",
      "13: 0.0628\n",
      "14: 0.0550\n",
      "15: 0.0482\n",
      "16: 0.0425\n",
      "17: 0.0375\n",
      "18: 0.0332\n",
      "19: 0.0295\n",
      "20: 0.0262\n",
      "21: 0.0234\n",
      "22: 0.0210\n",
      "23: 0.0189\n",
      "24: 0.0170\n",
      "25: 0.0154\n",
      "26: 0.0140\n",
      "27: 0.0128\n",
      "28: 0.0117\n",
      "29: 0.0107\n",
      "30: 0.0099\n",
      "31: 0.0091\n",
      "32: 0.0085\n",
      "33: 0.0079\n",
      "34: 0.0074\n",
      "35: 0.0069\n",
      "36: 0.0065\n",
      "37: 0.0062\n",
      "38: 0.0059\n",
      "39: 0.0056\n",
      "40: 0.0054\n",
      "41: 0.0051\n",
      "42: 0.0049\n",
      "43: 0.0048\n",
      "44: 0.0046\n",
      "45: 0.0045\n",
      "46: 0.0044\n",
      "47: 0.0043\n",
      "48: 0.0042\n",
      "49: 0.0041\n",
      "50: 0.0040\n",
      "51: 0.0039\n",
      "52: 0.0039\n",
      "53: 0.0038\n",
      "54: 0.0038\n",
      "55: 0.0037\n",
      "56: 0.0037\n",
      "57: 0.0036\n",
      "58: 0.0036\n",
      "59: 0.0036\n",
      "60: 0.0036\n",
      "61: 0.0035\n",
      "62: 0.0035\n",
      "63: 0.0035\n",
      "64: 0.0035\n",
      "65: 0.0035\n",
      "66: 0.0035\n",
      "67: 0.0034\n",
      "68: 0.0034\n",
      "69: 0.0034\n",
      "70: 0.0034\n",
      "71: 0.0034\n",
      "72: 0.0034\n",
      "73: 0.0034\n",
      "74: 0.0034\n",
      "75: 0.0034\n",
      "76: 0.0034\n",
      "77: 0.0034\n",
      "78: 0.0034\n",
      "79: 0.0034\n",
      "80: 0.0034\n",
      "81: 0.0034\n",
      "82: 0.0034\n",
      "83: 0.0034\n",
      "84: 0.0034\n",
      "85: 0.0034\n",
      "86: 0.0034\n",
      "87: 0.0034\n",
      "88: 0.0034\n",
      "89: 0.0034\n",
      "90: 0.0034\n",
      "91: 0.0034\n",
      "92: 0.0034\n",
      "93: 0.0034\n",
      "94: 0.0034\n",
      "95: 0.0034\n",
      "96: 0.0034\n",
      "97: 0.0033\n",
      "98: 0.0033\n",
      "99: 0.0033\n"
     ]
    }
   ],
   "source": [
    "def train_model(model, num_iterations, learning_rate):\n",
    "    # Trains the model with gradient descent\n",
    "    for i in range(num_iterations):\n",
    "        # Forward Pass\n",
    "        ouputs = (model(xi) for xi in x)\n",
    "        loss = mse(y, ouputs)\n",
    "        # Backward Pass\n",
    "        loss.backward()\n",
    "        # Update\n",
    "        update_weights(model, learning_rate=learning_rate)\n",
    "        print(f'{i}: {loss.data:.4f}')\n",
    "\n",
    "linear_model = Neuron(num_inputs=2, activation='linear')  # reset the weights\n",
    "train_model(linear_model, num_iterations=100, learning_rate=0.5)"
   ]
  },
  {
   "cell_type": "code",
   "execution_count": 14,
   "metadata": {},
   "outputs": [
    {
     "data": {
      "text/plain": [
       "[Value(2.0056, grad=0.0000, label=w_1),\n",
       " Value(0.8337, grad=0.0000, label=w_2),\n",
       " Value(0.0766, grad=0.0000, label=b)]"
      ]
     },
     "execution_count": 14,
     "metadata": {},
     "output_type": "execute_result"
    }
   ],
   "source": [
    "linear_model.parameters()"
   ]
  },
  {
   "cell_type": "markdown",
   "metadata": {},
   "source": [
    "Our linear neuron works. It predicts the relationship to be $\\hat{y}=2.0056x_1+0.8337x_2+0.0766+\\epsilon$, which is pretty close to the true relationship $y=2x_1+0.8x_2+\\epsilon$."
   ]
  },
  {
   "cell_type": "code",
   "execution_count": 15,
   "metadata": {},
   "outputs": [
    {
     "data": {
      "image/png": "[encoded data removed]",
      "text/plain": [
       "<Figure size 432x288 with 1 Axes>"
      ]
     },
     "metadata": {
      "needs_background": "light"
     },
     "output_type": "display_data"
    }
   ],
   "source": [
    "y_pred = [linear_model(xi).data for xi in x]\n",
    "\n",
    "# plot scatter of y vs y_pred\n",
    "plt.scatter(y, y_pred)\n",
    "plt.xlabel('$y$ (true value)')\n",
    "plt.ylabel('$\\hat{y}$ (prediction)')\n",
    "plt.title('Neuron Prediction vs True Value')\n",
    "plt.show()"
   ]
  },
  {
   "cell_type": "markdown",
   "metadata": {},
   "source": [
    "We can now move on to connecting together multiple (non-linear) neurons to form a neural network."
   ]
  },
  {
   "cell_type": "markdown",
   "metadata": {},
   "source": [
    "## Neural Network\n",
    "\n",
    "A neural network is a collection of artificial neurons, grouped into layers. \n",
    "Within each layer, neurons operate independently as they are not interconnected. However, each neuron connects to every other neuron in the layer before and after. You can see an illustration of a neural network below.\n",
    "\n",
    "![A neural network](img/neural_network.jpg)\n",
    "\n",
    "Here's a basic breakdown:\n",
    "\n",
    "- **Input Layer**: The first \"layer\" of the network is the raw input data, and not artificial neurons. The number of items in this layer is the number of input features.\n",
    "- **Hidden Layers**: After the input layer, we have the \"hidden\" layer(s). These layers take the output of the previous layer, processes and transforms it using artificial neurons. We can stack many of these layers where the output of the neurons one layer is the input of the neurons in the next layer. Each neuron in this layer is connected to every neuron in the previous and next layer.\n",
    "- **Output Layer**: This is the final layer, which produces the result. The activation function used in the output layer differs from the hidden layers and depends on the task at hand. For example, in a binary classification task, the output layer might have a [sigmoid activation function](https://en.wikipedia.org/wiki/Logistic_function) which squishes the output between 0 and 1 to represent the probability of belonging to the positive class.\n",
    "- **Weights**: Each connection between neurons has a weight, which determines the strength of the connection. During training, the weights are adjusted to optimize the network's performance using backpropagation."
   ]
  },
  {
   "cell_type": "markdown",
   "metadata": {},
   "source": [
    "As with the neuron, we'll first implement a hard-coded neural network before generalizing.\n",
    "\n",
    " We'll create the network which was illustrated above. It consists of an input layer with three features, two hidden layers with four neurons each, and an output layer with a single neuron. We'll use the $\\tanh$ activation function for the hidden layers. We will pretend that we do a regression task so we'll use a linear activation function for the output layer."
   ]
  },
  {
   "cell_type": "code",
   "execution_count": 16,
   "metadata": {},
   "outputs": [],
   "source": [
    "x = [Value(2.0, label='x_1'), Value(0.0, label='x_2'), Value(-3.0, label='x_3')]  # inputs\n",
    "y = [Value(1.0, label='y')]  # outputs\n",
    "\n",
    "hidden_layer1 = [Neuron(3), Neuron(3), Neuron(3), Neuron(3)]  # Uses tanh activation by default\n",
    "hidden_layer2 = [Neuron(4), Neuron(4), Neuron(4), Neuron(4)]\n",
    "output_layer = Neuron(4, activation='linear')"
   ]
  },
  {
   "cell_type": "markdown",
   "metadata": {},
   "source": [
    "The procedure for training a network is very similar to that of a single neuron. We'll use the same MSE loss function and gradient descent algorithm as before. Remember that the proccess of training a model is as follows: \n",
    "\n",
    "1. Predict the output given the input data and current weights.\n",
    "2. Compute the loss between the predicted and actual values.\n",
    "3. Compute the gradient of the loss with respect to the weights.\n",
    "4. Move the weights in the direction opposite to the gradient to reduce the loss.\n",
    "\n",
    "We start with the forward pass of the network. It is done by passing the outputs of one layer to the next, until we reach the last layer which gives us the output of the network."
   ]
  },
  {
   "cell_type": "code",
   "execution_count": 17,
   "metadata": {},
   "outputs": [
    {
     "data": {
      "text/plain": [
       "Value(-1.3343, grad=0.0000)"
      ]
     },
     "execution_count": 17,
     "metadata": {},
     "output_type": "execute_result"
    }
   ],
   "source": [
    "# Forward pass\n",
    "\n",
    "# First hidden layer\n",
    "a_1 = [neuron(x) for neuron in hidden_layer1]\n",
    "# Second hidden layer\n",
    "a_2 = [neuron(a_1) for neuron in hidden_layer2]  # The input is the output of the first hidden layer\n",
    "# Output layer\n",
    "yhat = output_layer(a_2)  # The input is the output of the second hidden layer\n",
    "yhat"
   ]
  },
  {
   "cell_type": "code",
   "execution_count": 18,
   "metadata": {},
   "outputs": [
    {
     "data": {
      "text/plain": [
       "Value(5.4491, grad=0.0000)"
      ]
     },
     "execution_count": 18,
     "metadata": {},
     "output_type": "execute_result"
    }
   ],
   "source": [
    "loss = mse(y, yhat)\n",
    "loss"
   ]
  },
  {
   "cell_type": "markdown",
   "metadata": {},
   "source": [
    "As with the single neuron, the backward pass is as simple ass calling `.backward()` on the loss value to compute the gradients of the model."
   ]
  },
  {
   "cell_type": "code",
   "execution_count": 19,
   "metadata": {},
   "outputs": [],
   "source": [
    "# backward pass\n",
    "loss.backward()"
   ]
  },
  {
   "cell_type": "markdown",
   "metadata": {},
   "source": [
    "The last step is to update our weights using the gradients from the previous step."
   ]
  },
  {
   "cell_type": "code",
   "execution_count": 20,
   "metadata": {},
   "outputs": [],
   "source": [
    "# Updating the parameters\n",
    "def update_weights(model, learning_rate=0.01):  # Redefined here for your convenience\n",
    "    for parameter in model.parameters():\n",
    "        parameter.data -= parameter.grad * learning_rate\n",
    "    model.zero_grad()  # Reset the gradients to zero\n",
    "\n",
    "LR = 0.01\n",
    "\n",
    "update_weights(output_layer, LR)\n",
    "for neuron in hidden_layer2:\n",
    "    update_weights(neuron, LR)\n",
    "for neuron in hidden_layer1:\n",
    "    update_weights(neuron, LR)"
   ]
  },
  {
   "cell_type": "markdown",
   "metadata": {},
   "source": [
    "We can now check that the proccess works by redoing the forward pass."
   ]
  },
  {
   "cell_type": "code",
   "execution_count": 21,
   "metadata": {},
   "outputs": [
    {
     "name": "stdout",
     "output_type": "stream",
     "text": [
      "Value(4.1383, grad=0.0000)\n"
     ]
    }
   ],
   "source": [
    "# Forward pass\n",
    "a_1 = [neuron(x) for neuron in hidden_layer1]\n",
    "a_2 = [neuron(a_1) for neuron in hidden_layer2]\n",
    "yhat = output_layer(a_2)\n",
    "loss = mse(y, yhat)\n",
    "print(loss)  # Previous loss = 5.4491"
   ]
  },
  {
   "cell_type": "markdown",
   "metadata": {},
   "source": [
    "Success again! We'll now generalize what we just did by creating two new classes `Layer` and `VanillaNN`. We'll start with `Layer`.\n",
    "\n",
    "The `Layer` class is simple. It is just a list of neurons, the number of which is defined by `num_ouputs`, each taking\n",
    "`num_inputs` of features as inputs. The rest of the interface is the same as in `Neuron`."
   ]
  },
  {
   "cell_type": "code",
   "execution_count": 22,
   "metadata": {},
   "outputs": [
    {
     "name": "stdout",
     "output_type": "stream",
     "text": [
      "Layer([ReLUNeuron(3), ReLUNeuron(3), ReLUNeuron(3), ReLUNeuron(3)])\n"
     ]
    }
   ],
   "source": [
    "class Layer:\n",
    "    def __init__(self, num_inputs, num_outputs, activation='tanh'):\n",
    "        self.neurons = [Neuron(num_inputs, activation) for _ in range(num_outputs)]\n",
    "\n",
    "    def __call__(self, x):\n",
    "        \"\"\"The forward pass of a single layer\"\"\"\n",
    "        out = [n(x) for n in self.neurons]\n",
    "        return out[0] if len(out) == 1 else out\n",
    "\n",
    "    def parameters(self):\n",
    "        \"\"\"Return the weights and bias of the whole layer as a list\"\"\"\n",
    "        return [p for n in self.neurons for p in n.parameters()]\n",
    "\n",
    "    def __repr__(self):\n",
    "        return f\"Layer({self.neurons})\"\n",
    "    \n",
    "    def zero_grad(self):\n",
    "        \"\"\"Reset the gradients to zero\"\"\"\n",
    "        for p in self.parameters():\n",
    "            p.grad = 0\n",
    "\n",
    "layer = Layer(3, 4, activation='relu')\n",
    "print(layer)"
   ]
  },
  {
   "cell_type": "markdown",
   "metadata": {},
   "source": [
    "`VanillaNN` is also just as simple. It is just a list of `Layer`'s. The simplicity of `Layer` and `VanillaNN` testifies to how much of the real work is already implemented by `Value` and `Neuron`."
   ]
  },
  {
   "cell_type": "code",
   "execution_count": 23,
   "metadata": {},
   "outputs": [
    {
     "data": {
      "text/plain": [
       "VanillaNN([\n",
       "  Layer([TanhNeuron(3), TanhNeuron(3), TanhNeuron(3), TanhNeuron(3)]),\n",
       "  Layer([TanhNeuron(4), TanhNeuron(4), TanhNeuron(4), TanhNeuron(4)]),\n",
       "  Layer([LinearNeuron(4)])\n",
       "])"
      ]
     },
     "execution_count": 23,
     "metadata": {},
     "output_type": "execute_result"
    }
   ],
   "source": [
    "class VanillaNN:\n",
    "    def __init__(self, layers):\n",
    "        self.layers = layers\n",
    "\n",
    "    def __call__(self, x):\n",
    "        \"\"\"The forward pass of a full network\"\"\"\n",
    "        for layer in self.layers:\n",
    "            x = layer(x)\n",
    "        return x\n",
    "\n",
    "    def parameters(self):\n",
    "        \"\"\"Return the weights and bias of the whole network as a list\"\"\"\n",
    "        return [p for layer in self.layers for p in layer.parameters()]\n",
    "\n",
    "    def __repr__(self):\n",
    "        layers_str = ',\\n  '.join([str(layer) for layer in self.layers])\n",
    "        return f\"VanillaNN([\\n  {layers_str}\\n])\"\n",
    "\n",
    "    def zero_grad(self):\n",
    "        \"\"\"Reset the gradients to zero\"\"\"\n",
    "        for p in self.parameters():\n",
    "            p.grad = 0\n",
    "\n",
    "layers = [\n",
    "    Layer(3, 4, activation='tanh'),\n",
    "    Layer(4, 4, activation='tanh'),\n",
    "    Layer(4, 1, activation='linear')\n",
    "]\n",
    "nn = VanillaNN(layers)\n",
    "nn"
   ]
  },
  {
   "cell_type": "markdown",
   "metadata": {},
   "source": [
    "We can do a sanity check of our network by implementing a training loop on the same data used above."
   ]
  },
  {
   "cell_type": "code",
   "execution_count": 24,
   "metadata": {},
   "outputs": [
    {
     "name": "stdout",
     "output_type": "stream",
     "text": [
      "Actual Value: 1.0\n",
      "Prediction before training: 0.5425\n",
      "\n",
      "loss.data=0.2093\n",
      "loss.data=0.0335\n",
      "loss.data=0.0051\n",
      "loss.data=0.0008\n",
      "loss.data=0.0001\n",
      "\n",
      "Prediction after training: 0.9959\n"
     ]
    }
   ],
   "source": [
    "print(f'Actual Value: {y[0].data}')\n",
    "print(f'Prediction before training: {nn(x).data:.4f}\\n')\n",
    "for _ in range(5):\n",
    "    yhat = nn(x)\n",
    "    loss = mse(y, yhat)\n",
    "    print(f'{loss.data=:0.4f}')\n",
    "    loss.backward()\n",
    "    update_weights(nn, learning_rate=0.05)\n",
    "    \n",
    "print(f'\\nPrediction after training: {nn(x).data:.4f}')"
   ]
  },
  {
   "cell_type": "markdown",
   "metadata": {},
   "source": [
    "Now, training on a fake \"dataset\" consisting of one single datapoint isn't exactly interesting, realistic, nor really in the spirit of deep learning. So let's try to train our network on something more akin to a real dataset."
   ]
  },
  {
   "cell_type": "markdown",
   "metadata": {},
   "source": [
    "## Training on a real dataset"
   ]
  },
  {
   "cell_type": "code",
   "execution_count": null,
   "metadata": {},
   "outputs": [],
   "source": []
  }
 ],
 "metadata": {
  "kernelspec": {
   "display_name": "Python 3",
   "language": "python",
   "name": "python3"
  },
  "language_info": {
   "codemirror_mode": {
    "name": "ipython",
    "version": 3
   },
   "file_extension": ".py",
   "mimetype": "text/x-python",
   "name": "python",
   "nbconvert_exporter": "python",
   "pygments_lexer": "ipython3",
   "version": "3.10.5"
  },
  "orig_nbformat": 4
 },
 "nbformat": 4,
 "nbformat_minor": 2
}
