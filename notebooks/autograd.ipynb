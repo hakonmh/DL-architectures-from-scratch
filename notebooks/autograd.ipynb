{
 "cells": [
  {
   "cell_type": "markdown",
   "metadata": {},
   "source": [
    "# Backpropagation from scratch\n",
    "\n",
    "Here we're going to implement backpropagation from scratch using only standard Python. We start as simple as defining what a derivative is and work our way up from there.\n",
    "\n",
    "This notebook loans heavily from Andrej Kaparthys [Spelled-out intro to neural networks and backpropagation](https://www.youtube.com/watch?v=VMj-3S1tku0) video.\n",
    "\n",
    "### Background\n",
    "\n",
    "Training a neural network (NN) happens in two steps:\n",
    "\n",
    "**Forward Propagation**: In forward prop, the NN makes its best guess about the correct output. It runs the input data through each of its functions to make this guess.\n",
    "\n",
    "**Backward Propagation**: In backprop, the NN adjusts its parameters proportionate to the error in its guess. It does this by traversing backwards from the output, collecting the *derivatives* of the error with respect to the parameters of the functions (gradients), and uses this gradient to adjust its internal values.\n",
    "\n",
    "By starting this series with implementing backprop we lay the groundwork used to train any NN, regardless of its architecture.\n",
    "Making it the natural starting point."
   ]
  },
  {
   "cell_type": "code",
   "execution_count": 1,
   "metadata": {},
   "outputs": [],
   "source": [
    "# To allow importing modules from nnfs, can be ignored\n",
    "import sys\n",
    "import os\n",
    "\n",
    "# Get the absolute path of the 'src' directory\n",
    "src_dir = os.path.abspath(os.path.join(os.getcwd(), os.pardir))\n",
    "\n",
    "# Add 'src' directory to the Python path\n",
    "if src_dir not in sys.path:\n",
    "    sys.path.append(src_dir)"
   ]
  },
  {
   "cell_type": "code",
   "execution_count": 2,
   "metadata": {},
   "outputs": [],
   "source": [
    "import math\n",
    "import numpy as np\n",
    "import matplotlib.pyplot as plt\n",
    "from nnfs.trace_graph import draw_dot  # Must first download graphviz: https://graphviz.org/download/\n",
    "%matplotlib inline"
   ]
  },
  {
   "cell_type": "markdown",
   "metadata": {},
   "source": [
    "## Derivatives\n",
    "\n",
    "A derivative represents the rate at which a function changes. In everyday language, think of it as the \"slope\" at a particular point. For instance, if you were driving a car and the speedometer reads 60 mph, that's the rate at which your position changes with respect to time. In the world of mathematics, we often talk about the derivative of a function with respect to its variable, like how $f(x)$ changes as $x$ changes.\n"
   ]
  },
  {
   "cell_type": "code",
   "execution_count": 3,
   "metadata": {},
   "outputs": [],
   "source": [
    "def f(x):\n",
    "    return x**3\n",
    "\n",
    "def slope(x):  # The derivative of f(x)\n",
    "    return 3*x**2"
   ]
  },
  {
   "cell_type": "code",
   "execution_count": 4,
   "metadata": {},
   "outputs": [
    {
     "data": {
      "image/png": "[encoded data removed]",
      "text/plain": [
       "<Figure size 432x360 with 1 Axes>"
      ]
     },
     "metadata": {
      "needs_background": "light"
     },
     "output_type": "display_data"
    }
   ],
   "source": [
    "x_range = np.arange(-1, 2, 0.05)\n",
    "y = f(x_range)\n",
    "\n",
    "x_tangent = np.linspace(0.3, 1.8, 100)\n",
    "x1 = 1\n",
    "y1 = slope(x1)\n",
    "y_tangent = y1 * (x_tangent - x1) + f(x1)\n",
    "\n",
    "plt.figure(figsize=(6, 5))\n",
    "plt.plot(x_range, y)\n",
    "plt.grid()\n",
    "plt.plot(x_tangent, y_tangent, 'r--')\n",
    "plt.figtext(\n",
    "    0.05, -0.05, \n",
    "    'The derivative of the function $x^3$ at $x=1$ is equal to the slope \\nof the red line (eq. to 3).', \n",
    "    ha=\"left\", fontsize=12)\n",
    "plt.show()"
   ]
  },
  {
   "cell_type": "markdown",
   "metadata": {},
   "source": [
    "The derivative of a function $f(x)$ is often denoted by $f'(x)$, or $\\frac{dy}{dx}$, if we define $y=f(x)$. To find the derivative, we use the concept of limits. The mathematical definition of the derivative of $f$ at a point $x$ is:\n",
    "\n",
    "$\\frac{dy}{dx} = \\lim_{{h \\to 0}} \\frac{f(x+h) - f(x)}{h}​$\n",
    "\n",
    "Where $\\lim_{{h \\to 0}}$ means that we want to make the interval $h$ as tiny as possible, or in mathematical terms, we want to make $h$ approach zero.\n",
    "\n",
    "This formula essentially computes the slope of the function $f$ at the point $x$ by seeing how much $f(x)$ changes (the difference in the function's values) over a tiny interval $h$, and then finding what this rate becomes as that tiny interval $h$ approaches zero. \n",
    "\n",
    "We can test this equation by computing the derivative seen in the plot above."
   ]
  },
  {
   "cell_type": "code",
   "execution_count": 5,
   "metadata": {},
   "outputs": [
    {
     "name": "stdout",
     "output_type": "stream",
     "text": [
      "Numerical approximation of dy/dx of f(x) at x = 1\n",
      "Interval size: 0.1 \t dy/dx: 3.310000000000004\n",
      "Interval size: 0.01 \t dy/dx: 3.0301000000000133\n",
      "Interval size: 0.001 \t dy/dx: 3.0030009999997276\n",
      "Interval size: 1e-16 \t dy/dx: 0.0\t\t<-- Rounding error since h is too small to be properly represented by a float\n"
     ]
    }
   ],
   "source": [
    "print(f\"Numerical approximation of dy/dx of f(x) at x = 1\")\n",
    "x = 1\n",
    "y = f(x)\n",
    "\n",
    "h1 = 0.1  # Interval size\n",
    "dydx1 = (f(x + h1) - f(x)) / h1\n",
    "print(f'Interval size: {h1} \\t dy/dx: {dydx1}')\n",
    "\n",
    "h2 = 0.01\n",
    "dydx2 = (f(x + h2) - f(x)) / h2\n",
    "print(f'Interval size: {h2} \\t dy/dx: {dydx2}')\n",
    "\n",
    "h3 = 0.001\n",
    "dydx3 = (f(x + h3) - f(x)) / h3\n",
    "print(f'Interval size: {h3} \\t dy/dx: {dydx3}')\n",
    "\n",
    "h4 = 1e-16\n",
    "dydx4 = (f(x + h4) - f(x)) / h4\n",
    "print(f'Interval size: {h4} \\t dy/dx: {dydx4}\\t\\t'\n",
    "      '<-- Rounding error since h is too small to be properly represented by a float')"
   ]
  },
  {
   "cell_type": "markdown",
   "metadata": {},
   "source": [
    "As you can see, as $h$ gets smaller and smaller our approximation gets closer and closer to $\\frac{dy}{dx}=3$. "
   ]
  },
  {
   "cell_type": "markdown",
   "metadata": {},
   "source": [
    "#### Derivative of a function with multiple inputs\n",
    "\n",
    "We'll now test something a bit more complex: A function with multiple inputs. \n",
    "\n",
    "Let's say we have a function $f(a,\\,b,\\,c)$. Then the derivatives of the function for the variables $a$, $b$, and $c$ are denoted $\\frac{dy}{da}$, $\\frac{dy}{db}$, and $\\frac{dy}{dc}$. We can take the derivative of each variable by holding the other variables constant. For example, $\\frac{dy}{da}$ is the slope of $y$ with respect to $a$ while holding $b$ and $c$ constant. Using the definition of a derivative above we get the following formulas:\n",
    "\n",
    "$\\frac{dy}{da} = \\lim_{{h \\to 0}} \\frac{f(a+h,\\,b,\\,c) - f(a, b, c)}{h}​$\n",
    "\n",
    "$\\frac{dy}{db} = \\lim_{{h \\to 0}} \\frac{f(a,\\,b+h,\\,c) - f(a, b, c)}{h}​$\n",
    "\n",
    "$\\frac{dy}{dc} = \\lim_{{h \\to 0}} \\frac{f(a,\\,b,\\,c+h) - f(a, b, c)}{h}​$\n",
    "\n",
    "Let's see this in action in code:"
   ]
  },
  {
   "cell_type": "code",
   "execution_count": 6,
   "metadata": {},
   "outputs": [],
   "source": [
    "def f(a, b, c):\n",
    "    return a * b + c\n",
    "\n",
    "a = 5\n",
    "b = 2\n",
    "c = -3\n",
    "fx = f(a, b, c)  # 5 * 2 - 3 = 7"
   ]
  },
  {
   "cell_type": "markdown",
   "metadata": {},
   "source": [
    "We'll start with $\\frac{dy}{da}$. \n",
    "\n",
    "Intuitively, we can think of it as the slope of the function $y$ with respect to $a$. I.e. how much does $y$ change when $a$ changes by a tiny bit. This should be simple to reason about in the case of $a*b + c$: If $a$ increases by a tiny bit, we can see that $a*b + c$ will increase proportionally by $b$. So we get $\\frac{dy}{da} = b = 2$, which can be verified numerically."
   ]
  },
  {
   "cell_type": "code",
   "execution_count": 7,
   "metadata": {},
   "outputs": [
    {
     "data": {
      "text/plain": [
       "2.000000000000668"
      ]
     },
     "execution_count": 7,
     "metadata": {},
     "output_type": "execute_result"
    }
   ],
   "source": [
    "h = 0.001\n",
    "dy_da = (f(a+h, b, c) - f(a, b, c))/h\n",
    "dy_da"
   ]
  },
  {
   "cell_type": "markdown",
   "metadata": {},
   "source": [
    "The same line of thought can be extended to $b$ and $c$ as well. Increasing $b$ a tiny bit should increas $a*b + c$ proportionally by $a$ (i.e. $5$), while increasing $c$ a tiny bit should increase $a*b + c$ by $1$."
   ]
  },
  {
   "cell_type": "code",
   "execution_count": 8,
   "metadata": {},
   "outputs": [
    {
     "name": "stdout",
     "output_type": "stream",
     "text": [
      "4.999999999999005\n",
      "0.9999999999994458\n"
     ]
    }
   ],
   "source": [
    "dy_db = (f(a, b+h, c) - f(a, b, c))/h\n",
    "print(dy_db)\n",
    "\n",
    "dy_dc = (f(a, b, c+h) - f(a, b, c))/h\n",
    "print(dy_dc)"
   ]
  },
  {
   "cell_type": "markdown",
   "metadata": {},
   "source": [
    "Taking the derivative of a function with multiple variables by holding the other variables constant is called a partial derivative."
   ]
  },
  {
   "cell_type": "markdown",
   "metadata": {},
   "source": [
    "### The Value object - Part I\n",
    "\n",
    "Neural networks will usually be pretty massive expressions. So we'll need a data structure that maintains the expression tree and allows us to compute the gradients of the expression with respect to its inputs. We'll call this data structure a `Value` object.\n",
    "\n",
    "We'll implement it in iterations to get a better understanding of what it does. In this first iteration, we'll just implement a object that holds a single value, print it, and do basic arithmetic with it."
   ]
  },
  {
   "cell_type": "code",
   "execution_count": 9,
   "metadata": {},
   "outputs": [],
   "source": [
    "class Value:\n",
    "    def __init__(self, data):\n",
    "        self.data = data\n",
    "\n",
    "    def __repr__(self):\n",
    "        return f\"Value({self.data})\"\n",
    "    \n",
    "    def __add__ (self, other):\n",
    "        out = Value(self.data + other.data)\n",
    "        return out\n",
    "    \n",
    "    def __mul__ (self, other):\n",
    "        out = Value(self.data * other.data)\n",
    "        return out\n",
    "    \n",
    "    def __pow__ (self, other):\n",
    "        out = Value(self.data ** other.data)\n",
    "        return out\n",
    "\n",
    "    def __neg__(self):\n",
    "        return self * -1"
   ]
  },
  {
   "cell_type": "code",
   "execution_count": 10,
   "metadata": {},
   "outputs": [
    {
     "data": {
      "text/plain": [
       "Value(7)"
      ]
     },
     "execution_count": 10,
     "metadata": {},
     "output_type": "execute_result"
    }
   ],
   "source": [
    "def f(a, b, c):\n",
    "    return a * b + c\n",
    "\n",
    "a = Value(5)\n",
    "b = Value(2)\n",
    "c = Value(-3)\n",
    "\n",
    "y = f(a, b, c)\n",
    "y"
   ]
  },
  {
   "cell_type": "markdown",
   "metadata": {},
   "source": [
    "A pretty simple data structure so far.\n",
    "The next step is to add the expression tree to our data structure so that we can keep track of what expressions produced what value."
   ]
  },
  {
   "cell_type": "code",
   "execution_count": 11,
   "metadata": {},
   "outputs": [],
   "source": [
    "class Value:\n",
    "    def __init__(self, data):\n",
    "        self.data = data\n",
    "        self._children = set()\n",
    "        self._operator = ''\n",
    "        self.grad = 0  # Implemented later, ignore for now\n",
    "        \n",
    "    @classmethod\n",
    "    def _from_operation(cls, data, children, operator):\n",
    "        # Creates a new Value object from an operation and \n",
    "        # # stores the children and operator used to produce it.\n",
    "        out = cls(data)\n",
    "        out._children = set(children)\n",
    "        out._operator = operator\n",
    "        return out\n",
    "\n",
    "    def __repr__(self):\n",
    "        return f\"Value({self.data})\"\n",
    "    \n",
    "    def __add__ (self, other):\n",
    "        out = Value._from_operation(self.data + other.data, (self, other), '+')\n",
    "        return out\n",
    "\n",
    "    def __sub__ (self, other):\n",
    "        out = Value._from_operation(self.data - other.data, (self, other), '-')\n",
    "        return out\n",
    "    \n",
    "    def __mul__ (self, other):\n",
    "        out = Value._from_operation(self.data * other.data, (self, other), '*')\n",
    "        return out\n",
    "    \n",
    "    def __pow__ (self, other):\n",
    "        out = Value._from_operation(self.data ** other.data, (self, other), '**')\n",
    "        return out\n",
    "\n",
    "    def __neg__(self):\n",
    "        return self * -1"
   ]
  },
  {
   "cell_type": "code",
   "execution_count": 12,
   "metadata": {},
   "outputs": [
    {
     "name": "stdout",
     "output_type": "stream",
     "text": [
      "Value(7)\n",
      "{Value(-3), Value(10)}\n",
      "+\n"
     ]
    }
   ],
   "source": [
    "def f(a, b, c):\n",
    "    return a * b + c\n",
    "\n",
    "a = Value(5)\n",
    "b = Value(2)\n",
    "c = Value(-3)\n",
    "\n",
    "y = f(a, b, c)\n",
    "print(y)\n",
    "print(y._children)  # = {Value(a*b), c} since + is applied last \n",
    "print(y._operator)"
   ]
  },
  {
   "cell_type": "markdown",
   "metadata": {},
   "source": [
    "This data structure works recursively. So if `y`'s children has any children of their own, they can be accessed through the `y._children` attribute. With this recursiveness we have a data structure able to store any expression.\n",
    "\n",
    "To view these expressions we can use the `draw_dot` function (imported at the start).\n",
    "\n",
    "(The implementation of `draw_dot` is not important for understanding the contents of the notebook, so we will not go into it.)"
   ]
  },
  {
   "cell_type": "code",
   "execution_count": 13,
   "metadata": {},
   "outputs": [
    {
     "data": {
      "image/svg+xml": [
       "<?xml version=\"1.0\" encoding=\"UTF-8\" standalone=\"no\"?>\n",
       "<!DOCTYPE svg PUBLIC \"-//W3C//DTD SVG 1.1//EN\"\n",
       " \"http://www.w3.org/Graphics/SVG/1.1/DTD/svg11.dtd\">\n",
       "<!-- Generated by graphviz version 8.0.5 (20230430.1635)\n",
       " -->\n",
       "<!-- Pages: 1 -->\n",
       "<svg width=\"754pt\" height=\"127pt\"\n",
       " viewBox=\"0.00 0.00 754.25 127.00\" xmlns=\"http://www.w3.org/2000/svg\" xmlns:xlink=\"http://www.w3.org/1999/xlink\">\n",
       "<g id=\"graph0\" class=\"graph\" transform=\"scale(1 1) rotate(0) translate(4 123)\">\n",
       "<polygon fill=\"white\" stroke=\"none\" points=\"-4,4 -4,-123 750.25,-123 750.25,4 -4,4\"/>\n",
       "<!-- 2841363715104 -->\n",
       "<g id=\"node1\" class=\"node\">\n",
       "<title>2841363715104</title>\n",
       "<polygon fill=\"none\" stroke=\"black\" points=\"289.62,-82.5 289.62,-118.5 456.62,-118.5 456.62,-82.5 289.62,-82.5\"/>\n",
       "<text text-anchor=\"middle\" x=\"332.12\" y=\"-95.2\" font-family=\"Times New Roman,serif\" font-size=\"14.00\">data &#45;3.0000</text>\n",
       "<polyline fill=\"none\" stroke=\"black\" points=\"374.62,-82.75 374.62,-118.5\"/>\n",
       "<text text-anchor=\"middle\" x=\"415.62\" y=\"-95.2\" font-family=\"Times New Roman,serif\" font-size=\"14.00\">grad 0.0000</text>\n",
       "</g>\n",
       "<!-- 2841363714384+ -->\n",
       "<g id=\"node4\" class=\"node\">\n",
       "<title>2841363714384+</title>\n",
       "<ellipse fill=\"none\" stroke=\"black\" cx=\"520.75\" cy=\"-72.5\" rx=\"27\" ry=\"18\"/>\n",
       "<text text-anchor=\"middle\" x=\"520.75\" y=\"-67.08\" font-family=\"Times New Roman,serif\" font-size=\"14.00\">+</text>\n",
       "</g>\n",
       "<!-- 2841363715104&#45;&gt;2841363714384+ -->\n",
       "<g id=\"edge6\" class=\"edge\">\n",
       "<title>2841363715104&#45;&gt;2841363714384+</title>\n",
       "<path fill=\"none\" stroke=\"black\" d=\"M456.3,-84.7C465.9,-82.85 475.28,-81.05 483.75,-79.42\"/>\n",
       "<polygon fill=\"black\" stroke=\"black\" points=\"484.16,-82.72 493.32,-77.39 482.84,-75.84 484.16,-82.72\"/>\n",
       "</g>\n",
       "<!-- 2841363713232 -->\n",
       "<g id=\"node2\" class=\"node\">\n",
       "<title>2841363713232</title>\n",
       "<polygon fill=\"none\" stroke=\"black\" points=\"0,-55.5 0,-91.5 162.5,-91.5 162.5,-55.5 0,-55.5\"/>\n",
       "<text text-anchor=\"middle\" x=\"40.25\" y=\"-68.2\" font-family=\"Times New Roman,serif\" font-size=\"14.00\">data 2.0000</text>\n",
       "<polyline fill=\"none\" stroke=\"black\" points=\"80.5,-55.75 80.5,-91.5\"/>\n",
       "<text text-anchor=\"middle\" x=\"121.5\" y=\"-68.2\" font-family=\"Times New Roman,serif\" font-size=\"14.00\">grad 0.0000</text>\n",
       "</g>\n",
       "<!-- 2841363723744* -->\n",
       "<g id=\"node7\" class=\"node\">\n",
       "<title>2841363723744*</title>\n",
       "<ellipse fill=\"none\" stroke=\"black\" cx=\"225.5\" cy=\"-45.5\" rx=\"27\" ry=\"18\"/>\n",
       "<text text-anchor=\"middle\" x=\"225.5\" y=\"-40.08\" font-family=\"Times New Roman,serif\" font-size=\"14.00\">*</text>\n",
       "</g>\n",
       "<!-- 2841363713232&#45;&gt;2841363723744* -->\n",
       "<g id=\"edge3\" class=\"edge\">\n",
       "<title>2841363713232&#45;&gt;2841363723744*</title>\n",
       "<path fill=\"none\" stroke=\"black\" d=\"M162.11,-57.78C171.34,-55.96 180.37,-54.19 188.57,-52.57\"/>\n",
       "<polygon fill=\"black\" stroke=\"black\" points=\"189.03,-55.85 198.17,-50.49 187.68,-48.98 189.03,-55.85\"/>\n",
       "</g>\n",
       "<!-- 2841363714384 -->\n",
       "<g id=\"node3\" class=\"node\">\n",
       "<title>2841363714384</title>\n",
       "<polygon fill=\"none\" stroke=\"black\" points=\"583.75,-54.5 583.75,-90.5 746.25,-90.5 746.25,-54.5 583.75,-54.5\"/>\n",
       "<text text-anchor=\"middle\" x=\"624\" y=\"-67.2\" font-family=\"Times New Roman,serif\" font-size=\"14.00\">data 7.0000</text>\n",
       "<polyline fill=\"none\" stroke=\"black\" points=\"664.25,-54.75 664.25,-90.5\"/>\n",
       "<text text-anchor=\"middle\" x=\"705.25\" y=\"-67.2\" font-family=\"Times New Roman,serif\" font-size=\"14.00\">grad 0.0000</text>\n",
       "</g>\n",
       "<!-- 2841363714384+&#45;&gt;2841363714384 -->\n",
       "<g id=\"edge1\" class=\"edge\">\n",
       "<title>2841363714384+&#45;&gt;2841363714384</title>\n",
       "<path fill=\"none\" stroke=\"black\" d=\"M548.17,-72.5C555.62,-72.5 564.17,-72.5 573.18,-72.5\"/>\n",
       "<polygon fill=\"black\" stroke=\"black\" points=\"572.93,-76 582.93,-72.5 572.93,-69 572.93,-76\"/>\n",
       "</g>\n",
       "<!-- 2841363710352 -->\n",
       "<g id=\"node5\" class=\"node\">\n",
       "<title>2841363710352</title>\n",
       "<polygon fill=\"none\" stroke=\"black\" points=\"0,-0.5 0,-36.5 162.5,-36.5 162.5,-0.5 0,-0.5\"/>\n",
       "<text text-anchor=\"middle\" x=\"40.25\" y=\"-13.2\" font-family=\"Times New Roman,serif\" font-size=\"14.00\">data 5.0000</text>\n",
       "<polyline fill=\"none\" stroke=\"black\" points=\"80.5,-0.75 80.5,-36.5\"/>\n",
       "<text text-anchor=\"middle\" x=\"121.5\" y=\"-13.2\" font-family=\"Times New Roman,serif\" font-size=\"14.00\">grad 0.0000</text>\n",
       "</g>\n",
       "<!-- 2841363710352&#45;&gt;2841363723744* -->\n",
       "<g id=\"edge5\" class=\"edge\">\n",
       "<title>2841363710352&#45;&gt;2841363723744*</title>\n",
       "<path fill=\"none\" stroke=\"black\" d=\"M162.11,-33.66C171.34,-35.41 180.37,-37.12 188.57,-38.68\"/>\n",
       "<polygon fill=\"black\" stroke=\"black\" points=\"187.69,-42.27 198.17,-40.69 189,-35.39 187.69,-42.27\"/>\n",
       "</g>\n",
       "<!-- 2841363723744 -->\n",
       "<g id=\"node6\" class=\"node\">\n",
       "<title>2841363723744</title>\n",
       "<polygon fill=\"none\" stroke=\"black\" points=\"288.5,-27.5 288.5,-63.5 457.75,-63.5 457.75,-27.5 288.5,-27.5\"/>\n",
       "<text text-anchor=\"middle\" x=\"332.12\" y=\"-40.2\" font-family=\"Times New Roman,serif\" font-size=\"14.00\">data 10.0000</text>\n",
       "<polyline fill=\"none\" stroke=\"black\" points=\"375.75,-27.75 375.75,-63.5\"/>\n",
       "<text text-anchor=\"middle\" x=\"416.75\" y=\"-40.2\" font-family=\"Times New Roman,serif\" font-size=\"14.00\">grad 0.0000</text>\n",
       "</g>\n",
       "<!-- 2841363723744&#45;&gt;2841363714384+ -->\n",
       "<g id=\"edge4\" class=\"edge\">\n",
       "<title>2841363723744&#45;&gt;2841363714384+</title>\n",
       "<path fill=\"none\" stroke=\"black\" d=\"M457.57,-60.97C466.64,-62.65 475.49,-64.29 483.53,-65.78\"/>\n",
       "<polygon fill=\"black\" stroke=\"black\" points=\"482.83,-69.4 493.3,-67.78 484.11,-62.52 482.83,-69.4\"/>\n",
       "</g>\n",
       "<!-- 2841363723744*&#45;&gt;2841363723744 -->\n",
       "<g id=\"edge2\" class=\"edge\">\n",
       "<title>2841363723744*&#45;&gt;2841363723744</title>\n",
       "<path fill=\"none\" stroke=\"black\" d=\"M252.87,-45.5C260.29,-45.5 268.82,-45.5 277.83,-45.5\"/>\n",
       "<polygon fill=\"black\" stroke=\"black\" points=\"277.59,-49 287.59,-45.5 277.59,-42 277.59,-49\"/>\n",
       "</g>\n",
       "</g>\n",
       "</svg>\n"
      ],
      "text/plain": [
       "<graphviz.graphs.Digraph at 0x2958e799960>"
      ]
     },
     "execution_count": 13,
     "metadata": {},
     "output_type": "execute_result"
    }
   ],
   "source": [
    "draw_dot(y)"
   ]
  },
  {
   "cell_type": "markdown",
   "metadata": {},
   "source": [
    "Just ignore the *grad* part of each node for now.\n",
    "What you see is a graph representation of our expression $2*5 - 3$ used to produce $y=7$.\n",
    "\n",
    "We now have a data structure that represents any expression using the arithmetic we so far has implemented."
   ]
  },
  {
   "cell_type": "markdown",
   "metadata": {},
   "source": [
    "### Chain Rule and Backpropagation\n",
    "\n",
    "Let's start this section with a simple example, $y = (a \\times b + c) \\times f$:"
   ]
  },
  {
   "cell_type": "code",
   "execution_count": 14,
   "metadata": {},
   "outputs": [
    {
     "data": {
      "image/svg+xml": [
       "<?xml version=\"1.0\" encoding=\"UTF-8\" standalone=\"no\"?>\n",
       "<!DOCTYPE svg PUBLIC \"-//W3C//DTD SVG 1.1//EN\"\n",
       " \"http://www.w3.org/Graphics/SVG/1.1/DTD/svg11.dtd\">\n",
       "<!-- Generated by graphviz version 8.0.5 (20230430.1635)\n",
       " -->\n",
       "<!-- Pages: 1 -->\n",
       "<svg width=\"1149pt\" height=\"128pt\"\n",
       " viewBox=\"0.00 0.00 1148.75 128.00\" xmlns=\"http://www.w3.org/2000/svg\" xmlns:xlink=\"http://www.w3.org/1999/xlink\">\n",
       "<g id=\"graph0\" class=\"graph\" transform=\"scale(1 1) rotate(0) translate(4 124)\">\n",
       "<polygon fill=\"white\" stroke=\"none\" points=\"-4,4 -4,-124 1144.75,-124 1144.75,4 -4,4\"/>\n",
       "<!-- 2841363712560 -->\n",
       "<g id=\"node1\" class=\"node\">\n",
       "<title>2841363712560</title>\n",
       "<polygon fill=\"none\" stroke=\"black\" points=\"313.5,-83.5 313.5,-119.5 503.25,-119.5 503.25,-83.5 313.5,-83.5\"/>\n",
       "<text text-anchor=\"middle\" x=\"324.88\" y=\"-96.2\" font-family=\"Times New Roman,serif\" font-size=\"14.00\">c</text>\n",
       "<polyline fill=\"none\" stroke=\"black\" points=\"336.25,-83.75 336.25,-119.5\"/>\n",
       "<text text-anchor=\"middle\" x=\"378.75\" y=\"-96.2\" font-family=\"Times New Roman,serif\" font-size=\"14.00\">data &#45;3.0000</text>\n",
       "<polyline fill=\"none\" stroke=\"black\" points=\"421.25,-83.75 421.25,-119.5\"/>\n",
       "<text text-anchor=\"middle\" x=\"462.25\" y=\"-96.2\" font-family=\"Times New Roman,serif\" font-size=\"14.00\">grad 0.0000</text>\n",
       "</g>\n",
       "<!-- 2841363712800+ -->\n",
       "<g id=\"node6\" class=\"node\">\n",
       "<title>2841363712800+</title>\n",
       "<ellipse fill=\"none\" stroke=\"black\" cx=\"567.75\" cy=\"-73.5\" rx=\"27\" ry=\"18\"/>\n",
       "<text text-anchor=\"middle\" x=\"567.75\" y=\"-68.08\" font-family=\"Times New Roman,serif\" font-size=\"14.00\">+</text>\n",
       "</g>\n",
       "<!-- 2841363712560&#45;&gt;2841363712800+ -->\n",
       "<g id=\"edge9\" class=\"edge\">\n",
       "<title>2841363712560&#45;&gt;2841363712800+</title>\n",
       "<path fill=\"none\" stroke=\"black\" d=\"M503.19,-84.81C512.79,-83.1 522.07,-81.45 530.44,-79.96\"/>\n",
       "<polygon fill=\"black\" stroke=\"black\" points=\"531,-83.24 540.23,-78.04 529.77,-76.35 531,-83.24\"/>\n",
       "</g>\n",
       "<!-- 2841363713616 -->\n",
       "<g id=\"node2\" class=\"node\">\n",
       "<title>2841363713616</title>\n",
       "<polygon fill=\"none\" stroke=\"black\" points=\"630.75,-0.5 630.75,-36.5 818.25,-36.5 818.25,-0.5 630.75,-0.5\"/>\n",
       "<text text-anchor=\"middle\" x=\"641\" y=\"-13.2\" font-family=\"Times New Roman,serif\" font-size=\"14.00\">f</text>\n",
       "<polyline fill=\"none\" stroke=\"black\" points=\"651.25,-0.75 651.25,-36.5\"/>\n",
       "<text text-anchor=\"middle\" x=\"693.75\" y=\"-13.2\" font-family=\"Times New Roman,serif\" font-size=\"14.00\">data &#45;4.0000</text>\n",
       "<polyline fill=\"none\" stroke=\"black\" points=\"736.25,-0.75 736.25,-36.5\"/>\n",
       "<text text-anchor=\"middle\" x=\"777.25\" y=\"-13.2\" font-family=\"Times New Roman,serif\" font-size=\"14.00\">grad 0.0000</text>\n",
       "</g>\n",
       "<!-- 2841363712992* -->\n",
       "<g id=\"node10\" class=\"node\">\n",
       "<title>2841363712992*</title>\n",
       "<ellipse fill=\"none\" stroke=\"black\" cx=\"881.25\" cy=\"-45.5\" rx=\"27\" ry=\"18\"/>\n",
       "<text text-anchor=\"middle\" x=\"881.25\" y=\"-40.08\" font-family=\"Times New Roman,serif\" font-size=\"14.00\">*</text>\n",
       "</g>\n",
       "<!-- 2841363713616&#45;&gt;2841363712992* -->\n",
       "<g id=\"edge8\" class=\"edge\">\n",
       "<title>2841363713616&#45;&gt;2841363712992*</title>\n",
       "<path fill=\"none\" stroke=\"black\" d=\"M818.2,-34.67C827.3,-36.26 836.1,-37.8 844.08,-39.19\"/>\n",
       "<polygon fill=\"black\" stroke=\"black\" points=\"843.31,-42.78 853.76,-41.05 844.51,-35.89 843.31,-42.78\"/>\n",
       "</g>\n",
       "<!-- 2841363721344 -->\n",
       "<g id=\"node3\" class=\"node\">\n",
       "<title>2841363721344</title>\n",
       "<polygon fill=\"none\" stroke=\"black\" points=\"0.75,-56.5 0.75,-92.5 185.25,-92.5 185.25,-56.5 0.75,-56.5\"/>\n",
       "<text text-anchor=\"middle\" x=\"11.75\" y=\"-69.2\" font-family=\"Times New Roman,serif\" font-size=\"14.00\">a</text>\n",
       "<polyline fill=\"none\" stroke=\"black\" points=\"22.75,-56.75 22.75,-92.5\"/>\n",
       "<text text-anchor=\"middle\" x=\"63\" y=\"-69.2\" font-family=\"Times New Roman,serif\" font-size=\"14.00\">data 5.0000</text>\n",
       "<polyline fill=\"none\" stroke=\"black\" points=\"103.25,-56.75 103.25,-92.5\"/>\n",
       "<text text-anchor=\"middle\" x=\"144.25\" y=\"-69.2\" font-family=\"Times New Roman,serif\" font-size=\"14.00\">grad 0.0000</text>\n",
       "</g>\n",
       "<!-- 2841363715008* -->\n",
       "<g id=\"node8\" class=\"node\">\n",
       "<title>2841363715008*</title>\n",
       "<ellipse fill=\"none\" stroke=\"black\" cx=\"249\" cy=\"-46.5\" rx=\"27\" ry=\"18\"/>\n",
       "<text text-anchor=\"middle\" x=\"249\" y=\"-41.08\" font-family=\"Times New Roman,serif\" font-size=\"14.00\">*</text>\n",
       "</g>\n",
       "<!-- 2841363721344&#45;&gt;2841363715008* -->\n",
       "<g id=\"edge5\" class=\"edge\">\n",
       "<title>2841363721344&#45;&gt;2841363715008*</title>\n",
       "<path fill=\"none\" stroke=\"black\" d=\"M184.92,-57.97C194.41,-56.24 203.61,-54.57 211.91,-53.06\"/>\n",
       "<polygon fill=\"black\" stroke=\"black\" points=\"212.41,-56.35 221.63,-51.11 211.16,-49.46 212.41,-56.35\"/>\n",
       "</g>\n",
       "<!-- 2841363712656 -->\n",
       "<g id=\"node4\" class=\"node\">\n",
       "<title>2841363712656</title>\n",
       "<polygon fill=\"none\" stroke=\"black\" points=\"0,-1.5 0,-37.5 186,-37.5 186,-1.5 0,-1.5\"/>\n",
       "<text text-anchor=\"middle\" x=\"11.75\" y=\"-14.2\" font-family=\"Times New Roman,serif\" font-size=\"14.00\">b</text>\n",
       "<polyline fill=\"none\" stroke=\"black\" points=\"23.5,-1.75 23.5,-37.5\"/>\n",
       "<text text-anchor=\"middle\" x=\"63.75\" y=\"-14.2\" font-family=\"Times New Roman,serif\" font-size=\"14.00\">data 2.0000</text>\n",
       "<polyline fill=\"none\" stroke=\"black\" points=\"104,-1.75 104,-37.5\"/>\n",
       "<text text-anchor=\"middle\" x=\"145\" y=\"-14.2\" font-family=\"Times New Roman,serif\" font-size=\"14.00\">grad 0.0000</text>\n",
       "</g>\n",
       "<!-- 2841363712656&#45;&gt;2841363715008* -->\n",
       "<g id=\"edge6\" class=\"edge\">\n",
       "<title>2841363712656&#45;&gt;2841363715008*</title>\n",
       "<path fill=\"none\" stroke=\"black\" d=\"M185.81,-35.6C194.91,-37.19 203.73,-38.74 211.73,-40.14\"/>\n",
       "<polygon fill=\"black\" stroke=\"black\" points=\"210.98,-43.74 221.43,-42.02 212.18,-36.84 210.98,-43.74\"/>\n",
       "</g>\n",
       "<!-- 2841363712800 -->\n",
       "<g id=\"node5\" class=\"node\">\n",
       "<title>2841363712800</title>\n",
       "<polygon fill=\"none\" stroke=\"black\" points=\"632.25,-55.5 632.25,-91.5 816.75,-91.5 816.75,-55.5 632.25,-55.5\"/>\n",
       "<text text-anchor=\"middle\" x=\"643.25\" y=\"-68.2\" font-family=\"Times New Roman,serif\" font-size=\"14.00\">e</text>\n",
       "<polyline fill=\"none\" stroke=\"black\" points=\"654.25,-55.75 654.25,-91.5\"/>\n",
       "<text text-anchor=\"middle\" x=\"694.5\" y=\"-68.2\" font-family=\"Times New Roman,serif\" font-size=\"14.00\">data 7.0000</text>\n",
       "<polyline fill=\"none\" stroke=\"black\" points=\"734.75,-55.75 734.75,-91.5\"/>\n",
       "<text text-anchor=\"middle\" x=\"775.75\" y=\"-68.2\" font-family=\"Times New Roman,serif\" font-size=\"14.00\">grad 0.0000</text>\n",
       "</g>\n",
       "<!-- 2841363712800&#45;&gt;2841363712992* -->\n",
       "<g id=\"edge7\" class=\"edge\">\n",
       "<title>2841363712800&#45;&gt;2841363712992*</title>\n",
       "<path fill=\"none\" stroke=\"black\" d=\"M816.41,-57.05C826.2,-55.28 835.69,-53.56 844.23,-52.02\"/>\n",
       "<polygon fill=\"black\" stroke=\"black\" points=\"844.64,-55.32 853.86,-50.09 843.39,-48.43 844.64,-55.32\"/>\n",
       "</g>\n",
       "<!-- 2841363712800+&#45;&gt;2841363712800 -->\n",
       "<g id=\"edge1\" class=\"edge\">\n",
       "<title>2841363712800+&#45;&gt;2841363712800</title>\n",
       "<path fill=\"none\" stroke=\"black\" d=\"M595,-73.5C602.85,-73.5 611.98,-73.5 621.67,-73.5\"/>\n",
       "<polygon fill=\"black\" stroke=\"black\" points=\"621.38,-77 631.38,-73.5 621.38,-70 621.38,-77\"/>\n",
       "</g>\n",
       "<!-- 2841363715008 -->\n",
       "<g id=\"node7\" class=\"node\">\n",
       "<title>2841363715008</title>\n",
       "<polygon fill=\"none\" stroke=\"black\" points=\"312,-28.5 312,-64.5 504.75,-64.5 504.75,-28.5 312,-28.5\"/>\n",
       "<text text-anchor=\"middle\" x=\"323.75\" y=\"-41.2\" font-family=\"Times New Roman,serif\" font-size=\"14.00\">d</text>\n",
       "<polyline fill=\"none\" stroke=\"black\" points=\"335.5,-28.75 335.5,-64.5\"/>\n",
       "<text text-anchor=\"middle\" x=\"379.12\" y=\"-41.2\" font-family=\"Times New Roman,serif\" font-size=\"14.00\">data 10.0000</text>\n",
       "<polyline fill=\"none\" stroke=\"black\" points=\"422.75,-28.75 422.75,-64.5\"/>\n",
       "<text text-anchor=\"middle\" x=\"463.75\" y=\"-41.2\" font-family=\"Times New Roman,serif\" font-size=\"14.00\">grad 0.0000</text>\n",
       "</g>\n",
       "<!-- 2841363715008&#45;&gt;2841363712800+ -->\n",
       "<g id=\"edge4\" class=\"edge\">\n",
       "<title>2841363715008&#45;&gt;2841363712800+</title>\n",
       "<path fill=\"none\" stroke=\"black\" d=\"M504.55,-62.83C513.7,-64.4 522.54,-65.92 530.55,-67.29\"/>\n",
       "<polygon fill=\"black\" stroke=\"black\" points=\"529.8,-70.88 540.25,-69.12 530.98,-63.98 529.8,-70.88\"/>\n",
       "</g>\n",
       "<!-- 2841363715008*&#45;&gt;2841363715008 -->\n",
       "<g id=\"edge2\" class=\"edge\">\n",
       "<title>2841363715008*&#45;&gt;2841363715008</title>\n",
       "<path fill=\"none\" stroke=\"black\" d=\"M276.34,-46.5C283.7,-46.5 292.18,-46.5 301.2,-46.5\"/>\n",
       "<polygon fill=\"black\" stroke=\"black\" points=\"301.02,-50 311.02,-46.5 301.02,-43 301.02,-50\"/>\n",
       "</g>\n",
       "<!-- 2841363712992 -->\n",
       "<g id=\"node9\" class=\"node\">\n",
       "<title>2841363712992</title>\n",
       "<polygon fill=\"none\" stroke=\"black\" points=\"944.25,-27.5 944.25,-63.5 1140.75,-63.5 1140.75,-27.5 944.25,-27.5\"/>\n",
       "<text text-anchor=\"middle\" x=\"955.62\" y=\"-40.2\" font-family=\"Times New Roman,serif\" font-size=\"14.00\">y</text>\n",
       "<polyline fill=\"none\" stroke=\"black\" points=\"967,-27.75 967,-63.5\"/>\n",
       "<text text-anchor=\"middle\" x=\"1012.88\" y=\"-40.2\" font-family=\"Times New Roman,serif\" font-size=\"14.00\">data &#45;28.0000</text>\n",
       "<polyline fill=\"none\" stroke=\"black\" points=\"1058.75,-27.75 1058.75,-63.5\"/>\n",
       "<text text-anchor=\"middle\" x=\"1099.75\" y=\"-40.2\" font-family=\"Times New Roman,serif\" font-size=\"14.00\">grad 0.0000</text>\n",
       "</g>\n",
       "<!-- 2841363712992*&#45;&gt;2841363712992 -->\n",
       "<g id=\"edge3\" class=\"edge\">\n",
       "<title>2841363712992*&#45;&gt;2841363712992</title>\n",
       "<path fill=\"none\" stroke=\"black\" d=\"M908.55,-45.5C915.91,-45.5 924.4,-45.5 933.46,-45.5\"/>\n",
       "<polygon fill=\"black\" stroke=\"black\" points=\"933.32,-49 943.32,-45.5 933.32,-42 933.32,-49\"/>\n",
       "</g>\n",
       "</g>\n",
       "</svg>\n"
      ],
      "text/plain": [
       "<graphviz.graphs.Digraph at 0x2958e799060>"
      ]
     },
     "execution_count": 14,
     "metadata": {},
     "output_type": "execute_result"
    }
   ],
   "source": [
    "a = Value(5); a.label = 'a'\n",
    "b = Value(2); b.label = 'b'\n",
    "c = Value(-3); c.label = 'c'\n",
    "f = Value(-4); f.label = 'f'\n",
    "\n",
    "d = a * b; d.label = 'd'\n",
    "e = d + c; e.label = 'e'\n",
    "y = e * f; y.label = 'y'\n",
    "\n",
    "draw_dot(y)"
   ]
  },
  {
   "cell_type": "markdown",
   "metadata": {},
   "source": [
    "I've given each node a label so that we can refer to them more easily.\n",
    "\n",
    "What we want to accomplish here is to compute the derivative of $y$ with respect to each variable. Or, in simpler terms, we want to find how a tiny change in each variable would affect the output.\n",
    "\n",
    "We'll start simple, with $\\frac{dy}{de}$ and $\\frac{dy}{df}$. Remember that the definition of the derivative is:\n",
    "\n",
    "$\\frac{dy}{dx} = \\lim_{h \\to 0} \\frac{f(x + h) - f(x)}{h}$"
   ]
  },
  {
   "cell_type": "code",
   "execution_count": 15,
   "metadata": {},
   "outputs": [
    {
     "name": "stdout",
     "output_type": "stream",
     "text": [
      "-3.9999999999906777 7.000000000019213\n"
     ]
    }
   ],
   "source": [
    "h = Value(0.0001)\n",
    "\n",
    "dy_de = (((e + h) * f) - (e * f)).data / h.data\n",
    "dy_df = ((e * (f + h)) - (e * f)).data / h.data\n",
    "\n",
    "print(dy_de, dy_df)"
   ]
  },
  {
   "cell_type": "markdown",
   "metadata": {},
   "source": [
    "As expected. Increasing $e$ a tiny bit should increase $y$ proportionally with $f$, and vice versa for increasing $f$.\n",
    "\n",
    "Let's update our graph with our new values."
   ]
  },
  {
   "cell_type": "code",
   "execution_count": 16,
   "metadata": {},
   "outputs": [
    {
     "data": {
      "image/svg+xml": [
       "<?xml version=\"1.0\" encoding=\"UTF-8\" standalone=\"no\"?>\n",
       "<!DOCTYPE svg PUBLIC \"-//W3C//DTD SVG 1.1//EN\"\n",
       " \"http://www.w3.org/Graphics/SVG/1.1/DTD/svg11.dtd\">\n",
       "<!-- Generated by graphviz version 8.0.5 (20230430.1635)\n",
       " -->\n",
       "<!-- Pages: 1 -->\n",
       "<svg width=\"1150pt\" height=\"128pt\"\n",
       " viewBox=\"0.00 0.00 1150.25 128.00\" xmlns=\"http://www.w3.org/2000/svg\" xmlns:xlink=\"http://www.w3.org/1999/xlink\">\n",
       "<g id=\"graph0\" class=\"graph\" transform=\"scale(1 1) rotate(0) translate(4 124)\">\n",
       "<polygon fill=\"white\" stroke=\"none\" points=\"-4,4 -4,-124 1146.25,-124 1146.25,4 -4,4\"/>\n",
       "<!-- 2841363712560 -->\n",
       "<g id=\"node1\" class=\"node\">\n",
       "<title>2841363712560</title>\n",
       "<polygon fill=\"none\" stroke=\"black\" points=\"313.5,-83.5 313.5,-119.5 503.25,-119.5 503.25,-83.5 313.5,-83.5\"/>\n",
       "<text text-anchor=\"middle\" x=\"324.88\" y=\"-96.2\" font-family=\"Times New Roman,serif\" font-size=\"14.00\">c</text>\n",
       "<polyline fill=\"none\" stroke=\"black\" points=\"336.25,-83.75 336.25,-119.5\"/>\n",
       "<text text-anchor=\"middle\" x=\"378.75\" y=\"-96.2\" font-family=\"Times New Roman,serif\" font-size=\"14.00\">data &#45;3.0000</text>\n",
       "<polyline fill=\"none\" stroke=\"black\" points=\"421.25,-83.75 421.25,-119.5\"/>\n",
       "<text text-anchor=\"middle\" x=\"462.25\" y=\"-96.2\" font-family=\"Times New Roman,serif\" font-size=\"14.00\">grad 0.0000</text>\n",
       "</g>\n",
       "<!-- 2841363712800+ -->\n",
       "<g id=\"node6\" class=\"node\">\n",
       "<title>2841363712800+</title>\n",
       "<ellipse fill=\"none\" stroke=\"black\" cx=\"567.75\" cy=\"-73.5\" rx=\"27\" ry=\"18\"/>\n",
       "<text text-anchor=\"middle\" x=\"567.75\" y=\"-68.08\" font-family=\"Times New Roman,serif\" font-size=\"14.00\">+</text>\n",
       "</g>\n",
       "<!-- 2841363712560&#45;&gt;2841363712800+ -->\n",
       "<g id=\"edge9\" class=\"edge\">\n",
       "<title>2841363712560&#45;&gt;2841363712800+</title>\n",
       "<path fill=\"none\" stroke=\"black\" d=\"M503.19,-84.81C512.79,-83.1 522.07,-81.45 530.44,-79.96\"/>\n",
       "<polygon fill=\"black\" stroke=\"black\" points=\"531,-83.24 540.23,-78.04 529.77,-76.35 531,-83.24\"/>\n",
       "</g>\n",
       "<!-- 2841363713616 -->\n",
       "<g id=\"node2\" class=\"node\">\n",
       "<title>2841363713616</title>\n",
       "<polygon fill=\"none\" stroke=\"black\" points=\"631.5,-0.5 631.5,-36.5 819,-36.5 819,-0.5 631.5,-0.5\"/>\n",
       "<text text-anchor=\"middle\" x=\"641.75\" y=\"-13.2\" font-family=\"Times New Roman,serif\" font-size=\"14.00\">f</text>\n",
       "<polyline fill=\"none\" stroke=\"black\" points=\"652,-0.75 652,-36.5\"/>\n",
       "<text text-anchor=\"middle\" x=\"694.5\" y=\"-13.2\" font-family=\"Times New Roman,serif\" font-size=\"14.00\">data &#45;4.0000</text>\n",
       "<polyline fill=\"none\" stroke=\"black\" points=\"737,-0.75 737,-36.5\"/>\n",
       "<text text-anchor=\"middle\" x=\"778\" y=\"-13.2\" font-family=\"Times New Roman,serif\" font-size=\"14.00\">grad 7.0000</text>\n",
       "</g>\n",
       "<!-- 2841363712992* -->\n",
       "<g id=\"node10\" class=\"node\">\n",
       "<title>2841363712992*</title>\n",
       "<ellipse fill=\"none\" stroke=\"black\" cx=\"882.75\" cy=\"-45.5\" rx=\"27\" ry=\"18\"/>\n",
       "<text text-anchor=\"middle\" x=\"882.75\" y=\"-40.08\" font-family=\"Times New Roman,serif\" font-size=\"14.00\">*</text>\n",
       "</g>\n",
       "<!-- 2841363713616&#45;&gt;2841363712992* -->\n",
       "<g id=\"edge8\" class=\"edge\">\n",
       "<title>2841363713616&#45;&gt;2841363712992*</title>\n",
       "<path fill=\"none\" stroke=\"black\" d=\"M818.95,-34.6C828.34,-36.23 837.43,-37.8 845.64,-39.23\"/>\n",
       "<polygon fill=\"black\" stroke=\"black\" points=\"844.78,-42.81 855.23,-41.07 845.98,-35.91 844.78,-42.81\"/>\n",
       "</g>\n",
       "<!-- 2841363721344 -->\n",
       "<g id=\"node3\" class=\"node\">\n",
       "<title>2841363721344</title>\n",
       "<polygon fill=\"none\" stroke=\"black\" points=\"0.75,-56.5 0.75,-92.5 185.25,-92.5 185.25,-56.5 0.75,-56.5\"/>\n",
       "<text text-anchor=\"middle\" x=\"11.75\" y=\"-69.2\" font-family=\"Times New Roman,serif\" font-size=\"14.00\">a</text>\n",
       "<polyline fill=\"none\" stroke=\"black\" points=\"22.75,-56.75 22.75,-92.5\"/>\n",
       "<text text-anchor=\"middle\" x=\"63\" y=\"-69.2\" font-family=\"Times New Roman,serif\" font-size=\"14.00\">data 5.0000</text>\n",
       "<polyline fill=\"none\" stroke=\"black\" points=\"103.25,-56.75 103.25,-92.5\"/>\n",
       "<text text-anchor=\"middle\" x=\"144.25\" y=\"-69.2\" font-family=\"Times New Roman,serif\" font-size=\"14.00\">grad 0.0000</text>\n",
       "</g>\n",
       "<!-- 2841363715008* -->\n",
       "<g id=\"node8\" class=\"node\">\n",
       "<title>2841363715008*</title>\n",
       "<ellipse fill=\"none\" stroke=\"black\" cx=\"249\" cy=\"-46.5\" rx=\"27\" ry=\"18\"/>\n",
       "<text text-anchor=\"middle\" x=\"249\" y=\"-41.08\" font-family=\"Times New Roman,serif\" font-size=\"14.00\">*</text>\n",
       "</g>\n",
       "<!-- 2841363721344&#45;&gt;2841363715008* -->\n",
       "<g id=\"edge5\" class=\"edge\">\n",
       "<title>2841363721344&#45;&gt;2841363715008*</title>\n",
       "<path fill=\"none\" stroke=\"black\" d=\"M184.92,-57.97C194.41,-56.24 203.61,-54.57 211.91,-53.06\"/>\n",
       "<polygon fill=\"black\" stroke=\"black\" points=\"212.41,-56.35 221.63,-51.11 211.16,-49.46 212.41,-56.35\"/>\n",
       "</g>\n",
       "<!-- 2841363712656 -->\n",
       "<g id=\"node4\" class=\"node\">\n",
       "<title>2841363712656</title>\n",
       "<polygon fill=\"none\" stroke=\"black\" points=\"0,-1.5 0,-37.5 186,-37.5 186,-1.5 0,-1.5\"/>\n",
       "<text text-anchor=\"middle\" x=\"11.75\" y=\"-14.2\" font-family=\"Times New Roman,serif\" font-size=\"14.00\">b</text>\n",
       "<polyline fill=\"none\" stroke=\"black\" points=\"23.5,-1.75 23.5,-37.5\"/>\n",
       "<text text-anchor=\"middle\" x=\"63.75\" y=\"-14.2\" font-family=\"Times New Roman,serif\" font-size=\"14.00\">data 2.0000</text>\n",
       "<polyline fill=\"none\" stroke=\"black\" points=\"104,-1.75 104,-37.5\"/>\n",
       "<text text-anchor=\"middle\" x=\"145\" y=\"-14.2\" font-family=\"Times New Roman,serif\" font-size=\"14.00\">grad 0.0000</text>\n",
       "</g>\n",
       "<!-- 2841363712656&#45;&gt;2841363715008* -->\n",
       "<g id=\"edge6\" class=\"edge\">\n",
       "<title>2841363712656&#45;&gt;2841363715008*</title>\n",
       "<path fill=\"none\" stroke=\"black\" d=\"M185.81,-35.6C194.91,-37.19 203.73,-38.74 211.73,-40.14\"/>\n",
       "<polygon fill=\"black\" stroke=\"black\" points=\"210.98,-43.74 221.43,-42.02 212.18,-36.84 210.98,-43.74\"/>\n",
       "</g>\n",
       "<!-- 2841363712800 -->\n",
       "<g id=\"node5\" class=\"node\">\n",
       "<title>2841363712800</title>\n",
       "<polygon fill=\"none\" stroke=\"black\" points=\"630.75,-55.5 630.75,-91.5 819.75,-91.5 819.75,-55.5 630.75,-55.5\"/>\n",
       "<text text-anchor=\"middle\" x=\"641.75\" y=\"-68.2\" font-family=\"Times New Roman,serif\" font-size=\"14.00\">e</text>\n",
       "<polyline fill=\"none\" stroke=\"black\" points=\"652.75,-55.75 652.75,-91.5\"/>\n",
       "<text text-anchor=\"middle\" x=\"693\" y=\"-68.2\" font-family=\"Times New Roman,serif\" font-size=\"14.00\">data 7.0000</text>\n",
       "<polyline fill=\"none\" stroke=\"black\" points=\"733.25,-55.75 733.25,-91.5\"/>\n",
       "<text text-anchor=\"middle\" x=\"776.5\" y=\"-68.2\" font-family=\"Times New Roman,serif\" font-size=\"14.00\">grad &#45;4.0000</text>\n",
       "</g>\n",
       "<!-- 2841363712800&#45;&gt;2841363712992* -->\n",
       "<g id=\"edge7\" class=\"edge\">\n",
       "<title>2841363712800&#45;&gt;2841363712992*</title>\n",
       "<path fill=\"none\" stroke=\"black\" d=\"M819.4,-56.73C828.54,-55.08 837.39,-53.49 845.41,-52.04\"/>\n",
       "<polygon fill=\"black\" stroke=\"black\" points=\"845.92,-55.33 855.14,-50.11 844.68,-48.44 845.92,-55.33\"/>\n",
       "</g>\n",
       "<!-- 2841363712800+&#45;&gt;2841363712800 -->\n",
       "<g id=\"edge1\" class=\"edge\">\n",
       "<title>2841363712800+&#45;&gt;2841363712800</title>\n",
       "<path fill=\"none\" stroke=\"black\" d=\"M595.13,-73.5C602.54,-73.5 611.08,-73.5 620.16,-73.5\"/>\n",
       "<polygon fill=\"black\" stroke=\"black\" points=\"620.04,-77 630.04,-73.5 620.04,-70 620.04,-77\"/>\n",
       "</g>\n",
       "<!-- 2841363715008 -->\n",
       "<g id=\"node7\" class=\"node\">\n",
       "<title>2841363715008</title>\n",
       "<polygon fill=\"none\" stroke=\"black\" points=\"312,-28.5 312,-64.5 504.75,-64.5 504.75,-28.5 312,-28.5\"/>\n",
       "<text text-anchor=\"middle\" x=\"323.75\" y=\"-41.2\" font-family=\"Times New Roman,serif\" font-size=\"14.00\">d</text>\n",
       "<polyline fill=\"none\" stroke=\"black\" points=\"335.5,-28.75 335.5,-64.5\"/>\n",
       "<text text-anchor=\"middle\" x=\"379.12\" y=\"-41.2\" font-family=\"Times New Roman,serif\" font-size=\"14.00\">data 10.0000</text>\n",
       "<polyline fill=\"none\" stroke=\"black\" points=\"422.75,-28.75 422.75,-64.5\"/>\n",
       "<text text-anchor=\"middle\" x=\"463.75\" y=\"-41.2\" font-family=\"Times New Roman,serif\" font-size=\"14.00\">grad 0.0000</text>\n",
       "</g>\n",
       "<!-- 2841363715008&#45;&gt;2841363712800+ -->\n",
       "<g id=\"edge4\" class=\"edge\">\n",
       "<title>2841363715008&#45;&gt;2841363712800+</title>\n",
       "<path fill=\"none\" stroke=\"black\" d=\"M504.55,-62.83C513.7,-64.4 522.54,-65.92 530.55,-67.29\"/>\n",
       "<polygon fill=\"black\" stroke=\"black\" points=\"529.8,-70.88 540.25,-69.12 530.98,-63.98 529.8,-70.88\"/>\n",
       "</g>\n",
       "<!-- 2841363715008*&#45;&gt;2841363715008 -->\n",
       "<g id=\"edge2\" class=\"edge\">\n",
       "<title>2841363715008*&#45;&gt;2841363715008</title>\n",
       "<path fill=\"none\" stroke=\"black\" d=\"M276.34,-46.5C283.7,-46.5 292.18,-46.5 301.2,-46.5\"/>\n",
       "<polygon fill=\"black\" stroke=\"black\" points=\"301.02,-50 311.02,-46.5 301.02,-43 301.02,-50\"/>\n",
       "</g>\n",
       "<!-- 2841363712992 -->\n",
       "<g id=\"node9\" class=\"node\">\n",
       "<title>2841363712992</title>\n",
       "<polygon fill=\"none\" stroke=\"black\" points=\"945.75,-27.5 945.75,-63.5 1142.25,-63.5 1142.25,-27.5 945.75,-27.5\"/>\n",
       "<text text-anchor=\"middle\" x=\"957.12\" y=\"-40.2\" font-family=\"Times New Roman,serif\" font-size=\"14.00\">y</text>\n",
       "<polyline fill=\"none\" stroke=\"black\" points=\"968.5,-27.75 968.5,-63.5\"/>\n",
       "<text text-anchor=\"middle\" x=\"1014.38\" y=\"-40.2\" font-family=\"Times New Roman,serif\" font-size=\"14.00\">data &#45;28.0000</text>\n",
       "<polyline fill=\"none\" stroke=\"black\" points=\"1060.25,-27.75 1060.25,-63.5\"/>\n",
       "<text text-anchor=\"middle\" x=\"1101.25\" y=\"-40.2\" font-family=\"Times New Roman,serif\" font-size=\"14.00\">grad 1.0000</text>\n",
       "</g>\n",
       "<!-- 2841363712992*&#45;&gt;2841363712992 -->\n",
       "<g id=\"edge3\" class=\"edge\">\n",
       "<title>2841363712992*&#45;&gt;2841363712992</title>\n",
       "<path fill=\"none\" stroke=\"black\" d=\"M910.05,-45.5C917.41,-45.5 925.9,-45.5 934.96,-45.5\"/>\n",
       "<polygon fill=\"black\" stroke=\"black\" points=\"934.82,-49 944.82,-45.5 934.82,-42 934.82,-49\"/>\n",
       "</g>\n",
       "</g>\n",
       "</svg>\n"
      ],
      "text/plain": [
       "<graphviz.graphs.Digraph at 0x2958e7983a0>"
      ]
     },
     "execution_count": 16,
     "metadata": {},
     "output_type": "execute_result"
    }
   ],
   "source": [
    "y.grad = 1  # dy/dy is always equal to 1, naturally\n",
    "e.grad = dy_de\n",
    "f.grad = dy_df\n",
    "draw_dot(y)"
   ]
  },
  {
   "cell_type": "markdown",
   "metadata": {},
   "source": [
    "The next step is to compute the derivatives $\\frac{dy}{dc}$ and $\\frac{dy}{dd}$. We've done something similar already when we computed the partial derivatives of $y = a*b + c$, but we'll take a slightly different approach here.\n",
    "\n",
    "You see, our `Value` object will hold [...]"
   ]
  }
 ],
 "metadata": {
  "kernelspec": {
   "display_name": "Python 3 (ipykernel)",
   "language": "python",
   "name": "python3"
  },
  "language_info": {
   "codemirror_mode": {
    "name": "ipython",
    "version": 3
   },
   "file_extension": ".py",
   "mimetype": "text/x-python",
   "name": "python",
   "nbconvert_exporter": "python",
   "pygments_lexer": "ipython3",
   "version": "3.10.5"
  }
 },
 "nbformat": 4,
 "nbformat_minor": 2
}
